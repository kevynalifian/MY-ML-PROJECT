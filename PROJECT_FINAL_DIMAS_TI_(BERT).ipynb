{
  "nbformat": 4,
  "nbformat_minor": 0,
  "metadata": {
    "colab": {
      "provenance": [],
      "gpuType": "T4"
    },
    "kernelspec": {
      "name": "python3",
      "display_name": "Python 3"
    },
    "language_info": {
      "name": "python"
    },
    "accelerator": "GPU",
    "widgets": {
      "application/vnd.jupyter.widget-state+json": {
        "20f7710a4fe9460da8b9726fd595f879": {
          "model_module": "@jupyter-widgets/controls",
          "model_name": "HBoxModel",
          "model_module_version": "1.5.0",
          "state": {
            "_dom_classes": [],
            "_model_module": "@jupyter-widgets/controls",
            "_model_module_version": "1.5.0",
            "_model_name": "HBoxModel",
            "_view_count": null,
            "_view_module": "@jupyter-widgets/controls",
            "_view_module_version": "1.5.0",
            "_view_name": "HBoxView",
            "box_style": "",
            "children": [
              "IPY_MODEL_a9c98d522d774d1984767dbd3eab6881",
              "IPY_MODEL_55f746f4e210434ea4c4f81fd046e0a9",
              "IPY_MODEL_0d5c906e65174179becdf4074f6a1ede"
            ],
            "layout": "IPY_MODEL_3b40aec0174b42abab35d2c9a8b7f42b"
          }
        },
        "a9c98d522d774d1984767dbd3eab6881": {
          "model_module": "@jupyter-widgets/controls",
          "model_name": "HTMLModel",
          "model_module_version": "1.5.0",
          "state": {
            "_dom_classes": [],
            "_model_module": "@jupyter-widgets/controls",
            "_model_module_version": "1.5.0",
            "_model_name": "HTMLModel",
            "_view_count": null,
            "_view_module": "@jupyter-widgets/controls",
            "_view_module_version": "1.5.0",
            "_view_name": "HTMLView",
            "description": "",
            "description_tooltip": null,
            "layout": "IPY_MODEL_cfc4a4e3421f4e229d5c0a3f0d1887e6",
            "placeholder": "​",
            "style": "IPY_MODEL_4a24a7586fe9447781958c9d3d7b3a4f",
            "value": "tokenizer_config.json: 100%"
          }
        },
        "55f746f4e210434ea4c4f81fd046e0a9": {
          "model_module": "@jupyter-widgets/controls",
          "model_name": "FloatProgressModel",
          "model_module_version": "1.5.0",
          "state": {
            "_dom_classes": [],
            "_model_module": "@jupyter-widgets/controls",
            "_model_module_version": "1.5.0",
            "_model_name": "FloatProgressModel",
            "_view_count": null,
            "_view_module": "@jupyter-widgets/controls",
            "_view_module_version": "1.5.0",
            "_view_name": "ProgressView",
            "bar_style": "success",
            "description": "",
            "description_tooltip": null,
            "layout": "IPY_MODEL_9923adcc66e348b8b5a457ed7375b47c",
            "max": 28,
            "min": 0,
            "orientation": "horizontal",
            "style": "IPY_MODEL_c90509430f4b4d07bdab248419935f7e",
            "value": 28
          }
        },
        "0d5c906e65174179becdf4074f6a1ede": {
          "model_module": "@jupyter-widgets/controls",
          "model_name": "HTMLModel",
          "model_module_version": "1.5.0",
          "state": {
            "_dom_classes": [],
            "_model_module": "@jupyter-widgets/controls",
            "_model_module_version": "1.5.0",
            "_model_name": "HTMLModel",
            "_view_count": null,
            "_view_module": "@jupyter-widgets/controls",
            "_view_module_version": "1.5.0",
            "_view_name": "HTMLView",
            "description": "",
            "description_tooltip": null,
            "layout": "IPY_MODEL_28a155bc8fc349cb907af2f9bc5d4a58",
            "placeholder": "​",
            "style": "IPY_MODEL_74a9e1a481eb422aa8a795031af66275",
            "value": " 28.0/28.0 [00:00&lt;00:00, 1.97kB/s]"
          }
        },
        "3b40aec0174b42abab35d2c9a8b7f42b": {
          "model_module": "@jupyter-widgets/base",
          "model_name": "LayoutModel",
          "model_module_version": "1.2.0",
          "state": {
            "_model_module": "@jupyter-widgets/base",
            "_model_module_version": "1.2.0",
            "_model_name": "LayoutModel",
            "_view_count": null,
            "_view_module": "@jupyter-widgets/base",
            "_view_module_version": "1.2.0",
            "_view_name": "LayoutView",
            "align_content": null,
            "align_items": null,
            "align_self": null,
            "border": null,
            "bottom": null,
            "display": null,
            "flex": null,
            "flex_flow": null,
            "grid_area": null,
            "grid_auto_columns": null,
            "grid_auto_flow": null,
            "grid_auto_rows": null,
            "grid_column": null,
            "grid_gap": null,
            "grid_row": null,
            "grid_template_areas": null,
            "grid_template_columns": null,
            "grid_template_rows": null,
            "height": null,
            "justify_content": null,
            "justify_items": null,
            "left": null,
            "margin": null,
            "max_height": null,
            "max_width": null,
            "min_height": null,
            "min_width": null,
            "object_fit": null,
            "object_position": null,
            "order": null,
            "overflow": null,
            "overflow_x": null,
            "overflow_y": null,
            "padding": null,
            "right": null,
            "top": null,
            "visibility": null,
            "width": null
          }
        },
        "cfc4a4e3421f4e229d5c0a3f0d1887e6": {
          "model_module": "@jupyter-widgets/base",
          "model_name": "LayoutModel",
          "model_module_version": "1.2.0",
          "state": {
            "_model_module": "@jupyter-widgets/base",
            "_model_module_version": "1.2.0",
            "_model_name": "LayoutModel",
            "_view_count": null,
            "_view_module": "@jupyter-widgets/base",
            "_view_module_version": "1.2.0",
            "_view_name": "LayoutView",
            "align_content": null,
            "align_items": null,
            "align_self": null,
            "border": null,
            "bottom": null,
            "display": null,
            "flex": null,
            "flex_flow": null,
            "grid_area": null,
            "grid_auto_columns": null,
            "grid_auto_flow": null,
            "grid_auto_rows": null,
            "grid_column": null,
            "grid_gap": null,
            "grid_row": null,
            "grid_template_areas": null,
            "grid_template_columns": null,
            "grid_template_rows": null,
            "height": null,
            "justify_content": null,
            "justify_items": null,
            "left": null,
            "margin": null,
            "max_height": null,
            "max_width": null,
            "min_height": null,
            "min_width": null,
            "object_fit": null,
            "object_position": null,
            "order": null,
            "overflow": null,
            "overflow_x": null,
            "overflow_y": null,
            "padding": null,
            "right": null,
            "top": null,
            "visibility": null,
            "width": null
          }
        },
        "4a24a7586fe9447781958c9d3d7b3a4f": {
          "model_module": "@jupyter-widgets/controls",
          "model_name": "DescriptionStyleModel",
          "model_module_version": "1.5.0",
          "state": {
            "_model_module": "@jupyter-widgets/controls",
            "_model_module_version": "1.5.0",
            "_model_name": "DescriptionStyleModel",
            "_view_count": null,
            "_view_module": "@jupyter-widgets/base",
            "_view_module_version": "1.2.0",
            "_view_name": "StyleView",
            "description_width": ""
          }
        },
        "9923adcc66e348b8b5a457ed7375b47c": {
          "model_module": "@jupyter-widgets/base",
          "model_name": "LayoutModel",
          "model_module_version": "1.2.0",
          "state": {
            "_model_module": "@jupyter-widgets/base",
            "_model_module_version": "1.2.0",
            "_model_name": "LayoutModel",
            "_view_count": null,
            "_view_module": "@jupyter-widgets/base",
            "_view_module_version": "1.2.0",
            "_view_name": "LayoutView",
            "align_content": null,
            "align_items": null,
            "align_self": null,
            "border": null,
            "bottom": null,
            "display": null,
            "flex": null,
            "flex_flow": null,
            "grid_area": null,
            "grid_auto_columns": null,
            "grid_auto_flow": null,
            "grid_auto_rows": null,
            "grid_column": null,
            "grid_gap": null,
            "grid_row": null,
            "grid_template_areas": null,
            "grid_template_columns": null,
            "grid_template_rows": null,
            "height": null,
            "justify_content": null,
            "justify_items": null,
            "left": null,
            "margin": null,
            "max_height": null,
            "max_width": null,
            "min_height": null,
            "min_width": null,
            "object_fit": null,
            "object_position": null,
            "order": null,
            "overflow": null,
            "overflow_x": null,
            "overflow_y": null,
            "padding": null,
            "right": null,
            "top": null,
            "visibility": null,
            "width": null
          }
        },
        "c90509430f4b4d07bdab248419935f7e": {
          "model_module": "@jupyter-widgets/controls",
          "model_name": "ProgressStyleModel",
          "model_module_version": "1.5.0",
          "state": {
            "_model_module": "@jupyter-widgets/controls",
            "_model_module_version": "1.5.0",
            "_model_name": "ProgressStyleModel",
            "_view_count": null,
            "_view_module": "@jupyter-widgets/base",
            "_view_module_version": "1.2.0",
            "_view_name": "StyleView",
            "bar_color": null,
            "description_width": ""
          }
        },
        "28a155bc8fc349cb907af2f9bc5d4a58": {
          "model_module": "@jupyter-widgets/base",
          "model_name": "LayoutModel",
          "model_module_version": "1.2.0",
          "state": {
            "_model_module": "@jupyter-widgets/base",
            "_model_module_version": "1.2.0",
            "_model_name": "LayoutModel",
            "_view_count": null,
            "_view_module": "@jupyter-widgets/base",
            "_view_module_version": "1.2.0",
            "_view_name": "LayoutView",
            "align_content": null,
            "align_items": null,
            "align_self": null,
            "border": null,
            "bottom": null,
            "display": null,
            "flex": null,
            "flex_flow": null,
            "grid_area": null,
            "grid_auto_columns": null,
            "grid_auto_flow": null,
            "grid_auto_rows": null,
            "grid_column": null,
            "grid_gap": null,
            "grid_row": null,
            "grid_template_areas": null,
            "grid_template_columns": null,
            "grid_template_rows": null,
            "height": null,
            "justify_content": null,
            "justify_items": null,
            "left": null,
            "margin": null,
            "max_height": null,
            "max_width": null,
            "min_height": null,
            "min_width": null,
            "object_fit": null,
            "object_position": null,
            "order": null,
            "overflow": null,
            "overflow_x": null,
            "overflow_y": null,
            "padding": null,
            "right": null,
            "top": null,
            "visibility": null,
            "width": null
          }
        },
        "74a9e1a481eb422aa8a795031af66275": {
          "model_module": "@jupyter-widgets/controls",
          "model_name": "DescriptionStyleModel",
          "model_module_version": "1.5.0",
          "state": {
            "_model_module": "@jupyter-widgets/controls",
            "_model_module_version": "1.5.0",
            "_model_name": "DescriptionStyleModel",
            "_view_count": null,
            "_view_module": "@jupyter-widgets/base",
            "_view_module_version": "1.2.0",
            "_view_name": "StyleView",
            "description_width": ""
          }
        },
        "0a5cd2391d47416c897ecc9050ea23e7": {
          "model_module": "@jupyter-widgets/controls",
          "model_name": "HBoxModel",
          "model_module_version": "1.5.0",
          "state": {
            "_dom_classes": [],
            "_model_module": "@jupyter-widgets/controls",
            "_model_module_version": "1.5.0",
            "_model_name": "HBoxModel",
            "_view_count": null,
            "_view_module": "@jupyter-widgets/controls",
            "_view_module_version": "1.5.0",
            "_view_name": "HBoxView",
            "box_style": "",
            "children": [
              "IPY_MODEL_3abf379ac41a4d35ad5dc73cb0ef765d",
              "IPY_MODEL_de8dd10aebc243d4adbb06c8a11af95d",
              "IPY_MODEL_a3d46fe8cbc043ccaa25c9c401c00279"
            ],
            "layout": "IPY_MODEL_c1eb74c066734b82a8aa1b634b1b86d4"
          }
        },
        "3abf379ac41a4d35ad5dc73cb0ef765d": {
          "model_module": "@jupyter-widgets/controls",
          "model_name": "HTMLModel",
          "model_module_version": "1.5.0",
          "state": {
            "_dom_classes": [],
            "_model_module": "@jupyter-widgets/controls",
            "_model_module_version": "1.5.0",
            "_model_name": "HTMLModel",
            "_view_count": null,
            "_view_module": "@jupyter-widgets/controls",
            "_view_module_version": "1.5.0",
            "_view_name": "HTMLView",
            "description": "",
            "description_tooltip": null,
            "layout": "IPY_MODEL_d537fbad3fc64bd4b292d33c48907af9",
            "placeholder": "​",
            "style": "IPY_MODEL_5cff7bd165c243058d5a31df6b783120",
            "value": "vocab.txt: 100%"
          }
        },
        "de8dd10aebc243d4adbb06c8a11af95d": {
          "model_module": "@jupyter-widgets/controls",
          "model_name": "FloatProgressModel",
          "model_module_version": "1.5.0",
          "state": {
            "_dom_classes": [],
            "_model_module": "@jupyter-widgets/controls",
            "_model_module_version": "1.5.0",
            "_model_name": "FloatProgressModel",
            "_view_count": null,
            "_view_module": "@jupyter-widgets/controls",
            "_view_module_version": "1.5.0",
            "_view_name": "ProgressView",
            "bar_style": "success",
            "description": "",
            "description_tooltip": null,
            "layout": "IPY_MODEL_49d3b977d9ee4372af54c3500b881bc8",
            "max": 231508,
            "min": 0,
            "orientation": "horizontal",
            "style": "IPY_MODEL_6573784fec7a4223a7968277f3d9b075",
            "value": 231508
          }
        },
        "a3d46fe8cbc043ccaa25c9c401c00279": {
          "model_module": "@jupyter-widgets/controls",
          "model_name": "HTMLModel",
          "model_module_version": "1.5.0",
          "state": {
            "_dom_classes": [],
            "_model_module": "@jupyter-widgets/controls",
            "_model_module_version": "1.5.0",
            "_model_name": "HTMLModel",
            "_view_count": null,
            "_view_module": "@jupyter-widgets/controls",
            "_view_module_version": "1.5.0",
            "_view_name": "HTMLView",
            "description": "",
            "description_tooltip": null,
            "layout": "IPY_MODEL_adf1f7cd67a8499f8d43394869cdab05",
            "placeholder": "​",
            "style": "IPY_MODEL_b712740ba83b48df907bef2911e499e0",
            "value": " 232k/232k [00:00&lt;00:00, 3.06MB/s]"
          }
        },
        "c1eb74c066734b82a8aa1b634b1b86d4": {
          "model_module": "@jupyter-widgets/base",
          "model_name": "LayoutModel",
          "model_module_version": "1.2.0",
          "state": {
            "_model_module": "@jupyter-widgets/base",
            "_model_module_version": "1.2.0",
            "_model_name": "LayoutModel",
            "_view_count": null,
            "_view_module": "@jupyter-widgets/base",
            "_view_module_version": "1.2.0",
            "_view_name": "LayoutView",
            "align_content": null,
            "align_items": null,
            "align_self": null,
            "border": null,
            "bottom": null,
            "display": null,
            "flex": null,
            "flex_flow": null,
            "grid_area": null,
            "grid_auto_columns": null,
            "grid_auto_flow": null,
            "grid_auto_rows": null,
            "grid_column": null,
            "grid_gap": null,
            "grid_row": null,
            "grid_template_areas": null,
            "grid_template_columns": null,
            "grid_template_rows": null,
            "height": null,
            "justify_content": null,
            "justify_items": null,
            "left": null,
            "margin": null,
            "max_height": null,
            "max_width": null,
            "min_height": null,
            "min_width": null,
            "object_fit": null,
            "object_position": null,
            "order": null,
            "overflow": null,
            "overflow_x": null,
            "overflow_y": null,
            "padding": null,
            "right": null,
            "top": null,
            "visibility": null,
            "width": null
          }
        },
        "d537fbad3fc64bd4b292d33c48907af9": {
          "model_module": "@jupyter-widgets/base",
          "model_name": "LayoutModel",
          "model_module_version": "1.2.0",
          "state": {
            "_model_module": "@jupyter-widgets/base",
            "_model_module_version": "1.2.0",
            "_model_name": "LayoutModel",
            "_view_count": null,
            "_view_module": "@jupyter-widgets/base",
            "_view_module_version": "1.2.0",
            "_view_name": "LayoutView",
            "align_content": null,
            "align_items": null,
            "align_self": null,
            "border": null,
            "bottom": null,
            "display": null,
            "flex": null,
            "flex_flow": null,
            "grid_area": null,
            "grid_auto_columns": null,
            "grid_auto_flow": null,
            "grid_auto_rows": null,
            "grid_column": null,
            "grid_gap": null,
            "grid_row": null,
            "grid_template_areas": null,
            "grid_template_columns": null,
            "grid_template_rows": null,
            "height": null,
            "justify_content": null,
            "justify_items": null,
            "left": null,
            "margin": null,
            "max_height": null,
            "max_width": null,
            "min_height": null,
            "min_width": null,
            "object_fit": null,
            "object_position": null,
            "order": null,
            "overflow": null,
            "overflow_x": null,
            "overflow_y": null,
            "padding": null,
            "right": null,
            "top": null,
            "visibility": null,
            "width": null
          }
        },
        "5cff7bd165c243058d5a31df6b783120": {
          "model_module": "@jupyter-widgets/controls",
          "model_name": "DescriptionStyleModel",
          "model_module_version": "1.5.0",
          "state": {
            "_model_module": "@jupyter-widgets/controls",
            "_model_module_version": "1.5.0",
            "_model_name": "DescriptionStyleModel",
            "_view_count": null,
            "_view_module": "@jupyter-widgets/base",
            "_view_module_version": "1.2.0",
            "_view_name": "StyleView",
            "description_width": ""
          }
        },
        "49d3b977d9ee4372af54c3500b881bc8": {
          "model_module": "@jupyter-widgets/base",
          "model_name": "LayoutModel",
          "model_module_version": "1.2.0",
          "state": {
            "_model_module": "@jupyter-widgets/base",
            "_model_module_version": "1.2.0",
            "_model_name": "LayoutModel",
            "_view_count": null,
            "_view_module": "@jupyter-widgets/base",
            "_view_module_version": "1.2.0",
            "_view_name": "LayoutView",
            "align_content": null,
            "align_items": null,
            "align_self": null,
            "border": null,
            "bottom": null,
            "display": null,
            "flex": null,
            "flex_flow": null,
            "grid_area": null,
            "grid_auto_columns": null,
            "grid_auto_flow": null,
            "grid_auto_rows": null,
            "grid_column": null,
            "grid_gap": null,
            "grid_row": null,
            "grid_template_areas": null,
            "grid_template_columns": null,
            "grid_template_rows": null,
            "height": null,
            "justify_content": null,
            "justify_items": null,
            "left": null,
            "margin": null,
            "max_height": null,
            "max_width": null,
            "min_height": null,
            "min_width": null,
            "object_fit": null,
            "object_position": null,
            "order": null,
            "overflow": null,
            "overflow_x": null,
            "overflow_y": null,
            "padding": null,
            "right": null,
            "top": null,
            "visibility": null,
            "width": null
          }
        },
        "6573784fec7a4223a7968277f3d9b075": {
          "model_module": "@jupyter-widgets/controls",
          "model_name": "ProgressStyleModel",
          "model_module_version": "1.5.0",
          "state": {
            "_model_module": "@jupyter-widgets/controls",
            "_model_module_version": "1.5.0",
            "_model_name": "ProgressStyleModel",
            "_view_count": null,
            "_view_module": "@jupyter-widgets/base",
            "_view_module_version": "1.2.0",
            "_view_name": "StyleView",
            "bar_color": null,
            "description_width": ""
          }
        },
        "adf1f7cd67a8499f8d43394869cdab05": {
          "model_module": "@jupyter-widgets/base",
          "model_name": "LayoutModel",
          "model_module_version": "1.2.0",
          "state": {
            "_model_module": "@jupyter-widgets/base",
            "_model_module_version": "1.2.0",
            "_model_name": "LayoutModel",
            "_view_count": null,
            "_view_module": "@jupyter-widgets/base",
            "_view_module_version": "1.2.0",
            "_view_name": "LayoutView",
            "align_content": null,
            "align_items": null,
            "align_self": null,
            "border": null,
            "bottom": null,
            "display": null,
            "flex": null,
            "flex_flow": null,
            "grid_area": null,
            "grid_auto_columns": null,
            "grid_auto_flow": null,
            "grid_auto_rows": null,
            "grid_column": null,
            "grid_gap": null,
            "grid_row": null,
            "grid_template_areas": null,
            "grid_template_columns": null,
            "grid_template_rows": null,
            "height": null,
            "justify_content": null,
            "justify_items": null,
            "left": null,
            "margin": null,
            "max_height": null,
            "max_width": null,
            "min_height": null,
            "min_width": null,
            "object_fit": null,
            "object_position": null,
            "order": null,
            "overflow": null,
            "overflow_x": null,
            "overflow_y": null,
            "padding": null,
            "right": null,
            "top": null,
            "visibility": null,
            "width": null
          }
        },
        "b712740ba83b48df907bef2911e499e0": {
          "model_module": "@jupyter-widgets/controls",
          "model_name": "DescriptionStyleModel",
          "model_module_version": "1.5.0",
          "state": {
            "_model_module": "@jupyter-widgets/controls",
            "_model_module_version": "1.5.0",
            "_model_name": "DescriptionStyleModel",
            "_view_count": null,
            "_view_module": "@jupyter-widgets/base",
            "_view_module_version": "1.2.0",
            "_view_name": "StyleView",
            "description_width": ""
          }
        },
        "6c24186731d44da790883de5afcd8680": {
          "model_module": "@jupyter-widgets/controls",
          "model_name": "HBoxModel",
          "model_module_version": "1.5.0",
          "state": {
            "_dom_classes": [],
            "_model_module": "@jupyter-widgets/controls",
            "_model_module_version": "1.5.0",
            "_model_name": "HBoxModel",
            "_view_count": null,
            "_view_module": "@jupyter-widgets/controls",
            "_view_module_version": "1.5.0",
            "_view_name": "HBoxView",
            "box_style": "",
            "children": [
              "IPY_MODEL_0efd4201b14f4ae6aea4a4b9bc8710dd",
              "IPY_MODEL_c6affdcfbe4d46ae8aa09b2a931d8557",
              "IPY_MODEL_c1e49fc6dd59476e9eaad19208583e51"
            ],
            "layout": "IPY_MODEL_1dbac79b3c3949bb84a960e52fd6b66c"
          }
        },
        "0efd4201b14f4ae6aea4a4b9bc8710dd": {
          "model_module": "@jupyter-widgets/controls",
          "model_name": "HTMLModel",
          "model_module_version": "1.5.0",
          "state": {
            "_dom_classes": [],
            "_model_module": "@jupyter-widgets/controls",
            "_model_module_version": "1.5.0",
            "_model_name": "HTMLModel",
            "_view_count": null,
            "_view_module": "@jupyter-widgets/controls",
            "_view_module_version": "1.5.0",
            "_view_name": "HTMLView",
            "description": "",
            "description_tooltip": null,
            "layout": "IPY_MODEL_bb664d9c13e94f2aa05ca644f91f7cbc",
            "placeholder": "​",
            "style": "IPY_MODEL_e4452f26949f488294720f69523a19b2",
            "value": "tokenizer.json: 100%"
          }
        },
        "c6affdcfbe4d46ae8aa09b2a931d8557": {
          "model_module": "@jupyter-widgets/controls",
          "model_name": "FloatProgressModel",
          "model_module_version": "1.5.0",
          "state": {
            "_dom_classes": [],
            "_model_module": "@jupyter-widgets/controls",
            "_model_module_version": "1.5.0",
            "_model_name": "FloatProgressModel",
            "_view_count": null,
            "_view_module": "@jupyter-widgets/controls",
            "_view_module_version": "1.5.0",
            "_view_name": "ProgressView",
            "bar_style": "success",
            "description": "",
            "description_tooltip": null,
            "layout": "IPY_MODEL_f7a48a123cde4f96ace8e1ad6559f9d0",
            "max": 466062,
            "min": 0,
            "orientation": "horizontal",
            "style": "IPY_MODEL_07cc6baed0cc48fd8b8f55dc9b022dd9",
            "value": 466062
          }
        },
        "c1e49fc6dd59476e9eaad19208583e51": {
          "model_module": "@jupyter-widgets/controls",
          "model_name": "HTMLModel",
          "model_module_version": "1.5.0",
          "state": {
            "_dom_classes": [],
            "_model_module": "@jupyter-widgets/controls",
            "_model_module_version": "1.5.0",
            "_model_name": "HTMLModel",
            "_view_count": null,
            "_view_module": "@jupyter-widgets/controls",
            "_view_module_version": "1.5.0",
            "_view_name": "HTMLView",
            "description": "",
            "description_tooltip": null,
            "layout": "IPY_MODEL_a7e767393aab413b81ba462885c388d2",
            "placeholder": "​",
            "style": "IPY_MODEL_08ca49736110483097c3dbe663c9f2c2",
            "value": " 466k/466k [00:00&lt;00:00, 3.51MB/s]"
          }
        },
        "1dbac79b3c3949bb84a960e52fd6b66c": {
          "model_module": "@jupyter-widgets/base",
          "model_name": "LayoutModel",
          "model_module_version": "1.2.0",
          "state": {
            "_model_module": "@jupyter-widgets/base",
            "_model_module_version": "1.2.0",
            "_model_name": "LayoutModel",
            "_view_count": null,
            "_view_module": "@jupyter-widgets/base",
            "_view_module_version": "1.2.0",
            "_view_name": "LayoutView",
            "align_content": null,
            "align_items": null,
            "align_self": null,
            "border": null,
            "bottom": null,
            "display": null,
            "flex": null,
            "flex_flow": null,
            "grid_area": null,
            "grid_auto_columns": null,
            "grid_auto_flow": null,
            "grid_auto_rows": null,
            "grid_column": null,
            "grid_gap": null,
            "grid_row": null,
            "grid_template_areas": null,
            "grid_template_columns": null,
            "grid_template_rows": null,
            "height": null,
            "justify_content": null,
            "justify_items": null,
            "left": null,
            "margin": null,
            "max_height": null,
            "max_width": null,
            "min_height": null,
            "min_width": null,
            "object_fit": null,
            "object_position": null,
            "order": null,
            "overflow": null,
            "overflow_x": null,
            "overflow_y": null,
            "padding": null,
            "right": null,
            "top": null,
            "visibility": null,
            "width": null
          }
        },
        "bb664d9c13e94f2aa05ca644f91f7cbc": {
          "model_module": "@jupyter-widgets/base",
          "model_name": "LayoutModel",
          "model_module_version": "1.2.0",
          "state": {
            "_model_module": "@jupyter-widgets/base",
            "_model_module_version": "1.2.0",
            "_model_name": "LayoutModel",
            "_view_count": null,
            "_view_module": "@jupyter-widgets/base",
            "_view_module_version": "1.2.0",
            "_view_name": "LayoutView",
            "align_content": null,
            "align_items": null,
            "align_self": null,
            "border": null,
            "bottom": null,
            "display": null,
            "flex": null,
            "flex_flow": null,
            "grid_area": null,
            "grid_auto_columns": null,
            "grid_auto_flow": null,
            "grid_auto_rows": null,
            "grid_column": null,
            "grid_gap": null,
            "grid_row": null,
            "grid_template_areas": null,
            "grid_template_columns": null,
            "grid_template_rows": null,
            "height": null,
            "justify_content": null,
            "justify_items": null,
            "left": null,
            "margin": null,
            "max_height": null,
            "max_width": null,
            "min_height": null,
            "min_width": null,
            "object_fit": null,
            "object_position": null,
            "order": null,
            "overflow": null,
            "overflow_x": null,
            "overflow_y": null,
            "padding": null,
            "right": null,
            "top": null,
            "visibility": null,
            "width": null
          }
        },
        "e4452f26949f488294720f69523a19b2": {
          "model_module": "@jupyter-widgets/controls",
          "model_name": "DescriptionStyleModel",
          "model_module_version": "1.5.0",
          "state": {
            "_model_module": "@jupyter-widgets/controls",
            "_model_module_version": "1.5.0",
            "_model_name": "DescriptionStyleModel",
            "_view_count": null,
            "_view_module": "@jupyter-widgets/base",
            "_view_module_version": "1.2.0",
            "_view_name": "StyleView",
            "description_width": ""
          }
        },
        "f7a48a123cde4f96ace8e1ad6559f9d0": {
          "model_module": "@jupyter-widgets/base",
          "model_name": "LayoutModel",
          "model_module_version": "1.2.0",
          "state": {
            "_model_module": "@jupyter-widgets/base",
            "_model_module_version": "1.2.0",
            "_model_name": "LayoutModel",
            "_view_count": null,
            "_view_module": "@jupyter-widgets/base",
            "_view_module_version": "1.2.0",
            "_view_name": "LayoutView",
            "align_content": null,
            "align_items": null,
            "align_self": null,
            "border": null,
            "bottom": null,
            "display": null,
            "flex": null,
            "flex_flow": null,
            "grid_area": null,
            "grid_auto_columns": null,
            "grid_auto_flow": null,
            "grid_auto_rows": null,
            "grid_column": null,
            "grid_gap": null,
            "grid_row": null,
            "grid_template_areas": null,
            "grid_template_columns": null,
            "grid_template_rows": null,
            "height": null,
            "justify_content": null,
            "justify_items": null,
            "left": null,
            "margin": null,
            "max_height": null,
            "max_width": null,
            "min_height": null,
            "min_width": null,
            "object_fit": null,
            "object_position": null,
            "order": null,
            "overflow": null,
            "overflow_x": null,
            "overflow_y": null,
            "padding": null,
            "right": null,
            "top": null,
            "visibility": null,
            "width": null
          }
        },
        "07cc6baed0cc48fd8b8f55dc9b022dd9": {
          "model_module": "@jupyter-widgets/controls",
          "model_name": "ProgressStyleModel",
          "model_module_version": "1.5.0",
          "state": {
            "_model_module": "@jupyter-widgets/controls",
            "_model_module_version": "1.5.0",
            "_model_name": "ProgressStyleModel",
            "_view_count": null,
            "_view_module": "@jupyter-widgets/base",
            "_view_module_version": "1.2.0",
            "_view_name": "StyleView",
            "bar_color": null,
            "description_width": ""
          }
        },
        "a7e767393aab413b81ba462885c388d2": {
          "model_module": "@jupyter-widgets/base",
          "model_name": "LayoutModel",
          "model_module_version": "1.2.0",
          "state": {
            "_model_module": "@jupyter-widgets/base",
            "_model_module_version": "1.2.0",
            "_model_name": "LayoutModel",
            "_view_count": null,
            "_view_module": "@jupyter-widgets/base",
            "_view_module_version": "1.2.0",
            "_view_name": "LayoutView",
            "align_content": null,
            "align_items": null,
            "align_self": null,
            "border": null,
            "bottom": null,
            "display": null,
            "flex": null,
            "flex_flow": null,
            "grid_area": null,
            "grid_auto_columns": null,
            "grid_auto_flow": null,
            "grid_auto_rows": null,
            "grid_column": null,
            "grid_gap": null,
            "grid_row": null,
            "grid_template_areas": null,
            "grid_template_columns": null,
            "grid_template_rows": null,
            "height": null,
            "justify_content": null,
            "justify_items": null,
            "left": null,
            "margin": null,
            "max_height": null,
            "max_width": null,
            "min_height": null,
            "min_width": null,
            "object_fit": null,
            "object_position": null,
            "order": null,
            "overflow": null,
            "overflow_x": null,
            "overflow_y": null,
            "padding": null,
            "right": null,
            "top": null,
            "visibility": null,
            "width": null
          }
        },
        "08ca49736110483097c3dbe663c9f2c2": {
          "model_module": "@jupyter-widgets/controls",
          "model_name": "DescriptionStyleModel",
          "model_module_version": "1.5.0",
          "state": {
            "_model_module": "@jupyter-widgets/controls",
            "_model_module_version": "1.5.0",
            "_model_name": "DescriptionStyleModel",
            "_view_count": null,
            "_view_module": "@jupyter-widgets/base",
            "_view_module_version": "1.2.0",
            "_view_name": "StyleView",
            "description_width": ""
          }
        },
        "39986ee6554143d795659c015c4402b1": {
          "model_module": "@jupyter-widgets/controls",
          "model_name": "HBoxModel",
          "model_module_version": "1.5.0",
          "state": {
            "_dom_classes": [],
            "_model_module": "@jupyter-widgets/controls",
            "_model_module_version": "1.5.0",
            "_model_name": "HBoxModel",
            "_view_count": null,
            "_view_module": "@jupyter-widgets/controls",
            "_view_module_version": "1.5.0",
            "_view_name": "HBoxView",
            "box_style": "",
            "children": [
              "IPY_MODEL_64a64e41b49b4c92b00615b31da13f59",
              "IPY_MODEL_0c48a2e2b3384ff683a4d6a1622c0587",
              "IPY_MODEL_766b396ed64646169b36fd9f93e6928a"
            ],
            "layout": "IPY_MODEL_ee6cddcf55b94319aa798534573e369f"
          }
        },
        "64a64e41b49b4c92b00615b31da13f59": {
          "model_module": "@jupyter-widgets/controls",
          "model_name": "HTMLModel",
          "model_module_version": "1.5.0",
          "state": {
            "_dom_classes": [],
            "_model_module": "@jupyter-widgets/controls",
            "_model_module_version": "1.5.0",
            "_model_name": "HTMLModel",
            "_view_count": null,
            "_view_module": "@jupyter-widgets/controls",
            "_view_module_version": "1.5.0",
            "_view_name": "HTMLView",
            "description": "",
            "description_tooltip": null,
            "layout": "IPY_MODEL_02b1dc2f85ee4b9f9854e37882c16056",
            "placeholder": "​",
            "style": "IPY_MODEL_b2bbee3f13e1464696ad20b5bb52ee67",
            "value": "config.json: 100%"
          }
        },
        "0c48a2e2b3384ff683a4d6a1622c0587": {
          "model_module": "@jupyter-widgets/controls",
          "model_name": "FloatProgressModel",
          "model_module_version": "1.5.0",
          "state": {
            "_dom_classes": [],
            "_model_module": "@jupyter-widgets/controls",
            "_model_module_version": "1.5.0",
            "_model_name": "FloatProgressModel",
            "_view_count": null,
            "_view_module": "@jupyter-widgets/controls",
            "_view_module_version": "1.5.0",
            "_view_name": "ProgressView",
            "bar_style": "success",
            "description": "",
            "description_tooltip": null,
            "layout": "IPY_MODEL_b48e16bed88d4e84a72e756d08675046",
            "max": 570,
            "min": 0,
            "orientation": "horizontal",
            "style": "IPY_MODEL_de4214a566be430f98f9960ede005f25",
            "value": 570
          }
        },
        "766b396ed64646169b36fd9f93e6928a": {
          "model_module": "@jupyter-widgets/controls",
          "model_name": "HTMLModel",
          "model_module_version": "1.5.0",
          "state": {
            "_dom_classes": [],
            "_model_module": "@jupyter-widgets/controls",
            "_model_module_version": "1.5.0",
            "_model_name": "HTMLModel",
            "_view_count": null,
            "_view_module": "@jupyter-widgets/controls",
            "_view_module_version": "1.5.0",
            "_view_name": "HTMLView",
            "description": "",
            "description_tooltip": null,
            "layout": "IPY_MODEL_3304a678a0e240e6bc44c40465205408",
            "placeholder": "​",
            "style": "IPY_MODEL_828b326849bb476cb5d695f9e916c045",
            "value": " 570/570 [00:00&lt;00:00, 13.8kB/s]"
          }
        },
        "ee6cddcf55b94319aa798534573e369f": {
          "model_module": "@jupyter-widgets/base",
          "model_name": "LayoutModel",
          "model_module_version": "1.2.0",
          "state": {
            "_model_module": "@jupyter-widgets/base",
            "_model_module_version": "1.2.0",
            "_model_name": "LayoutModel",
            "_view_count": null,
            "_view_module": "@jupyter-widgets/base",
            "_view_module_version": "1.2.0",
            "_view_name": "LayoutView",
            "align_content": null,
            "align_items": null,
            "align_self": null,
            "border": null,
            "bottom": null,
            "display": null,
            "flex": null,
            "flex_flow": null,
            "grid_area": null,
            "grid_auto_columns": null,
            "grid_auto_flow": null,
            "grid_auto_rows": null,
            "grid_column": null,
            "grid_gap": null,
            "grid_row": null,
            "grid_template_areas": null,
            "grid_template_columns": null,
            "grid_template_rows": null,
            "height": null,
            "justify_content": null,
            "justify_items": null,
            "left": null,
            "margin": null,
            "max_height": null,
            "max_width": null,
            "min_height": null,
            "min_width": null,
            "object_fit": null,
            "object_position": null,
            "order": null,
            "overflow": null,
            "overflow_x": null,
            "overflow_y": null,
            "padding": null,
            "right": null,
            "top": null,
            "visibility": null,
            "width": null
          }
        },
        "02b1dc2f85ee4b9f9854e37882c16056": {
          "model_module": "@jupyter-widgets/base",
          "model_name": "LayoutModel",
          "model_module_version": "1.2.0",
          "state": {
            "_model_module": "@jupyter-widgets/base",
            "_model_module_version": "1.2.0",
            "_model_name": "LayoutModel",
            "_view_count": null,
            "_view_module": "@jupyter-widgets/base",
            "_view_module_version": "1.2.0",
            "_view_name": "LayoutView",
            "align_content": null,
            "align_items": null,
            "align_self": null,
            "border": null,
            "bottom": null,
            "display": null,
            "flex": null,
            "flex_flow": null,
            "grid_area": null,
            "grid_auto_columns": null,
            "grid_auto_flow": null,
            "grid_auto_rows": null,
            "grid_column": null,
            "grid_gap": null,
            "grid_row": null,
            "grid_template_areas": null,
            "grid_template_columns": null,
            "grid_template_rows": null,
            "height": null,
            "justify_content": null,
            "justify_items": null,
            "left": null,
            "margin": null,
            "max_height": null,
            "max_width": null,
            "min_height": null,
            "min_width": null,
            "object_fit": null,
            "object_position": null,
            "order": null,
            "overflow": null,
            "overflow_x": null,
            "overflow_y": null,
            "padding": null,
            "right": null,
            "top": null,
            "visibility": null,
            "width": null
          }
        },
        "b2bbee3f13e1464696ad20b5bb52ee67": {
          "model_module": "@jupyter-widgets/controls",
          "model_name": "DescriptionStyleModel",
          "model_module_version": "1.5.0",
          "state": {
            "_model_module": "@jupyter-widgets/controls",
            "_model_module_version": "1.5.0",
            "_model_name": "DescriptionStyleModel",
            "_view_count": null,
            "_view_module": "@jupyter-widgets/base",
            "_view_module_version": "1.2.0",
            "_view_name": "StyleView",
            "description_width": ""
          }
        },
        "b48e16bed88d4e84a72e756d08675046": {
          "model_module": "@jupyter-widgets/base",
          "model_name": "LayoutModel",
          "model_module_version": "1.2.0",
          "state": {
            "_model_module": "@jupyter-widgets/base",
            "_model_module_version": "1.2.0",
            "_model_name": "LayoutModel",
            "_view_count": null,
            "_view_module": "@jupyter-widgets/base",
            "_view_module_version": "1.2.0",
            "_view_name": "LayoutView",
            "align_content": null,
            "align_items": null,
            "align_self": null,
            "border": null,
            "bottom": null,
            "display": null,
            "flex": null,
            "flex_flow": null,
            "grid_area": null,
            "grid_auto_columns": null,
            "grid_auto_flow": null,
            "grid_auto_rows": null,
            "grid_column": null,
            "grid_gap": null,
            "grid_row": null,
            "grid_template_areas": null,
            "grid_template_columns": null,
            "grid_template_rows": null,
            "height": null,
            "justify_content": null,
            "justify_items": null,
            "left": null,
            "margin": null,
            "max_height": null,
            "max_width": null,
            "min_height": null,
            "min_width": null,
            "object_fit": null,
            "object_position": null,
            "order": null,
            "overflow": null,
            "overflow_x": null,
            "overflow_y": null,
            "padding": null,
            "right": null,
            "top": null,
            "visibility": null,
            "width": null
          }
        },
        "de4214a566be430f98f9960ede005f25": {
          "model_module": "@jupyter-widgets/controls",
          "model_name": "ProgressStyleModel",
          "model_module_version": "1.5.0",
          "state": {
            "_model_module": "@jupyter-widgets/controls",
            "_model_module_version": "1.5.0",
            "_model_name": "ProgressStyleModel",
            "_view_count": null,
            "_view_module": "@jupyter-widgets/base",
            "_view_module_version": "1.2.0",
            "_view_name": "StyleView",
            "bar_color": null,
            "description_width": ""
          }
        },
        "3304a678a0e240e6bc44c40465205408": {
          "model_module": "@jupyter-widgets/base",
          "model_name": "LayoutModel",
          "model_module_version": "1.2.0",
          "state": {
            "_model_module": "@jupyter-widgets/base",
            "_model_module_version": "1.2.0",
            "_model_name": "LayoutModel",
            "_view_count": null,
            "_view_module": "@jupyter-widgets/base",
            "_view_module_version": "1.2.0",
            "_view_name": "LayoutView",
            "align_content": null,
            "align_items": null,
            "align_self": null,
            "border": null,
            "bottom": null,
            "display": null,
            "flex": null,
            "flex_flow": null,
            "grid_area": null,
            "grid_auto_columns": null,
            "grid_auto_flow": null,
            "grid_auto_rows": null,
            "grid_column": null,
            "grid_gap": null,
            "grid_row": null,
            "grid_template_areas": null,
            "grid_template_columns": null,
            "grid_template_rows": null,
            "height": null,
            "justify_content": null,
            "justify_items": null,
            "left": null,
            "margin": null,
            "max_height": null,
            "max_width": null,
            "min_height": null,
            "min_width": null,
            "object_fit": null,
            "object_position": null,
            "order": null,
            "overflow": null,
            "overflow_x": null,
            "overflow_y": null,
            "padding": null,
            "right": null,
            "top": null,
            "visibility": null,
            "width": null
          }
        },
        "828b326849bb476cb5d695f9e916c045": {
          "model_module": "@jupyter-widgets/controls",
          "model_name": "DescriptionStyleModel",
          "model_module_version": "1.5.0",
          "state": {
            "_model_module": "@jupyter-widgets/controls",
            "_model_module_version": "1.5.0",
            "_model_name": "DescriptionStyleModel",
            "_view_count": null,
            "_view_module": "@jupyter-widgets/base",
            "_view_module_version": "1.2.0",
            "_view_name": "StyleView",
            "description_width": ""
          }
        },
        "cd26a35de6c34151bce9ae0a05ad8608": {
          "model_module": "@jupyter-widgets/controls",
          "model_name": "HBoxModel",
          "model_module_version": "1.5.0",
          "state": {
            "_dom_classes": [],
            "_model_module": "@jupyter-widgets/controls",
            "_model_module_version": "1.5.0",
            "_model_name": "HBoxModel",
            "_view_count": null,
            "_view_module": "@jupyter-widgets/controls",
            "_view_module_version": "1.5.0",
            "_view_name": "HBoxView",
            "box_style": "",
            "children": [
              "IPY_MODEL_4d916fff06c44d61ba03628951aec77c",
              "IPY_MODEL_8ca15eb923344041908683e71f5af50f",
              "IPY_MODEL_1553d53b52f0407185f4cf44f5c6cc78"
            ],
            "layout": "IPY_MODEL_b7066f3cc25949edaabcd001df6f6d2b"
          }
        },
        "4d916fff06c44d61ba03628951aec77c": {
          "model_module": "@jupyter-widgets/controls",
          "model_name": "HTMLModel",
          "model_module_version": "1.5.0",
          "state": {
            "_dom_classes": [],
            "_model_module": "@jupyter-widgets/controls",
            "_model_module_version": "1.5.0",
            "_model_name": "HTMLModel",
            "_view_count": null,
            "_view_module": "@jupyter-widgets/controls",
            "_view_module_version": "1.5.0",
            "_view_name": "HTMLView",
            "description": "",
            "description_tooltip": null,
            "layout": "IPY_MODEL_0db8ec55075e44608246b34d4a413622",
            "placeholder": "​",
            "style": "IPY_MODEL_b872b7c4b61c4a3d94891b4ae11e067f",
            "value": "model.safetensors: 100%"
          }
        },
        "8ca15eb923344041908683e71f5af50f": {
          "model_module": "@jupyter-widgets/controls",
          "model_name": "FloatProgressModel",
          "model_module_version": "1.5.0",
          "state": {
            "_dom_classes": [],
            "_model_module": "@jupyter-widgets/controls",
            "_model_module_version": "1.5.0",
            "_model_name": "FloatProgressModel",
            "_view_count": null,
            "_view_module": "@jupyter-widgets/controls",
            "_view_module_version": "1.5.0",
            "_view_name": "ProgressView",
            "bar_style": "success",
            "description": "",
            "description_tooltip": null,
            "layout": "IPY_MODEL_94a5b795f13d48f49e62cfcc15102afe",
            "max": 440449768,
            "min": 0,
            "orientation": "horizontal",
            "style": "IPY_MODEL_5b83f16aefcc40d2b57ca499e7bbc9d8",
            "value": 440449768
          }
        },
        "1553d53b52f0407185f4cf44f5c6cc78": {
          "model_module": "@jupyter-widgets/controls",
          "model_name": "HTMLModel",
          "model_module_version": "1.5.0",
          "state": {
            "_dom_classes": [],
            "_model_module": "@jupyter-widgets/controls",
            "_model_module_version": "1.5.0",
            "_model_name": "HTMLModel",
            "_view_count": null,
            "_view_module": "@jupyter-widgets/controls",
            "_view_module_version": "1.5.0",
            "_view_name": "HTMLView",
            "description": "",
            "description_tooltip": null,
            "layout": "IPY_MODEL_6ad201ca808d460db6f8917ec974a0f1",
            "placeholder": "​",
            "style": "IPY_MODEL_fac23f6216504f16b972dea20b66a169",
            "value": " 440M/440M [00:03&lt;00:00, 96.2MB/s]"
          }
        },
        "b7066f3cc25949edaabcd001df6f6d2b": {
          "model_module": "@jupyter-widgets/base",
          "model_name": "LayoutModel",
          "model_module_version": "1.2.0",
          "state": {
            "_model_module": "@jupyter-widgets/base",
            "_model_module_version": "1.2.0",
            "_model_name": "LayoutModel",
            "_view_count": null,
            "_view_module": "@jupyter-widgets/base",
            "_view_module_version": "1.2.0",
            "_view_name": "LayoutView",
            "align_content": null,
            "align_items": null,
            "align_self": null,
            "border": null,
            "bottom": null,
            "display": null,
            "flex": null,
            "flex_flow": null,
            "grid_area": null,
            "grid_auto_columns": null,
            "grid_auto_flow": null,
            "grid_auto_rows": null,
            "grid_column": null,
            "grid_gap": null,
            "grid_row": null,
            "grid_template_areas": null,
            "grid_template_columns": null,
            "grid_template_rows": null,
            "height": null,
            "justify_content": null,
            "justify_items": null,
            "left": null,
            "margin": null,
            "max_height": null,
            "max_width": null,
            "min_height": null,
            "min_width": null,
            "object_fit": null,
            "object_position": null,
            "order": null,
            "overflow": null,
            "overflow_x": null,
            "overflow_y": null,
            "padding": null,
            "right": null,
            "top": null,
            "visibility": null,
            "width": null
          }
        },
        "0db8ec55075e44608246b34d4a413622": {
          "model_module": "@jupyter-widgets/base",
          "model_name": "LayoutModel",
          "model_module_version": "1.2.0",
          "state": {
            "_model_module": "@jupyter-widgets/base",
            "_model_module_version": "1.2.0",
            "_model_name": "LayoutModel",
            "_view_count": null,
            "_view_module": "@jupyter-widgets/base",
            "_view_module_version": "1.2.0",
            "_view_name": "LayoutView",
            "align_content": null,
            "align_items": null,
            "align_self": null,
            "border": null,
            "bottom": null,
            "display": null,
            "flex": null,
            "flex_flow": null,
            "grid_area": null,
            "grid_auto_columns": null,
            "grid_auto_flow": null,
            "grid_auto_rows": null,
            "grid_column": null,
            "grid_gap": null,
            "grid_row": null,
            "grid_template_areas": null,
            "grid_template_columns": null,
            "grid_template_rows": null,
            "height": null,
            "justify_content": null,
            "justify_items": null,
            "left": null,
            "margin": null,
            "max_height": null,
            "max_width": null,
            "min_height": null,
            "min_width": null,
            "object_fit": null,
            "object_position": null,
            "order": null,
            "overflow": null,
            "overflow_x": null,
            "overflow_y": null,
            "padding": null,
            "right": null,
            "top": null,
            "visibility": null,
            "width": null
          }
        },
        "b872b7c4b61c4a3d94891b4ae11e067f": {
          "model_module": "@jupyter-widgets/controls",
          "model_name": "DescriptionStyleModel",
          "model_module_version": "1.5.0",
          "state": {
            "_model_module": "@jupyter-widgets/controls",
            "_model_module_version": "1.5.0",
            "_model_name": "DescriptionStyleModel",
            "_view_count": null,
            "_view_module": "@jupyter-widgets/base",
            "_view_module_version": "1.2.0",
            "_view_name": "StyleView",
            "description_width": ""
          }
        },
        "94a5b795f13d48f49e62cfcc15102afe": {
          "model_module": "@jupyter-widgets/base",
          "model_name": "LayoutModel",
          "model_module_version": "1.2.0",
          "state": {
            "_model_module": "@jupyter-widgets/base",
            "_model_module_version": "1.2.0",
            "_model_name": "LayoutModel",
            "_view_count": null,
            "_view_module": "@jupyter-widgets/base",
            "_view_module_version": "1.2.0",
            "_view_name": "LayoutView",
            "align_content": null,
            "align_items": null,
            "align_self": null,
            "border": null,
            "bottom": null,
            "display": null,
            "flex": null,
            "flex_flow": null,
            "grid_area": null,
            "grid_auto_columns": null,
            "grid_auto_flow": null,
            "grid_auto_rows": null,
            "grid_column": null,
            "grid_gap": null,
            "grid_row": null,
            "grid_template_areas": null,
            "grid_template_columns": null,
            "grid_template_rows": null,
            "height": null,
            "justify_content": null,
            "justify_items": null,
            "left": null,
            "margin": null,
            "max_height": null,
            "max_width": null,
            "min_height": null,
            "min_width": null,
            "object_fit": null,
            "object_position": null,
            "order": null,
            "overflow": null,
            "overflow_x": null,
            "overflow_y": null,
            "padding": null,
            "right": null,
            "top": null,
            "visibility": null,
            "width": null
          }
        },
        "5b83f16aefcc40d2b57ca499e7bbc9d8": {
          "model_module": "@jupyter-widgets/controls",
          "model_name": "ProgressStyleModel",
          "model_module_version": "1.5.0",
          "state": {
            "_model_module": "@jupyter-widgets/controls",
            "_model_module_version": "1.5.0",
            "_model_name": "ProgressStyleModel",
            "_view_count": null,
            "_view_module": "@jupyter-widgets/base",
            "_view_module_version": "1.2.0",
            "_view_name": "StyleView",
            "bar_color": null,
            "description_width": ""
          }
        },
        "6ad201ca808d460db6f8917ec974a0f1": {
          "model_module": "@jupyter-widgets/base",
          "model_name": "LayoutModel",
          "model_module_version": "1.2.0",
          "state": {
            "_model_module": "@jupyter-widgets/base",
            "_model_module_version": "1.2.0",
            "_model_name": "LayoutModel",
            "_view_count": null,
            "_view_module": "@jupyter-widgets/base",
            "_view_module_version": "1.2.0",
            "_view_name": "LayoutView",
            "align_content": null,
            "align_items": null,
            "align_self": null,
            "border": null,
            "bottom": null,
            "display": null,
            "flex": null,
            "flex_flow": null,
            "grid_area": null,
            "grid_auto_columns": null,
            "grid_auto_flow": null,
            "grid_auto_rows": null,
            "grid_column": null,
            "grid_gap": null,
            "grid_row": null,
            "grid_template_areas": null,
            "grid_template_columns": null,
            "grid_template_rows": null,
            "height": null,
            "justify_content": null,
            "justify_items": null,
            "left": null,
            "margin": null,
            "max_height": null,
            "max_width": null,
            "min_height": null,
            "min_width": null,
            "object_fit": null,
            "object_position": null,
            "order": null,
            "overflow": null,
            "overflow_x": null,
            "overflow_y": null,
            "padding": null,
            "right": null,
            "top": null,
            "visibility": null,
            "width": null
          }
        },
        "fac23f6216504f16b972dea20b66a169": {
          "model_module": "@jupyter-widgets/controls",
          "model_name": "DescriptionStyleModel",
          "model_module_version": "1.5.0",
          "state": {
            "_model_module": "@jupyter-widgets/controls",
            "_model_module_version": "1.5.0",
            "_model_name": "DescriptionStyleModel",
            "_view_count": null,
            "_view_module": "@jupyter-widgets/base",
            "_view_module_version": "1.2.0",
            "_view_name": "StyleView",
            "description_width": ""
          }
        }
      }
    }
  },
  "cells": [
    {
      "cell_type": "markdown",
      "source": [
        "## IMPORT LIBRARY"
      ],
      "metadata": {
        "id": "64HbKamjD7P-"
      }
    },
    {
      "cell_type": "code",
      "execution_count": null,
      "metadata": {
        "colab": {
          "base_uri": "https://localhost:8080/"
        },
        "id": "pfLqBuUlLeZ6",
        "outputId": "24780e3a-438b-4e0c-c34d-658d873f16e7"
      },
      "outputs": [
        {
          "output_type": "stream",
          "name": "stdout",
          "text": [
            "\u001b[2K     \u001b[90m━━━━━━━━━━━━━━━━━━━━━━━━━━━━━━━━━━━━━━━━\u001b[0m \u001b[32m2.1/2.1 MB\u001b[0m \u001b[31m10.9 MB/s\u001b[0m eta \u001b[36m0:00:00\u001b[0m\n",
            "\u001b[2K     \u001b[90m━━━━━━━━━━━━━━━━━━━━━━━━━━━━━━━━━━━━━━━━\u001b[0m \u001b[32m190.6/190.6 kB\u001b[0m \u001b[31m10.6 MB/s\u001b[0m eta \u001b[36m0:00:00\u001b[0m\n",
            "\u001b[2K     \u001b[90m━━━━━━━━━━━━━━━━━━━━━━━━━━━━━━━━━━━━━━━━\u001b[0m \u001b[32m254.1/254.1 kB\u001b[0m \u001b[31m12.6 MB/s\u001b[0m eta \u001b[36m0:00:00\u001b[0m\n",
            "\u001b[2K     \u001b[90m━━━━━━━━━━━━━━━━━━━━━━━━━━━━━━━━━━━━━━━━\u001b[0m \u001b[32m62.7/62.7 kB\u001b[0m \u001b[31m6.6 MB/s\u001b[0m eta \u001b[36m0:00:00\u001b[0m\n",
            "\u001b[2K     \u001b[90m━━━━━━━━━━━━━━━━━━━━━━━━━━━━━━━━━━━━━━━━\u001b[0m \u001b[32m521.2/521.2 kB\u001b[0m \u001b[31m5.5 MB/s\u001b[0m eta \u001b[36m0:00:00\u001b[0m\n",
            "\u001b[2K     \u001b[90m━━━━━━━━━━━━━━━━━━━━━━━━━━━━━━━━━━━━━━━━\u001b[0m \u001b[32m115.3/115.3 kB\u001b[0m \u001b[31m9.8 MB/s\u001b[0m eta \u001b[36m0:00:00\u001b[0m\n",
            "\u001b[2K     \u001b[90m━━━━━━━━━━━━━━━━━━━━━━━━━━━━━━━━━━━━━━━━\u001b[0m \u001b[32m134.8/134.8 kB\u001b[0m \u001b[31m7.8 MB/s\u001b[0m eta \u001b[36m0:00:00\u001b[0m\n",
            "\u001b[2K     \u001b[90m━━━━━━━━━━━━━━━━━━━━━━━━━━━━━━━━━━━━━━━━\u001b[0m \u001b[32m397.5/397.5 kB\u001b[0m \u001b[31m6.4 MB/s\u001b[0m eta \u001b[36m0:00:00\u001b[0m\n",
            "\u001b[?25h"
          ]
        }
      ],
      "source": [
        "!pip install --quiet wandb\n",
        "!pip install --quiet transformers\n",
        "!pip install --quiet datasets\n",
        "!pip install --quiet emoji\n",
        "!pip install --quiet kaggle\n",
        "!pip install --quiet torchinfo\n",
        "!pip install --quiet imbalanced-learn\n",
        "!pip install --quiet gdown\n",
        "\n",
        "#general purpose packages\n",
        "import numpy as np\n",
        "import pandas as pd\n",
        "import tensorflow as tf\n",
        "import matplotlib.pyplot as plt\n",
        "import seaborn as sns\n",
        "\n",
        "#data processing\n",
        "import re, string\n",
        "import emoji\n",
        "import nltk\n",
        "\n",
        "from sklearn import preprocessing\n",
        "from imblearn.over_sampling import RandomOverSampler\n",
        "from sklearn.model_selection import train_test_split\n",
        "\n",
        "\n",
        "#Naive Bayes\n",
        "from sklearn.feature_extraction.text import CountVectorizer\n",
        "from sklearn.feature_extraction.text import TfidfTransformer\n",
        "from sklearn.naive_bayes import MultinomialNB\n",
        "\n",
        "#transformers\n",
        "from transformers import BertTokenizerFast\n",
        "from transformers import TFBertModel\n",
        "\n",
        "#keras\n",
        "import tensorflow as tf\n",
        "from tensorflow import keras\n",
        "\n",
        "\n",
        "#metrics\n",
        "from sklearn.metrics import accuracy_score, f1_score\n",
        "from sklearn.metrics import classification_report, confusion_matrix\n",
        "\n",
        "#set seed for reproducibility\n",
        "seed=42\n"
      ]
    },
    {
      "cell_type": "code",
      "source": [
        "!pip install --quiet clean-text"
      ],
      "metadata": {
        "colab": {
          "base_uri": "https://localhost:8080/"
        },
        "id": "m32HhIdlNQqk",
        "outputId": "9d9475de-a6fb-4ec1-9c2f-01cd9d06dcc2"
      },
      "execution_count": null,
      "outputs": [
        {
          "output_type": "stream",
          "name": "stdout",
          "text": [
            "\u001b[2K     \u001b[90m━━━━━━━━━━━━━━━━━━━━━━━━━━━━━━━━━━━━━━━━\u001b[0m \u001b[32m175.4/175.4 kB\u001b[0m \u001b[31m4.9 MB/s\u001b[0m eta \u001b[36m0:00:00\u001b[0m\n",
            "\u001b[?25h  Preparing metadata (setup.py) ... \u001b[?25l\u001b[?25hdone\n",
            "\u001b[2K     \u001b[90m━━━━━━━━━━━━━━━━━━━━━━━━━━━━━━━━━━━━━━━━\u001b[0m \u001b[32m53.4/53.4 kB\u001b[0m \u001b[31m5.8 MB/s\u001b[0m eta \u001b[36m0:00:00\u001b[0m\n",
            "\u001b[?25h  Building wheel for emoji (setup.py) ... \u001b[?25l\u001b[?25hdone\n"
          ]
        }
      ]
    },
    {
      "cell_type": "markdown",
      "source": [
        "## LOAD DATASET\n",
        "\n",
        "Dataset avaiable in : [https://docs.google.com/spreadsheets/d/1sZkr0Y1pLDpoYz4yjtW9tHOC3qLVCYOc/edit?usp=sharing&ouid=113921194221644327513&rtpof=true&sd=true](https://docs.google.com/spreadsheets/d/1sZkr0Y1pLDpoYz4yjtW9tHOC3qLVCYOc/edit?usp=sharing&ouid=113921194221644327513&rtpof=true&sd=true)"
      ],
      "metadata": {
        "id": "Hzj_DbmQD_lU"
      }
    },
    {
      "cell_type": "code",
      "source": [
        "# Load data\n",
        "\n",
        "file_path_xlsx = '/content/Data Bully Dimas TI.xlsx'\n",
        "df = pd.read_excel(file_path_xlsx)\n",
        "\n",
        "df.head()"
      ],
      "metadata": {
        "colab": {
          "base_uri": "https://localhost:8080/",
          "height": 206
        },
        "id": "DSC-8XLbWQ6w",
        "outputId": "2dcfdb72-6337-4a93-eaeb-38e22387f6a9"
      },
      "execution_count": null,
      "outputs": [
        {
          "output_type": "execute_result",
          "data": {
            "text/plain": [
              "                                           full_text    Label  \\\n",
              "0  minimal kl gue editin cari materinya lah ajg u...    Bully   \n",
              "1  jamur ðŸ_x008d_„: ngapain sih ikut becky ke lu...    Bully   \n",
              "2  @moviemenfes susi saha anjing?? btw galang, sa...  Nobully   \n",
              "3  Gini amat Jadi Tim Gede pemegang 20 Gelar Liga...  Nobully   \n",
              "4  @Zaim72790295 @PDI_Perjuangan Lah ini anjing l...  Nobully   \n",
              "\n",
              "                                           tweet_url  \n",
              "0  https://twitter.com/cook1iejar/status/17057336...  \n",
              "1  https://twitter.com/nindy113/status/1705733387...  \n",
              "2  https://twitter.com/sluttheryne/status/1705733...  \n",
              "3  https://twitter.com/yourPizzaaaaa/status/17057...  \n",
              "4  https://twitter.com/SzZelo/status/170573330941...  "
            ],
            "text/html": [
              "\n",
              "  <div id=\"df-b2f7d13d-21b9-4af9-bb27-a77e6ff4f2a1\" class=\"colab-df-container\">\n",
              "    <div>\n",
              "<style scoped>\n",
              "    .dataframe tbody tr th:only-of-type {\n",
              "        vertical-align: middle;\n",
              "    }\n",
              "\n",
              "    .dataframe tbody tr th {\n",
              "        vertical-align: top;\n",
              "    }\n",
              "\n",
              "    .dataframe thead th {\n",
              "        text-align: right;\n",
              "    }\n",
              "</style>\n",
              "<table border=\"1\" class=\"dataframe\">\n",
              "  <thead>\n",
              "    <tr style=\"text-align: right;\">\n",
              "      <th></th>\n",
              "      <th>full_text</th>\n",
              "      <th>Label</th>\n",
              "      <th>tweet_url</th>\n",
              "    </tr>\n",
              "  </thead>\n",
              "  <tbody>\n",
              "    <tr>\n",
              "      <th>0</th>\n",
              "      <td>minimal kl gue editin cari materinya lah ajg u...</td>\n",
              "      <td>Bully</td>\n",
              "      <td>https://twitter.com/cook1iejar/status/17057336...</td>\n",
              "    </tr>\n",
              "    <tr>\n",
              "      <th>1</th>\n",
              "      <td>jamur ðŸ_x008d_„: ngapain sih ikut becky ke lu...</td>\n",
              "      <td>Bully</td>\n",
              "      <td>https://twitter.com/nindy113/status/1705733387...</td>\n",
              "    </tr>\n",
              "    <tr>\n",
              "      <th>2</th>\n",
              "      <td>@moviemenfes susi saha anjing?? btw galang, sa...</td>\n",
              "      <td>Nobully</td>\n",
              "      <td>https://twitter.com/sluttheryne/status/1705733...</td>\n",
              "    </tr>\n",
              "    <tr>\n",
              "      <th>3</th>\n",
              "      <td>Gini amat Jadi Tim Gede pemegang 20 Gelar Liga...</td>\n",
              "      <td>Nobully</td>\n",
              "      <td>https://twitter.com/yourPizzaaaaa/status/17057...</td>\n",
              "    </tr>\n",
              "    <tr>\n",
              "      <th>4</th>\n",
              "      <td>@Zaim72790295 @PDI_Perjuangan Lah ini anjing l...</td>\n",
              "      <td>Nobully</td>\n",
              "      <td>https://twitter.com/SzZelo/status/170573330941...</td>\n",
              "    </tr>\n",
              "  </tbody>\n",
              "</table>\n",
              "</div>\n",
              "    <div class=\"colab-df-buttons\">\n",
              "\n",
              "  <div class=\"colab-df-container\">\n",
              "    <button class=\"colab-df-convert\" onclick=\"convertToInteractive('df-b2f7d13d-21b9-4af9-bb27-a77e6ff4f2a1')\"\n",
              "            title=\"Convert this dataframe to an interactive table.\"\n",
              "            style=\"display:none;\">\n",
              "\n",
              "  <svg xmlns=\"http://www.w3.org/2000/svg\" height=\"24px\" viewBox=\"0 -960 960 960\">\n",
              "    <path d=\"M120-120v-720h720v720H120Zm60-500h600v-160H180v160Zm220 220h160v-160H400v160Zm0 220h160v-160H400v160ZM180-400h160v-160H180v160Zm440 0h160v-160H620v160ZM180-180h160v-160H180v160Zm440 0h160v-160H620v160Z\"/>\n",
              "  </svg>\n",
              "    </button>\n",
              "\n",
              "  <style>\n",
              "    .colab-df-container {\n",
              "      display:flex;\n",
              "      gap: 12px;\n",
              "    }\n",
              "\n",
              "    .colab-df-convert {\n",
              "      background-color: #E8F0FE;\n",
              "      border: none;\n",
              "      border-radius: 50%;\n",
              "      cursor: pointer;\n",
              "      display: none;\n",
              "      fill: #1967D2;\n",
              "      height: 32px;\n",
              "      padding: 0 0 0 0;\n",
              "      width: 32px;\n",
              "    }\n",
              "\n",
              "    .colab-df-convert:hover {\n",
              "      background-color: #E2EBFA;\n",
              "      box-shadow: 0px 1px 2px rgba(60, 64, 67, 0.3), 0px 1px 3px 1px rgba(60, 64, 67, 0.15);\n",
              "      fill: #174EA6;\n",
              "    }\n",
              "\n",
              "    .colab-df-buttons div {\n",
              "      margin-bottom: 4px;\n",
              "    }\n",
              "\n",
              "    [theme=dark] .colab-df-convert {\n",
              "      background-color: #3B4455;\n",
              "      fill: #D2E3FC;\n",
              "    }\n",
              "\n",
              "    [theme=dark] .colab-df-convert:hover {\n",
              "      background-color: #434B5C;\n",
              "      box-shadow: 0px 1px 3px 1px rgba(0, 0, 0, 0.15);\n",
              "      filter: drop-shadow(0px 1px 2px rgba(0, 0, 0, 0.3));\n",
              "      fill: #FFFFFF;\n",
              "    }\n",
              "  </style>\n",
              "\n",
              "    <script>\n",
              "      const buttonEl =\n",
              "        document.querySelector('#df-b2f7d13d-21b9-4af9-bb27-a77e6ff4f2a1 button.colab-df-convert');\n",
              "      buttonEl.style.display =\n",
              "        google.colab.kernel.accessAllowed ? 'block' : 'none';\n",
              "\n",
              "      async function convertToInteractive(key) {\n",
              "        const element = document.querySelector('#df-b2f7d13d-21b9-4af9-bb27-a77e6ff4f2a1');\n",
              "        const dataTable =\n",
              "          await google.colab.kernel.invokeFunction('convertToInteractive',\n",
              "                                                    [key], {});\n",
              "        if (!dataTable) return;\n",
              "\n",
              "        const docLinkHtml = 'Like what you see? Visit the ' +\n",
              "          '<a target=\"_blank\" href=https://colab.research.google.com/notebooks/data_table.ipynb>data table notebook</a>'\n",
              "          + ' to learn more about interactive tables.';\n",
              "        element.innerHTML = '';\n",
              "        dataTable['output_type'] = 'display_data';\n",
              "        await google.colab.output.renderOutput(dataTable, element);\n",
              "        const docLink = document.createElement('div');\n",
              "        docLink.innerHTML = docLinkHtml;\n",
              "        element.appendChild(docLink);\n",
              "      }\n",
              "    </script>\n",
              "  </div>\n",
              "\n",
              "\n",
              "<div id=\"df-ddcbf3b4-5808-4983-9130-ea6a82f31a44\">\n",
              "  <button class=\"colab-df-quickchart\" onclick=\"quickchart('df-ddcbf3b4-5808-4983-9130-ea6a82f31a44')\"\n",
              "            title=\"Suggest charts\"\n",
              "            style=\"display:none;\">\n",
              "\n",
              "<svg xmlns=\"http://www.w3.org/2000/svg\" height=\"24px\"viewBox=\"0 0 24 24\"\n",
              "     width=\"24px\">\n",
              "    <g>\n",
              "        <path d=\"M19 3H5c-1.1 0-2 .9-2 2v14c0 1.1.9 2 2 2h14c1.1 0 2-.9 2-2V5c0-1.1-.9-2-2-2zM9 17H7v-7h2v7zm4 0h-2V7h2v10zm4 0h-2v-4h2v4z\"/>\n",
              "    </g>\n",
              "</svg>\n",
              "  </button>\n",
              "\n",
              "<style>\n",
              "  .colab-df-quickchart {\n",
              "      --bg-color: #E8F0FE;\n",
              "      --fill-color: #1967D2;\n",
              "      --hover-bg-color: #E2EBFA;\n",
              "      --hover-fill-color: #174EA6;\n",
              "      --disabled-fill-color: #AAA;\n",
              "      --disabled-bg-color: #DDD;\n",
              "  }\n",
              "\n",
              "  [theme=dark] .colab-df-quickchart {\n",
              "      --bg-color: #3B4455;\n",
              "      --fill-color: #D2E3FC;\n",
              "      --hover-bg-color: #434B5C;\n",
              "      --hover-fill-color: #FFFFFF;\n",
              "      --disabled-bg-color: #3B4455;\n",
              "      --disabled-fill-color: #666;\n",
              "  }\n",
              "\n",
              "  .colab-df-quickchart {\n",
              "    background-color: var(--bg-color);\n",
              "    border: none;\n",
              "    border-radius: 50%;\n",
              "    cursor: pointer;\n",
              "    display: none;\n",
              "    fill: var(--fill-color);\n",
              "    height: 32px;\n",
              "    padding: 0;\n",
              "    width: 32px;\n",
              "  }\n",
              "\n",
              "  .colab-df-quickchart:hover {\n",
              "    background-color: var(--hover-bg-color);\n",
              "    box-shadow: 0 1px 2px rgba(60, 64, 67, 0.3), 0 1px 3px 1px rgba(60, 64, 67, 0.15);\n",
              "    fill: var(--button-hover-fill-color);\n",
              "  }\n",
              "\n",
              "  .colab-df-quickchart-complete:disabled,\n",
              "  .colab-df-quickchart-complete:disabled:hover {\n",
              "    background-color: var(--disabled-bg-color);\n",
              "    fill: var(--disabled-fill-color);\n",
              "    box-shadow: none;\n",
              "  }\n",
              "\n",
              "  .colab-df-spinner {\n",
              "    border: 2px solid var(--fill-color);\n",
              "    border-color: transparent;\n",
              "    border-bottom-color: var(--fill-color);\n",
              "    animation:\n",
              "      spin 1s steps(1) infinite;\n",
              "  }\n",
              "\n",
              "  @keyframes spin {\n",
              "    0% {\n",
              "      border-color: transparent;\n",
              "      border-bottom-color: var(--fill-color);\n",
              "      border-left-color: var(--fill-color);\n",
              "    }\n",
              "    20% {\n",
              "      border-color: transparent;\n",
              "      border-left-color: var(--fill-color);\n",
              "      border-top-color: var(--fill-color);\n",
              "    }\n",
              "    30% {\n",
              "      border-color: transparent;\n",
              "      border-left-color: var(--fill-color);\n",
              "      border-top-color: var(--fill-color);\n",
              "      border-right-color: var(--fill-color);\n",
              "    }\n",
              "    40% {\n",
              "      border-color: transparent;\n",
              "      border-right-color: var(--fill-color);\n",
              "      border-top-color: var(--fill-color);\n",
              "    }\n",
              "    60% {\n",
              "      border-color: transparent;\n",
              "      border-right-color: var(--fill-color);\n",
              "    }\n",
              "    80% {\n",
              "      border-color: transparent;\n",
              "      border-right-color: var(--fill-color);\n",
              "      border-bottom-color: var(--fill-color);\n",
              "    }\n",
              "    90% {\n",
              "      border-color: transparent;\n",
              "      border-bottom-color: var(--fill-color);\n",
              "    }\n",
              "  }\n",
              "</style>\n",
              "\n",
              "  <script>\n",
              "    async function quickchart(key) {\n",
              "      const quickchartButtonEl =\n",
              "        document.querySelector('#' + key + ' button');\n",
              "      quickchartButtonEl.disabled = true;  // To prevent multiple clicks.\n",
              "      quickchartButtonEl.classList.add('colab-df-spinner');\n",
              "      try {\n",
              "        const charts = await google.colab.kernel.invokeFunction(\n",
              "            'suggestCharts', [key], {});\n",
              "      } catch (error) {\n",
              "        console.error('Error during call to suggestCharts:', error);\n",
              "      }\n",
              "      quickchartButtonEl.classList.remove('colab-df-spinner');\n",
              "      quickchartButtonEl.classList.add('colab-df-quickchart-complete');\n",
              "    }\n",
              "    (() => {\n",
              "      let quickchartButtonEl =\n",
              "        document.querySelector('#df-ddcbf3b4-5808-4983-9130-ea6a82f31a44 button');\n",
              "      quickchartButtonEl.style.display =\n",
              "        google.colab.kernel.accessAllowed ? 'block' : 'none';\n",
              "    })();\n",
              "  </script>\n",
              "</div>\n",
              "    </div>\n",
              "  </div>\n"
            ]
          },
          "metadata": {},
          "execution_count": 3
        }
      ]
    },
    {
      "cell_type": "code",
      "source": [
        "df.info()"
      ],
      "metadata": {
        "colab": {
          "base_uri": "https://localhost:8080/"
        },
        "id": "xQM9_wprYX31",
        "outputId": "c8508ecf-199c-4d46-b12c-40adcba93a7b"
      },
      "execution_count": null,
      "outputs": [
        {
          "output_type": "stream",
          "name": "stdout",
          "text": [
            "<class 'pandas.core.frame.DataFrame'>\n",
            "RangeIndex: 1455 entries, 0 to 1454\n",
            "Data columns (total 3 columns):\n",
            " #   Column     Non-Null Count  Dtype \n",
            "---  ------     --------------  ----- \n",
            " 0   full_text  1455 non-null   object\n",
            " 1   Label      1455 non-null   object\n",
            " 2   tweet_url  1455 non-null   object\n",
            "dtypes: object(3)\n",
            "memory usage: 34.2+ KB\n"
          ]
        }
      ]
    },
    {
      "cell_type": "markdown",
      "source": [
        "## PRE-PROCESSING"
      ],
      "metadata": {
        "id": "20_w5AjrEF7X"
      }
    },
    {
      "cell_type": "code",
      "source": [
        "print(df['Label'].value_counts())"
      ],
      "metadata": {
        "colab": {
          "base_uri": "https://localhost:8080/"
        },
        "id": "qyuntBm6YpJw",
        "outputId": "8ec41918-23c9-4f6c-8e82-f8b390e78ac1"
      },
      "execution_count": null,
      "outputs": [
        {
          "output_type": "stream",
          "name": "stdout",
          "text": [
            "Nobully           1099\n",
            "Bully              339\n",
            "Nobully­             4\n",
            "Nobully_x009d_       2\n",
            "Nobullly             2\n",
            "Nobully_x0081_       2\n",
            "Bully˜               1\n",
            "Buly                 1\n",
            "Nobul­ly             1\n",
            "Nobully˜             1\n",
            "Bully                1\n",
            "Nobully_x008d_       1\n",
            "Bully­               1\n",
            "Name: Label, dtype: int64\n"
          ]
        }
      ]
    },
    {
      "cell_type": "code",
      "source": [
        "def clean_label(label):\n",
        "    label = label.lower()  # Mengubah label menjadi lowercase\n",
        "    label = re.sub(r'[^\\w\\s]', '', label)  # Menghapus karakter non-alphanumerik\n",
        "    label = re.sub(r'\\bno+\\b', 'nobully', label)  # Menggabungkan 'no' menjadi 'nobully'\n",
        "    label = re.sub(r'\\b(bul+)\\b', 'bully', label)  # Menggabungkan 'bul' menjadi 'bully'\n",
        "    return label\n",
        "\n",
        "# Membersihkan label pada kolom 'Label'\n",
        "df['Label'] = df['Label'].apply(clean_label)"
      ],
      "metadata": {
        "id": "yroi0qD5ZIFE"
      },
      "execution_count": null,
      "outputs": []
    },
    {
      "cell_type": "code",
      "source": [
        "# Mapping label yang akan diubah\n",
        "label_mapping = {\n",
        "    'nobullly': 'nobully',\n",
        "    'buly': 'bully',\n",
        "    'nobully_x009d_': 'nobully',\n",
        "    'nobully_x0081_': 'nobully',\n",
        "    'nobully_x008d_': 'nobully'\n",
        "}\n",
        "\n",
        "# Update label sesuai dengan mapping\n",
        "df['Label'] = df['Label'].replace(label_mapping)\n",
        "\n",
        "# Mengubah label menjadi lowercase dan menghapus karakter non-alfanumerik\n",
        "df['Label'] = df['Label'].str.lower().str.replace(r'[^a-zA-Z0-9]', '')"
      ],
      "metadata": {
        "colab": {
          "base_uri": "https://localhost:8080/"
        },
        "id": "58efrcCqZq4J",
        "outputId": "49389dce-7e5c-4ac6-8840-56cd6e24b616"
      },
      "execution_count": null,
      "outputs": [
        {
          "output_type": "stream",
          "name": "stderr",
          "text": [
            "<ipython-input-7-00e56059c40a>:14: FutureWarning: The default value of regex will change from True to False in a future version.\n",
            "  df['Label'] = df['Label'].str.lower().str.replace(r'[^a-zA-Z0-9]', '')\n"
          ]
        }
      ]
    },
    {
      "cell_type": "code",
      "source": [
        "print(df['Label'].value_counts())"
      ],
      "metadata": {
        "colab": {
          "base_uri": "https://localhost:8080/"
        },
        "id": "eH91n30NZKYR",
        "outputId": "095515a0-f2bf-4e7f-853c-5f92858e6a34"
      },
      "execution_count": null,
      "outputs": [
        {
          "output_type": "stream",
          "name": "stdout",
          "text": [
            "nobully    1112\n",
            "bully       343\n",
            "Name: Label, dtype: int64\n"
          ]
        }
      ]
    },
    {
      "cell_type": "code",
      "source": [
        "df.drop_duplicates(subset='full_text',inplace=True)\n",
        "\n",
        "df.info()"
      ],
      "metadata": {
        "colab": {
          "base_uri": "https://localhost:8080/"
        },
        "id": "gCn0_8NXaUmk",
        "outputId": "255e50fb-729a-4745-a312-67bdc56a95bd"
      },
      "execution_count": null,
      "outputs": [
        {
          "output_type": "stream",
          "name": "stdout",
          "text": [
            "<class 'pandas.core.frame.DataFrame'>\n",
            "Int64Index: 1414 entries, 0 to 1454\n",
            "Data columns (total 3 columns):\n",
            " #   Column     Non-Null Count  Dtype \n",
            "---  ------     --------------  ----- \n",
            " 0   full_text  1414 non-null   object\n",
            " 1   Label      1414 non-null   object\n",
            " 2   tweet_url  1414 non-null   object\n",
            "dtypes: object(3)\n",
            "memory usage: 44.2+ KB\n"
          ]
        }
      ]
    },
    {
      "cell_type": "code",
      "source": [
        "df = df[['full_text','Label']]"
      ],
      "metadata": {
        "id": "JKUdu8UzbF2d"
      },
      "execution_count": null,
      "outputs": []
    },
    {
      "cell_type": "code",
      "source": [
        "import re\n",
        "\n",
        "def strip_emoji(text):\n",
        "    emoji_pattern = re.compile(\"[\"\n",
        "                               u\"\\U0001F600-\\U0001F64F\"  # emoticons\n",
        "                               u\"\\U0001F300-\\U0001F5FF\"  # symbols & pictographs\n",
        "                               u\"\\U0001F680-\\U0001F6FF\"  # transport & map symbols\n",
        "                               u\"\\U0001F1E0-\\U0001F1FF\"  # flags (iOS)\n",
        "                               u\"\\U00002500-\\U00002BEF\"  # chinese char\n",
        "                               u\"\\U00002702-\\U000027B0\"\n",
        "                               u\"\\U00002702-\\U000027B0\"\n",
        "                               u\"\\U000024C2-\\U0001F251\"\n",
        "                               u\"\\U0001f926-\\U0001f937\"\n",
        "                               u\"\\U00010000-\\U0010ffff\"\n",
        "                               u\"\\u2640-\\u2642\"\n",
        "                               u\"\\u2600-\\u2B55\"\n",
        "                               u\"\\u200d\"\n",
        "                               u\"\\u23cf\"\n",
        "                               u\"\\u23e9\"\n",
        "                               u\"\\u231a\"\n",
        "                               u\"\\ufe0f\"  # dingbats\n",
        "                               u\"\\u3030\"\n",
        "                               \"]+\", flags=re.UNICODE)\n",
        "    return emoji_pattern.sub(r'', text)\n",
        "\n",
        "#Remove punctuations, links, mentions and \\r\\n new line characters\n",
        "def strip_all_entities(text):\n",
        "    text = text.replace('\\r', '').replace('\\n', ' ').replace('\\n', ' ').lower() #remove \\n and \\r and lowercase\n",
        "    text = re.sub(r\"(?:\\@|https?\\://)\\S+\", \"\", text) #remove links and mentions\n",
        "    text = re.sub(r'[^\\x00-\\x7f]',r'', text) #remove non utf8/ascii characters such as '\\x9a\\x91\\x97\\x9a\\x97'\n",
        "    text = re.sub(r'@\\S+\\s?', '', text)  # remove @ and the word after it with the space\n",
        "    banned_list= string.punctuation + 'Ã'+'±'+'ã'+'¼'+'â'+'»'+'§'\n",
        "    table = str.maketrans('', '', banned_list)\n",
        "    text = text.translate(table)\n",
        "    return text\n",
        "\n",
        "#clean hashtags at the end of the sentence, and keep those in the middle of the sentence by removing just the # symbol\n",
        "def clean_hashtags(tweet):\n",
        "    new_tweet = \" \".join(word.strip() for word in re.split('#(?!(?:hashtag)\\b)[\\w-]+(?=(?:\\s+#[\\w-]+)*\\s*$)', tweet)) #remove last hashtags\n",
        "    new_tweet2 = \" \".join(word.strip() for word in re.split('#|_', new_tweet)) #remove hashtags symbol from words in the middle of the sentence\n",
        "    return new_tweet2\n",
        "\n",
        "#Filter special characters such as & and $ present in some words\n",
        "def filter_chars(a):\n",
        "    sent = []\n",
        "    for word in a.split(' '):\n",
        "        if ('$' in word) | ('&' in word):\n",
        "            sent.append('')\n",
        "        else:\n",
        "            sent.append(word)\n",
        "    return ' '.join(sent)\n",
        "\n",
        "def remove_mult_spaces(text): # remove multiple spaces\n",
        "    return re.sub(\"\\s\\s+\" , \" \", text)\n",
        "\n",
        "texts_new = []\n",
        "for t in df.full_text:\n",
        "    if isinstance(t, str):  # Periksa apakah tipe data adalah string\n",
        "        texts_new.append(remove_mult_spaces(filter_chars(clean_hashtags(strip_all_entities(strip_emoji(t))))))\n"
      ],
      "metadata": {
        "id": "-iF6gfvmc9hg"
      },
      "execution_count": null,
      "outputs": []
    },
    {
      "cell_type": "code",
      "source": [
        "print(texts_new)"
      ],
      "metadata": {
        "colab": {
          "base_uri": "https://localhost:8080/"
        },
        "id": "fYQaIXDZfy58",
        "outputId": "04bdff70-c2fc-4189-bdf8-c5517db135df"
      },
      "execution_count": null,
      "outputs": [
        {
          "output_type": "stream",
          "name": "stdout",
          "text": [
            "['minimal kl gue editin cari materinya lah ajg udh di bagi juga tugas per materi malah kaga di cari boro boro di cari pesan ny di read aja kaga babi lo anjing beban bnr ijin misuh y', 'jamur x008d ngapain sih ikut becky ke luar negerimending tiduran di rumah sama aku sambil maen sama anjing kalau kamu pergi pergi terus kapan ada waktu sama aku yaaaaaaangggg', 'susi saha anjing btw galang sampe sekarang juga masih galang', 'gini amat jadi tim gede pemegang 20 gelar liga inggris keliatan banget kali pada syirik nya ke emyu apalagi small club itu makan tuh fakta anjing', 'lah ini anjing lagi ngetweet', 'gak salah sih anjing wkkwkwkwk', 'anjing admin kantor pada dibayarin nonton aespa tottt iri berat', 'tonjok perut dia gw cemburu anjing', 'segala salah submit anjingg anjinggg', 'mau anak anjing pake bangettttttttttt', 'bukan masalah percaya rumor t pi tae pasti baklan date sama cewek ga bakalan sama cowok anjing memang mereka yang tolol ngatain tolol bilang tae dating women tuh langsung pada tantrum jekicot dating bongo', 'anjing lah anjing', 'gausah bawa2 army anjing gaada sangkut pautnya orang ini antar reveluv blink paling gak demen lagi ngomongin apa yang dibahas apa ganyambung bgt', 'marah sm si anjing sakit hati gara2 si anjg pengin peluk hn ngarep sm sencol sencol jan jawab aneh2 ya sencol kasihan hn ak', 'emg kntol dh lu smw anjing', 'mampus anjing', 'pagi pagi udah ngeliat kelakuan solos kontol anjing muka lu sini gue remes remes biar kisut anjing', 'anjing', 'anjing latto kaget aing', 'kek anjing kenapa elu bisa saying one of the meanest thing to me tapi giliran gw yg ngomong jahat elu koar koar ngatain gw baperan sensi ga ngerti jokes gobloogg your jokes is making fun of my physique and my looks', 'result carolina day minggu 24 september 2023 8554 shio anjing silahkan isi form withdraw bagi yang jp salam jp jabartoto', 'yg lbh bajingan justru mrk yg menjadikan anjing china jadi polisi', 'result carolina day minggu 24 september 2023 8554 shio anjing silahkan isi form withdraw bagi yang jp salam jp jabartoto', 'cina anjing', 'her marah and literally saying one of the meanest thing to me me minta maaf berkali kali pdhl bkn gw yg salah 1 week later me cmn ngmong jokes lu ga lucu anjing gw tersinggung her apa sih tot sensi amat baperan jokes doang lagian', '1st of all boston anjing sebel belagu amatx008f giliran di ulti sm mew ciut lu muntahhh', 'semoga dikasih mimpi dikejar anjing', 'tulis aja langsung anak arab anjing lama banget lo ngespill gitu aja nyet', 'sapa nk dgr salakan raja anjing bangsat gila sbb dedak babi nk abispukimak kau sial', 'cina anjing', 'gua mutermuter kayak org tolol anjing kayaknye efek earring', 'bangsat anjing bilang aja lu gak mau belikan gw', 'anjing', 'anjing gue cemburu', 'gwe wanti wanti banget ya anjing biar gak brengsek ternyata gue yang kena kontwol', 'betul tinggal dibersihkan lagi pula salah apa juga si anjing itu', 'gebrakan apa ini gue baru bangun anjing', 'aku uninstall monopolygo sbelum dia kecoh israel lagi aku koyak masa spin event kek bodoh tudeal bnyak2 dia bagi ciput sampai dadu habis anjing punye game', 'pas yg terakhir otomatis ngomong anjing bangsat', 'tapi sumpah ini lucu banget anjing hahahhahahaha', 'result brazil night pools minggu 24 september 2023 2430 shio anjing silahkan isi form withdraw bagi yang jp salam jp jabartoto', 'kaget anjir tiba tiba mantan buka pintu kost mana cuman pake cd anjing', 'gila gue kek mama muda jam 4 anjing gue nangis gara2 kedinginanx008f', 'konyol anjing harusnya lo hidup bareng badut it aja anjir dia kan ketawa terus', 'gabisa anjing gue gabisax008f', 'result cambodia night pools minggu 24 september 2023 3518 shio anjing silahkan isi form withdraw bagi yang jp salam jp jabartoto', 'fak anjingg hahahahahah', 'allah tuh adil kadang sesuatu yg hina di mata manusia bisa berbeda di mata allah ingat pernah ada seorang pelacur yg masuk surga gegara memberi minum anjing sebelum meninggal kita ga pernah tau ending setiap orang itu bagaimana jadi jangan asal jadi hakim bagi saudaramu', 'anjing mau ketemu renjun bangsatt', 'gw jg anjing', 'anjing gw mau', 'galang anjing babi bangsat taik kucing lu galang anjinggg gue doain tuh kontol gak bisa muncrat lagi taikkk', 'lu mendingan kawin sama anjing aja dahh nanti anaknya menggongong ga nangis', 'anjing gue udh kaget', 'gada yg pduli anjing', 'anjingg karina secakep ini smlm', 'aduh gw stuck disini bermenit menit pedih pasti lu suka banget yak sampe berjuang segitunya tapi lu bego sihhhhhh huhuhu anjing mau sama gua aja gak tapi gua burik kak part dua', 'prediksi togel sydney 24 september 2023 angka main 5 6 2 7 4 colok bebas 2d 6 amp 4 top 4d 5627742662474652 top 3d 562275627756765 top 2d 526562672657 shio anjing angka twins 22 web prediksi flokitoto', 'obatku 4 anjing gede semua', '2bln menhilang dan dtng lagibginila hukum alam datang dan prgdasar anjinguda capek ma tulus dan stia sama dia mala dia hilang pas dtng lagi dgn ucpan manis nya anjinguda enak jomblo meskipun kesepianorang yg tinggalkan sya pasti mnyesal x008f', 'brengsek lu miya gye nangis pagipagi anjing', 'anjing', 'anjing gue cape cinta sendri gue malesss sama dia orng gue jadi kesell sumpah gue bete prh anjjjjjh', 'anjing ketawa bgt', 'tai anjing', 'parah anjing parah nooo', 'terjerat jaring bayi anjing laut diselamatkan di afsel', 'tau anjing kenapa ya', 'tanyarl kan ada tuh namanya nasi kucing meskipun ga pake daging kucing kl aku jual nmanya nasi anjing boleh ga si nama aja ga pake dging anjing beneran', 'bodoh tolol anjing bangsat goblok ucap diriku kpd diriku', 'hampir 1 juta sebulan cuma buat beli kopi doang anjing lah pantes agak miskin setiap akhir bulan', 'emang anjingg baru sadar khh u', 'kontol lu anjing bangsat gw belom cair dari tip malah cepu goblok', 'wekwan anjing emang', 'bangsatt baru ijo anjing gausah klakson gak bisa naik motor belajar dulu anjing tolol bahayain orang anjing rausah ngebut cokkkk berisik knalpot jamet kabupaten polisi tidur segede ini buat apa dah ya allah kenapa sihhhhh orang orang bego kaya gini dikasih motor', 'anjing banget setiap hari minggu kenapa gampang banget bangun pagi giliran hari kerja susahhhhhhh banget ampun', 'anjing lu hisung cemburu kekx008f', 'kampret gua iri banget anjingg', 'gue dari tadi fokus nonton bngt sampe mikirin ini 3d apa anjing gue jadi dag dig dug ser', 'anjing kurap lagi lapar ya', 'bacot sia ngentot kalo panas mah panas aja anjing', 'sicepat bener bener ya anjing ekspedisi sampah dr semua ekspedisi di indonesia cuma si cepat aja yg lemotnya bukan maen mana barangnya keburu dipake eh ini malah criss cross segala anjeng anjeng', 'minimal nanya goblok kalo gatau bukan malah jadi bikin indo di ban lu tolol punya otak ga di pake komunitas negara india mah kompak bukan malah cepuin negara sendiri babi gua baru garap round 3 ini kontol lu anjing', 'babiiii ternyata ketauan anjingg kalau ngesave video orang di tiktok', 'minggu juga lonte anjing jalang', 'jilat terus sampe ke daki kuku buzzer anjing pemerintah kasi makan anak bini lu pake uang panas', 'ini nder yang aku baca misuh pake hangeul aja kali ya asuuuuu kalian jancuk anak setan tai anjing babix009d', 'mahluk apa anjing itu', 'blio kan tipe orang yang kalo orang lain nuding blio tu blio bodo amat kayak anjing menggonggong kafilah berlalu tapi kalo sampe nyentuh anak2nya tu berarti lu membangunkan singa tidur ini keadaan udah ga enak banget sampe ditegur ama orang yang ga suka marah kayak blio', 'emosi emosi bgt anjing', 'anjing jujur ak kaget bgt tadi bacanyax008fx008f', 'oalah anjing ternyata gajadi cover', 'anjing gue baru bangun semalem sm anak gc baru ngomongin buat minnta spill something sm pakinsatang ga nyangka lgsg di kabulin sialan mana baru ngomongin ciuman gemfot juga', 'ga ada anjing itu becanda doanb', 'wkwk keluarga anjing', 'kata orang kalo kita sering ditempel dan dideketin hewan2 kayak kucing sama anjing random artinya aura kita positif apa auraku positif hmmmmmmmmm', 'mau piara anjing husky', 'kmu tu lucu tp kaya anjing', 'garagara celeng bikin garis seenaknya anjing masuk', 'wkwk kalo yang ngejarnya anjing kan takut', 'jla anjing jla plis bru inget kalo nge an fol kapi rak sih mergo kapi rak polbek n now', 'intel anjing bangsat taik babi provokasi busuk', 'keluarga elu anjing kapirr monyet', 'prediksi togel leeds 24 september 2023 angka main 7 1 9 6 0 colok bebas 2d 9 amp 7 top 4d 1906719601796091 top 3d 617967196719671 top 2d 169117717661 shio anjing angka twins 11 web prediksi flokitoto', 'anjing', 'orang tua kalo udah puber kedua memang anjing banget', 'allegri anjing', 'bentukan jijel sama jeno dari belakang begini anjing gila emg perfect body bgt', 'anjing adam gua kesel sama lo plis semoga ini mimpinya jefa doang sumpah kesel bgt adamm pdahal gua di pihak lo njir info tampol adam donggg gua kesel sampai nangis', 'happy birthday beautiful anjing happy birthday anji anjisalvacion', 'iqbal anjing', 'prediksi togel dewata pools 24 september 2023 angka main 1 2 8 4 0 colok bebas 2d 0 amp 2 top 4d 2804021812844082 top 3d 284421128412841 top 2d 281884812142 shio anjing angka twins 22 web prediksi flokitoto', 'hahahah ril anjing', 'mimpi ditunjuk bu etik ngerjain soal matematika di depan kelas bangun2 lngsng lemes anjing', 'gapapa gue happy bgt anjing gue gaboleh sedih pokonnya', 'wkwkwk ketawa banget anjing dulu aja ngatain jm masuk trending cuma karena ga shipper hadah makan noh trending', 'please gue juga cape cape bgt anjing bangsat tai babii monyettttttt', 'napa sii babii kok malah ovt sama cewe', 'babii ga ada sopan sopannya lu', 'pen culik firfirnarak maaak', 'hari ini aku minum susu babii x0081x0081', 'omggggggg jwjwkwkask gmmtvfandayinbkkxfk', 'sumpah anjing punya temen slowrespon bgt babii', 'uang ada hiburan yang tidak ada babii memang', 'thats yah ketahuan babii', 'fak yu alternator 27 tu ganyampe knock sampe low aja swehit 2 hit jadi pas reload di sampah babii', 'nak tgk gak babii', 'wkwkwkwk gapapa aku juga 35 star soalnya gak kuat bzirrr coppelius babii', 'gondo sm babii lt 3', 'hbd ciize x008d ciize24thbestbirthday ciizezphr janeeyeh', 'walaupun cuma sebagai fans bukan faen read gun atp jujur ngerasa seneng banget sebagai babii berasa dihargai banget sama offjum apaapa pasti selalu bawa babii makasih banyak ya offjum udah selalu inget babii amp selalu menghargai keberadaan babii offjumpol', 'babii smuaaa', 'aku penat lah babii', 'goblokk natamu aku wes sen iki loh panass banget babii gw udah minggir anjing kalau ada mobil klakson dsri belakang huhu taii kena jalan berlubang asu nyaposee banter banter kabeh ki yaallahhh anginne banter men nyanyi mobil belajaran ya lu silau mennn', 'babii orang orang pada pacaran real gue jg mw', 'lo babii gahar', 'congratulations namu', 'babii lo smuaaaaa', 'dimana nya kak', 'zona 3dimana kak aku plaza tenggara jauh y', 'babii cuma mau ngetap keluar doanggx008fx008fx008f', 'musnah lo bajingan tolol bego monyet bangsat babii', 'lu ngejek banget babii x008fx008fx008fx008f', 'hai kak ini dimana ya', 'nuhuh', 'mamah berantem sama kaka gara gara mamah bilang sabun cuci tuh yg ukuran 5000 paling habis 2 hari kaka gue di komporin sama sepupu katanya mamah bilang kaka gue numpang gak beliin sabun wkwkwk sekarang nyokap gue jantungnya kumat dan kaka gue kek ngerasa bersalah gitu tai', 'anjir lah niat ngerjain peta malah gabisa terusss reclassify eror terus babii', 'kocak emang', 'semangat bg dikit lg lucu', 'makasihh lucuu tapi kenapaa harus babii sihx009dx008f', 'alah pepek lu itu host kecil tapi problematik nya parah dri dulu juga play victim banget babii', 'cakep bgt anjir jgn nyenggol hati comelku babii huf maaf krusinh trs soalnya ak mw nabung anjir lah apa mngkin', 'pa cahyo tuh enak ngajarinnya soalnya ketawa ketiwi tp gabisa priv babii', 'jlek bgt babii nangis di busway siang siang', 'jadilah yg luar biasa krn yg biasa itu sudah biasa', 'pada milih babii', 'walahh babii wowowkkwkwk', 'ada kami dc nya serem banget temen gue pakai ada kami sampai nelfon orang tuanya dan di makimaki kek babii dc nya anjir mana ngancem pula', 'morning emng jaekyung kontolll babii emng', 'krl manda foto', 'hari ini pas 1tahun aku sama kamu heheh', 'cape ngerapihin lupa di save babii', 'babii makasih udah buat gw ketawa', 'anjing axis taii beli paket suka suka 47rebu 24gb yang ke isi 12gb doang bangsatt sehari doang ini mah babii', 'babii baru tidur sebentar udh kena nightmare', 'ya ga adajgn lgsg diulti gitulah babii', 'bangsat anjing fuckkk pukiiii badjingannnnn aishhhh shiballllll babii taikk monyedd', 'otak anjg keluar dehblo anjgg bangsattt bencik hgtt guee kenjaku babii', 'gak pernah takut buat se jatuh cinta sama og sampe bangga bangt jadi babii kek diperhatiin ortu gitu loh off si paling terang terangan dan gun si keliatan cuek aslinya diem perhatian yang ditakutin disini diri sendiri yang berubahninggalin bukan offgun', 'bagiiiii', 'tb tb nt deket sm siapaaa anjg ga ceritaa babii', 'emang boleh se babii ini', 'aku pernah nyolong pialaku sendiri buat bawa pulang karena pas dipajang di sekolah malah nggak keurus', 'nyari referensi jurnal kek babii susahnyaaaaa', 'babii bangetlah si jere woargh ngucapin serapah pun nggak bakal puas gua ngamoknya real gue aja udah kehabisan sumpah serapah buat dia x008dx008d tellonym', 'babii ngakak bgt', 'gue ngingetin ya babii ini sbnrnya guee pengen ngomong dancok loh guee cuma ngingetinnn kontolllll gue gedeg banget sama luu sumpahh disabarim ga ngerti bangettt anjing malah makinn jadii ngeselin nya', 'tau ah mls kalah mulu babii', 'gua blm sempet anjir pas gua mau nyari malah udh gk bisaaa babii bngt', 'kwidbeywkwiwkwk babii', 'jaiwkwjsowksnssjiw', 'bambam solo concert in mnl bambamarea52inmanila', 'bajingan', 'bajingan', 'ini bajingan tolol dongo banget emang nya di dunia ini rocky gerung doang contoh ibu kau itu kan pelacur kampung kan namanya pelacur kampung banyakbukan ibu mu doang tul gak nyet', 'masaallah amin semoga para bajingan tolol sadar ya', 'omong kosong kayak ini nggak udh dipercaya cukup pinokio yg jdi buktinya', 'dasar lonte bajingan', 'ketika pulau rempang sedang berduka kedua orang in dan kemana aja kok hilang bagaikan di telan bumi apa udah di kubur masih ngepet pindah cari sasaran lain untuk bisnis investorx cobak tanya sama bajingan tolol itu', 'malah nyalain tiktok anjlok itu semenjak lu ada daya beli org pada turun planga plongo', '12 bulan lagi kamu akan tetap dungu dan menyandang gelar bajingan tolol', 'ini 10nya apa bajingan', 'dongo cari uang halal ngerti gak benar2 bajingan tolol nih orang', 'kades dan pejabat kelurahan sebetulnya itu representasi suara rakyat namun itu harus dilakukan secara adil saat mengambil kesimpulan aspirasi warganya karena pasti ada pro kontra jgn sampai yg kontra teprovokasi kelompok bajingan tolol aman deh', 'bajingan tolol mau jelasin apa itu komunis hanya orang komunis yg bersemangat menjelaskan apa itu komunis dongo banget nih orang kena jebakan batman gwe', 'buzzerppki munafik bajingan tolol cebong penjilat bangsa dua kader abubu in gk bakalan mengalahkan pak anis karna ganjar masih punya kasus korupsi ktp dan wowok para pendukungx udah kecewa munafik', 'terlalu menginjaknginjak diri gue selalu nganggep gue remeh dan selalu ngejadiin gue sasaran empuk buat mereka tindas brengsek bajingan tolol manusia2 pantek itu', 'kalaupun hukum dunia dan hukum alam masih kebal buat camat dan pelaku bajingan ini semoga di akhirat nanti bakal terbalas telak yang kuat dan tabah ya pak samsul allah lagi naikin derajat dan martabat keluarga bapak setinggi langit udah kacau sistem hukum di negara ini', 'huft aku gak mengajarkan km untuk mencintai sagitarius bajingan', 'temen lama gue yang brengsek bajingan', 'bukti negeri ini dikuasai oleh para bajingan', 'dasar bajingan tolol', 'jadi emang bener ya cewek lebih suka cowok yang bajingan bilang dia baik banget tapi pengen ninggalin kan kocak anjg giliran udah disakitin cowok baru lah koar cowok mana yang harus aku percaya', 'cuma omdo bp presiden ri joo widodo kepala negara terpopuler di dunia diakui oleh tetangga negara dekatnya sebagai kepala negara yang adem dermawan padahal segelintir orang warga negaranya yang cerdas pengeritik pedas sampai menyebut bajingan tetap tenang', 'bajingan tolol', 'bajingan', 'kenyataan dan realita hidup memang pedih dan bajingan', 'bajingan cakep bngt winwin', 'aura si emang negatif bajingan dan munafik melekat pd diri si anies', 'yang kerja bajingan tolol korup', 'bajingan tolol yg ga peduli rkyattanah d rampas rajanya pesta porakaya jaman kompeni blanda', 'namanya juga kadrun munafik culas dan bajingan adalah karakternya sama dgn kader', 'yang kerja bajingan tolol', 'ngapain kamu pelet bajingan kayak begitu', 'proyek rela dijebak hutang sm kakak besar emang bajingan tolol awal di ajak kakak bsr naik kc di negaranya bikin proyek yg ktnya btob gak pake jaminan apbn bunga hutang 2 jepang hanya 02 anehnya skrg jd bunga 315 molorbengkak koq gak didenda finalty', 'bajingan malah jadi satu', 'sumpah ya nunggu kabar kontraknya blackpink rasanya kyk waktu gue dulu nunggu kabar mashidam keluar grup tiap hari ovt mikir kemungkinan2 terburuk yg pd akhirnya beneran kejadian cuma emang ditundatunda aja kenapa lagi2 yg nyakitin gue tuh si bajingan satu itu sih', 'baca alhamdulillahkan dah dianggap calon surga bila mo dimaduups', 'mmg bajingan sekali rejim si jokowi', 'bajingan emang merasa didzalimi padahal dia yg dzalim', 'para bajingan lagi ngabisin duit rakyat', 'baja bajingan', 'no komenmo jdi kacung oligarki ke mo jdi artis goblok keitu sih derita lo masa bodoh gue ttp pilih anies', 'dh bngun atw blm tdur ksian km psti mikirin bajingan itu yh', 'bajingan tolol mau luh apa sih nyet elu menghina pilihan orang nyet kalo elu benci agama pindah ke tiongkok komunis aja disana banyak komunitas luh hidup lu dipersulit elu gak suka agama malah tinggal di indo elu bisa mati berdiri kiri kanan semua beragama', 'bajingan tolol mau luh apa sih nyet elu menghina pilihan orang nyet kalo elu benci agama pindah ke tiongkok komunis aja disana banyak komunitas luh hidup lu dipersulit elu gak suka agama malah tinggal di indo elu bisa mati berdiri kiri kanan semua beragama', 'konten konten bajingan seperti yg membuat cewe nuntut effort berlebihan ke pasangannya noh nikahin aja noh gampar gampar korea sambil halu', 'mka banteng cuma modal congor kita lihat saja alasan apa yg akan dijelaskan pd rakyat bhw dalam satu keluarga tdk boleh ada beda partai pedeipeh mungkin mak banteng yg dipecat sbg ketua dewan pengarah brin dan bpip preman2 di partainya kembali jadi rampok kalau miskin', 'baru tahu apa tujuannya hengkang dari koalisi perubahan ternyata hny bs menjilat penguasa anak mami gak mungkin berani melawan penguasa emang berani bisnisnya dihambat bantuan suntikan dana perbankan sot si wowo dulu', 'bajingan tolol penipu raut muka tanpa rasa bersalah tanpa merasa berdosa pemain kawakan', 'bajingann ah ronyy kesell', 'wowo sdh 20thn puasa kekuasaan sejak mertuanya lengser makanya mengemis dan menghiba pd si bajingan tolol utk dpt jabatan menteri tak perduli pendukungnya dulu kecewa atas sikapnya manusia begini mau dipercaya jadi pemimpin lbh bahaya dari mak banteng menghabiskan asset nkri', 'demi sebuah keuntungan yg sdh diterima sebelumnya lord opung dan si bajingan tolol tak perduli dg rekomendasi komnas ham justru mrk merasa tlh melakukan upaya membangun daerah rempang sbg psn dg landasan peraturan yg dibuat tanpa melibatkan stakeholder lain merekalah banditnya', 'bajingan', 'macam sanusi termasuk bajingan tololx009d janganlupakanbanglong', 'jongos bajingan tolol ngamuk kumat epilepsi', 'knp lo ga membuka mata sih yg jelas jelas cinta gua kan elo bajingan masa lalu lo kampret fak masi aja di harepin liat noh gua rela ninggalin masa lalu gua demi siapa demikian taik bukan demi lo lah bangsat', 'ini semua merupakan hasil lobby lord opung ke china dia tipu bangsanya sendiri dg alasan investasi pabrik kaca lord opung lah otak segala kekacauan di negeri ini tapi dia pintar memanfaatkan si bajingan tolol seolah2 dia hny mendapat amanat dan pura2 bekerja dg penuh tgjwb', 'kadang pengen mati muda karena mikir no point in living tapi gua kasian sama nyokap gua kalo gua ga ada pasti dia yang bakalan mikul semuanya sendirian karena semua orang di keluarga gua selain dia pada bajingan atau lazy pos', 'emang berani pedeipeh bertindak pengen gak dapat project pemerintah ntar preman2 di partainya mau dikasih makan apa kalau tdk lagi dpt sumbangan jokowi', 'opet kok bajingan', 'bajingan mana lagi ini yg bikin ebi tolil', 'bajingan hampir kegocek kaya gamungkin mana prediksi kaga ade tuh subtitle engkor', 'bajingan fc hold on tight better things gua burikkk taik', 'lebih baik memperbaiki daripada mencari pengganti', 'sdh penjilat ternyata penghianat bangsa juga banggakan aseng rendahkan anak bangsa dasar bajingan tolol', '22 nya gk seh mas', 'bajingan', 'lah goblik kenapa kmu pengen dipilih dan dinikahi oleh cowok red flag dlm hal ini kmu klo pinter sebenernya lebih beruntung dripada pacarnya pacarnya gak tau apa2 nikah sama cowok bajingan', 'makin lama makin bajingan juga ya ini lagu', 'wowo kan sdh jelaskan bhw selama 20thn belakangan tdk mendapatkan dukungan dari perbankan utk seluruh bisnisnya makanya dia terima pemberian jokowi sbg menteri hny utk menyelamatkan bisnisnya agar dapat suntikan dana bank sekarang rakyat baru tahu tujuan si wowo utk berkuasa', 'kalo bsk emang anakanak sm pada ke fxkwangya store gimana ya gua pts senin nya bajingann', 'bajingan tololanak lonte banteng komunis ngapain luh nyuruh2 orang takbir kelaperan ya ente kerja makanyajangan males cuci piring kek nyangkul kek kerjaan banyak elu malah pilih uang haram dongo banget', 'luhut biang perampasan luhut biang penjegalan luhut bajingan preman', 'bajingan tolol ini orang iri sama kita mo dukung anies tapi malu karna ni orang banyak dosa maling uang rakyat', 'elu bahas uang mulu kelaperan luh nyet bajingan tololkalo gk punya duit kerja lah bukan nge buzzerp', 'gue marah bgt ya anjg wekwan baju anak knp bisa itu lagi bajingan', 'bajingan tolol dongo banget pasti mama kau pelacur di pinggir jalan ya kata nya jangan sara eeebajingan tolol menghina agama mulu ciri komunis pkidia yg saratapi dia tuduh orang lain sara', 'bajingan', 'denger yabajingan tolol', 'gue tungguin malah lu kaga update bajingan', 'trashford egoise wes ora ketulungan bajingan', 'tanpa investasi rakyat udah sejahtera dan udah hidup damai ini mengatasnamakan investasi untuk mencuri tanah rakyat dasar bajingan', 'bajingan kena tipu', 'you dont deserve this whole feelings nder emang bajingan itu laki but the way that you know he got smone else kenapa masih milih stay kalo kasusnya dikembalikan iya bajingan itu milih kamu dan dia malah ngews sm cewe lain would you be j fine w it', 'persis pola orde lamasoekarnorezim pki pesta2 norak tak beradab disaat rakyat berjuang uhidup dri penderitaan akibat ulah mereka bangsa bajingan kalian', 'satu kata buat lu lah mamat bajingan', 'ora iso turu asuuuu bajingan', 'di perlakukan kaya gt sama ex2 gue slalu di benerin tanpa harus narik baju kaya gt walaupun bajinganjjr gue sebagai cewe sakit hati bgt knp hrs kaya gt tapi setelah itu di buat seneng lagiyg bener2 gue kangen bgt sama diri gue sebenernyayg ga gampang emosi kaya skrng', 'bjir jadi sarang minta putus ke pak gu won itu maksutnya putus kontrak kerja bukan putus pacarannyabajingan gw uda galau di eps 15 tai', 'bukan bajingan tp kesayangan inisial t', 'bajingan', 'bsk senin bajingan', 'komentarnya rashford asu mctom bajingan dalot ampas peninggalan ole emang ga ada yg bener selain bruno su', 'bajingan tenannnn asu ogg', 'tetep dijalur bajingan soale doyane tempekx008fx008f', 'wong koyo aku ngeneki tetep di cap bajingan', 'tuh kakek haram grup bajingan tolol yg sok pintar saran belanja otak biar bisa mikir dan pintar secuil aja tolol jgn di borong semua berbagilah samarata samarasa pada mahluk gorong yg lain', 'var bajingan tenan wes nggolek gol angel malah di varke lonte', 'ini tim bener gak niat menang kontol gajelas pemain fokus stasitik sendiri gak peduli menang kalah bajingan', 'bajingan potret diriku jaman sma', 'jancokkkk bajingan sabar sabarrr', 'ganti dgn sendiriny bajingan emg orangx009d', 'bajingan mesti var', 'wasite bajingan', 'bajingan gue kaga ngantuk2', 'bajingan gayeng banget barca versi saiki', 'bajingan jongseong kenapa cakep banget wkwk jd pengen balik', 'cakep banget bangsatt gila', 'aaa bangsatt gatau mauu emosi apa ketawa', 'prize giveaway airdrop donationex lfg', 'jancokkk onk ae bangsatt sumpahh titen ketemu nk dalan yo', 'givee me tip', 'lfg', 'lfg calestiq', 'hahahahah bangsatt terdoktrin cokk', 'buka tiktok berasa diketawain bangsatt', 'dm nayla mango bang', 'anjinggggg ketiduran bangsatt jadi ga bisa liat barca gue kambekkk', 'iya hhhh mahito ini ngeselin bgttt bgt tp cakep tp ttp aja ngeselin bangsatt', 'hah bangsatt', 'bangsaaat bangsatt', 'bangsatt mau salto ajaa nihh guaa', 'bangsatt pala orang di engkol lu kata rx king', 'beneran dikutuk klub ini bangsatt tanda tanda bentar lgi pasti kebobolan', 'bangsatt', 'paket gue ga gerak anjenggggg tiki lama bangsatt', 'tololllll anjingngngngngn ciuman trakhir ap ajg smpe melukin pinggang cwe bangsatt itu arti nya lo menikmati itu ciuman sama cwek gila itu ajg', 'bangsatt giliran hanbin di tengah diprotes member lain di tengah ga protes asu itu mereka baru selesai perfom langsung berdiri ga sempat atur barisan itu aja pada ga sesuai official standing ajggg', 'karna dia gak salah bangsatt', 'napa jadi gini mainnya bangsatt xaviii', 'guee bnyak fancam jaehuyunnn gantenggg bgtt bangsatt gue stabilize dlu yee', 'bangsatt udah cape ngurus acara harus ngurusin nenenin anggota juga', 'dm gua bang', 'dm bang', 'elu anjinggggg bngttt anaian lian phayak bangsatt lu berduaaaaaa aaaaaaa baru mulai dah dikasih begituan', 'naylamana kirimaja link nya', 'bangsatt mencoreng nama baik masyarakat plat k', 'kirim nayla', 'perkara jidat doang sekarang offside bangsatt', 'bangsatt akun jahanam gw gk keprivate', 'salting bgt bangsatt liat jenselle', 'aduh richard bangsatt puyeng gua liat mentab', 'gue gemeterannnnnn bgtt bangsatt myhearttttwhwtsgara', 'demi allah umam cakep banget bangsatt', 'dia bahagia bangsatt', 'bangsatt awoakwokaowk abang', 'gue belum ngapangapain untuk ekskul jurnal sama dpg anjingg kenapa dibulan yang sama sih bangsatt', 'org org sekarang kalo ga caper ga makan cok hahaha sok iye bgt tai najis gue liatnya bangsatt sakit jiwa', 'bangsatt taeyong pleaseee', 'anjir kenapa sih cok hari ini banyak hal yang bikin gue kesel sesimple mau main game aja gabisa bisa bangsatt', 'oooo sialan gua harus baca 2 kali baru ngerti bangsatt', 'bangsatt seunghan doyoungg anjirr ya tuhan', 'jancokk wes kecewa ditambahi kaos ilang bangsatt', 'bangsatt', 'bangsatt', 'klo di rmh butuh sesuatu blg ke gue si sulung kurg biaya kuliah bilang ke gue si bungsu ada butuh sesuatu blgnya ke gue jarang bhkn gapernh kayknya mnta ke org tua wkwk di rmh ada cicilan yg blm dibyr blgny ke gue cape bangsatt wkwk bukannya ga ikhlas tp ya tolong ngertiin', 'pembuangan terlalu lancar bangsatt', 'kepsek dan gurunya anjing sekarang dokternya ikutan anjing gila ya gak ada satupun peduli sama keluarga korban mereka miskin tapi bukan untuk jadi mainan hukum bangsatt kalian semua', 'bangsatt nge wink segala lu', 'suruh beli kok maksa bgt bangsatt', 'bangsatt joy cakep banget anjinggggg', 'balesannya nyebelin banget bangsatt', 'si bangsatt', 'cewe anjingg gatel banget lo bangsatt', 'gini gini ini statemen hasil pemeriksaannya ada benernya tapi bangsatt logika buat menusuk mata itu memang gaperlu ada saling tonjok dulu deh setau gw gaperlu ada adu body atau smackdown tinggal pegang palanya colok matanya matanya buta amp gak ada bekas kekerasan', 'anjing anjing anjing bangsatt', 'bangsatt', 'alah lucu banget bangsatt', 'bangsatt itu yg open bo minggat dulu sana gue mau lihat berita ketutup sama foto jelek lo anjing jancok', 'anton bangsatt good flow banget pdkt lu thanks ya bikin iri aja', 'real gue kemaren sampe nunggu lama di ayam kremes watu gong gegara banyak orang gatau diri yang abis makan malah nongkrong sebat bangsatt', 'menang bangsatt', 'gw mikirin mukanya aja senyum2 sendiri bangsatt', 'lagi fgd nangis anj ga masuk akal bangsatt', 'surprise banget bangsatt gw nangis', 'lfgg', 'bangsatt ngakakka baju abang kasirnyaayaaallah bisa2nya ada kejadian cocoklogi', 'bangsatt otak lu kotor', 'bangsatt kenapa pas malam minggu sepi wkwk pas acara kemarin tiba2 rame', 'bangsatt', 'bangsatt bikin ga mood anjing udah syukur dibantuin malah egois', 'haechan bangsatt love uuu', 'it time to say anjing bangsatt', 'ah lu mah nambah nambah masalah aja anjir nanti juga ujung ujungnya pastu ad yg bawa bawa gi ni tai lah bangsatt', 'bangsatt kenpa mark lee ganteng banget sialann wksishshhs menyesaaaal tidak membeli tikeeeet', 'bangsatt geek wkwkwk mending dewa liat watt maen mm', 'gada hati bgt lo semua bangsatt', 'bangsatt', 'waktunya kt bermusuhan bangsatt', 'bangsatt cakep bangett', 'garagan purak2 sedih bangsatt', 'ogah bgt bangsatt huek anjg bayanginnya pun gue mual bau bangke', 'bangsatt lemonade bjirrr', 'kadang geli kadang males balas kadang bosan kadang salting juga bangsatt', 'bangsatt anjinggg', 'bangsatt bisa bisanya masak ikan kiko', 'bangsatt', 'santai smtown doang halahh smtown doang elah anjing jisung ke indo woy santai darimana bangsatt', 'enyah kalian acc tnte2 g1rang ganggu banget bangsatt', 'gua amalan tapi bokap tetep selingkuh bangsatt', 'dustin bangsatt', 'lagi dan lagii dasarr bejadd', 'bejadd sukuna meskipunn ganteng tapi bunuh dukun terbaik sedunia rest in peace gojo', 'malam yg bejadd', 'maaf ka sepertinya memang aku ada jodohnya disitu tapi aku gamau itu himpunan lelaki bejadd', 'cokkkk bejadd arek iki', 'yaallah jadwal sidang upn makin gajelas gua makin dag dig dug sendiri napaa gua udh bingung mo ngapainn kampus bejadd zzzz', 'gue cape nangisin si dago yang brengsekk', 'brengsekk ini pada pemabuk semuaaa taii mnding kawa kawa', 'brengsekk', 'brengsekk knp gue yg salting cuma ngeliat jenselle', 'brengsekk', 'brengsekk ya pikir lah mana ada magang kkn skripsi at the same time dari awal ketebak dah cheat sih kata ku', 'cakep bgt dah si gemini gemini itu today weh tapi gmna ya laptop gue gamau idup brengsekk skripsi gue lebih penting', 'brengsekk ngaceng ngakak kenceng ih dodol lu ya semua ketikannya', 'brengsekk aku salah ngetik cuy merinding', 'anjing lukhhh menurut luhhh ganteng bangett anjeeeengkkkk brengsekk', 'boston brengsekk pake ganteng segala', 'bukannya nyamperin malah laporan ke grup suruh anak anak dateng brengsekk ganggu org lg sendirianx008f', 'brengsekk bikin gua jd jahat depan emak guaaa', 'brengsekk pengen banget ya allahhhh', 'katanya pengin nyapres koq mulutnya kayak preman jalanan brengsekk', 'wkwkwkwk aran brengsekk bgt', 'mas dimass brengsekk ganteng bangettt smtownlive2023jakarta smtownjakarta2023 smtown2023', 'ini mah jatohnya gue dengerin mr removed brengsekk', 'yuk bisa yuk bangun tidur gausa ngarepin cowo yang brengsekk yukyuk', 'brengsekk inimah sedihnya melebihi sedi di putusin pas lagi sayang sayangnya', 'brengsekk', 'luarannya laki jiwanya boti brengsekk', 'gw juga mau ketemu sama nct gw juga pengennn gw gak pernah seiri dengki ini brengsekk', 'wkwkwk brengsekk', 'brengsekk lu tiap mncul di mentab gwe gprnh ada benernyax008f', 'iya kaan jaekyung emang brengsekk ngelebihin bj alex ini mah', 'brengsekk wkwk kyak pernah baca tp gua mau baca lgi deh', 'brengsekk', 'brengsekk betull', 'cuman bisa nitipx008fx008dx008fx008fx008dx008f arghh brengsekk sedih bgttt gueeeeex008fx008dx008fx008fx008dx008fx008fx008dx008f liatt ya jaemin kalo aku udh selesai kuliahnya dan lebih deket di jakarta tiap kamu konser bakal aku samperinnnnnn', 'arghhhhh brengsekk', 'emang brengsekk', 'gua ganyari mangsa dibase ya brengsekk', 'aaaarrrghhh goblok bngt brengsekk', 'brengsekk akwowowwkk', 'brengsekk', 'wkwkwk brengsekk', 'brengsekk gue tertipuu', 'brengsekk gue sakit hati banget sama ini orang gila', 'aduh brengsekk ckep bgttttt keterlaluan', 'brengsekk akhirnya gua bisa pake twibbon org setelah beribu2 purnama websitenya error di gua', 'brengsekk si tenue ni emg ye perutku sakit bgt ketawa mulu dr yg cosple jadi kyungsoo trs jaehyun jeonghan yg mnurutku ngabrut bgt tambah ini pulaa dah lah melebihi idolnya tp salut si seniat itu observasinya', 'brengsekk gue receh bgt anjir the mad thabii', 'brengsekk gw harus apa kl dia nyanyi hati dijalan', 'wkwkwk brengsekk gue ketawa bgt', 'brengsekk kabeh', 'orgil anjing gk jlass bgt brengsekk', 'kenala harus ada penalty nya sih brengsekk mnet', 'brengsekk uji coba salken juga ya teh', 'brengsekk', 'oaswkoakwokaow brengsekk', 'lo emg brengsekk ren', 'brengsekk brengsekk', 'brengsekk', 'brengsekk gue lupa kalo ganti dn bakal ke lock terus error emang babi lu', 'brengsekk trus nasib gue gmna', 'brengsekk', 'brengsekk lu jeri', 'brengsekk kk lali digowo', 'dante brengsekk', 'dhhdhdgsh jaemin fakk djxbsenxubsisbsjns barefaec guee gila anjgg pagi ujiang brengsekk', 'hahahahahahaha lucu banget brengsekk', 'waiji brengsekk', 'artinya apahh pemirsah yakk waiji brengsekk', 'emang brengsekk banget sales nyaa', 'bocah jaksel brengsekk', 'kodingan gw errorr brengsekk', 'brengsekk raii', 'gw liat post gojo satoru jadi gojo separu brengsekk gw refleks lempar hp', 'brengsekk', 'brengsekk', 'brengsekk kok album twitter gue gk ada', 'brengsekk', 'brengsekk gua ketawa berat', 'wkwkwkwk brengsekk', 'duit gw ludes brengsekk', 'wkwkwk brengsekk ngeri pergaulan jaman skrgx008fx008fx008fx008f', 'brengsekk', 'brengsekk gw aja sering nanya tp gw kasih jawabannya nnti apa buat mendukung temen gw', 'brengsekk', 'brengsekk wwkwkwk', 'brengsekk gmn mau kurus kl makan gula terus', 'ini gua tiap ngisi edom mas irwan tapi semester depannya ketemu lagi brengsekk', 'anjirr gila banget fweekkk brengsekk', 'brengsekk', 'brengsekk ketawa banget gue', 'dasar lelaki brengsekk cih pakyu loe jay', 'brengsekk plot twist nya dia nyari partner ngews ternyata bangkeeee berarti drtdi gw percuma posthink ternyata emg aura nya udah negative benerr brengsekk', 'brengsekk wkwkwkwk', 'stop violence against women kali ini di alami oleh kawan sendiri brengsekk', 'asu aku kepencet ngeparlay mu brengsekk ayo pliss selamatkan saya', 'brengsekk', 'capek brengsekk', 'brengsekk lo miyy anyingg', 'brengsekk', 'ni org mirip billy brengsekk', 'halah brengsekk', 'gege brengsekk jjk236', 'brengsekk', 'anjinggg gw kena spoiler leaks g0j0 brengsekk', 'musuh terkuat gojo emang bukan sukuna tp gege akutami brengsekk', 'gua benci bgt nunggu brengsekk', 'yg brengsekk elu yaaa anjenhhh', 'pulang2 budekk', 'sal enih harus ada versi spotify ga si gue siap dengerin sampe budekk minithrowbacksalmocean', 'maaf cook budekk dikit', 'maaf kdang budekk', 'capekk bangett bolot budekk pula kekk astagaaa maluu tapii gimana emng gk kedengeran anj', 'mau midion gua kan lu apasi tolong w budekk', 'argh bikin budekk', 'ngene ki enake opo to buooss mambu panas budekk hadeeehhh', 'iya yaa ga cocok buat aku yg budekk', 'pt melia ss bangsatttt anjingggg teriaknyaaa kenceng bngtttt sampeeee takut budekk', 'aku budekk untung nya', 'dengerin lagu sampe budekk', 'otot politik ini opooo pak anies bukannya sampean yg sll berotot dan berbirahi politik hnya utk berkuasa dgn menghalalkan segala cara utk menang jg pura2 budekk pura2 tuli dan pura2 melihatt haaahhhhhhhhh', 'krna ada adik yg kalau dipanggil selalu budekk', 'auto budekk yang nelpon', 'percaya ga percaya tp lo nyuruh gue nanya nama lengkap kating trs gue tanya dia gamau ngasi tau trs gue cuma ngomong pake nada lembut mangnya salah gue jg ngomong pake nada lembut ke lo budekk itu sok imut di post sblmnya gue ditegur krn kaga senyum anjing babilh salah muluu', 'aku lebih sukaa hetsett talii dari pada bluetooth cuzz kalo ada yg ajak ngomong mereka tau aku lagi denger lagu jdi mereka g bakal ajak aku ngomongg kalo hetset bluetooth yaa aku bakal di katainn budekk krn di panggil kaga nyaut nyautt merela g tau aku lg pake hetsett', 'jedak jeduk biar telingan kleaan semua budekk', 'temen kamar gue budekk apa gmn sehh anjer dh dikasih tau berkakikakii jan kenceng2 malah kencengg trs tu suara', 'cok aku dadi wong malang ae isin mbok yo ngadakno acaraojo sampe ngrugikno wongsound sewajare ae ojo koyo wong budekk', 'sound kek gini tuh biar apa sih apa ga takut budekk kasian yg punya penyakit jantung tau', 'bru kali ini gue puter in lagu day6 seluruh album dri malem smpe subuh dah ahh budekk kuping guee', 'mamank elep nya budekk anjggggg diturunin nya mayan jauh', 'budekk', 'hakkotai', 'x0081x0081', 'x0081x0081x0081x0081', 'x0081x0081x0081x0081', 'gk usah butaa loo org gol nya dri sisi kanan mulu kok klo gk ngerti bola jgn ikut ikut an ngata ngata in pemain objektif aja dek gara gara alonso sering jelek pas maen bagus pun di bilang jelek decull decull', 'x0081', 'x0081', 'x0081x0081x0081x009dx0081x0081w', 'x0081x0081x0081x008fx0081x008fx0081x008fx0081x0081x0081x0081x0081x0081x0081x0081x0081 x009dx0081x0081x0081x0081x0081x0081x008dx0081x0081', 'ww', 'x0081x0081x0081x0081x0081x0081', 'x0081x0081x0081x0081w', 'apakah aku butaa wkwk', 'x0081x009dx0081x0081', 'x0081x0081x0081x0081x0081', 'x0081x009dx0081', 'x0081x009dx0081x008dx0081x0081x0081x0081x0081', 'x0081x0081x0081x0081x0081x0081x0081', 'x0081x0081x0081', 'x0081asmr', 'x0081x0081x008fx0081x0081x0081x0081x008dx0081x0081x0081', '', 'x0081x0081x0081x0081x0081', 'x0081', 'x0081x0081wwwwwwx0081wwwwwww', 'x0081x0081', 'benci la bonggol kat area kilang ni semua takde lineee dahlah kitonyo butaa', 'x0081x0081x0081x0081x0081x0081x0081x0081x0081x0081x0081x0081x0081x009dx0081x0081x0081x0081x0081x0081', 'min tidur min udah mau pagi butaa', 'emang cinta butaa liat yaya kek liat bidadari', 'ini detektif nya gimana siii makan gaji butaa yuta gw tim nyimak', 'x0081x0081x008dwww', 'runway', 'meltsoulflex instx008f', 'soulflex youtubemusicx00815000x008fx0081x0081x008fx0081x0081', 'fix malam ini kana galau brutal dan membabi butaax009dx008f', 'x0081x008dx0081x0081x0081 x0081x0081x0081x0081x0081x009dx008f x0081x0081x0081x0081x0081x0081x0081x0081x0081', 'kamis minggu kemarin udh ada gejala gejala sakitt yg katanya dampak dr polusi jumat maksain masuk tapi akhirnya ga kuat jd plg setengah hari ehh bukan bedrest malah lanjot ke bandung sabtu pagi butaa balik malem pula minggunya juga lanjuttt cawww main sebenarnya dah drop bgt', 'x0081x0081x0081x0081x0081x0081x0081x0090ifx0081x0081x0081x0081x0081x008fx0081x0081x0081x0081x0081x0081x0081x0081x0081x0081x009dx0081x0081x008dx008fx008fx008fx008fx008f rt', 'apa dorang ni tak penat ke pagi butaa', 'x0081x0081x0081x0081x0081x0081x0081x0081x0081x0081x0081', 'semua butaa klo org lg jatuh cinta mah', 'x0081x0081x0081x0081', 'x0081x0081x0081x0081x008fx0081x0081x0081x0081x008dx0081', 'x0081x0081x0081x0081x0081x0081x0081x0081x0081', 'x0081x0081x0081x0081x0081x0081x0081x0081x0081x0081x0081', 'x0081x0081x0081x0081x0081x0081x0081x0081x0081x0081x0081x0081', 'x0081x0081x0081x0081x0081x0081x0081x0081x0081x0081x0081', 'butaa', 'butaa es que por el cambio que le hicieron al deliberadodesvio sgy es offside', 'dryice', 'tokyo', 'prioritas gembell ga becuss masa aku nomer 6', 'ayoo yangg mau ngerasain jadi gembell akuu kapan lagi kann bisa ngerasa se bebas itu', 'gapapa gembell wkwkw', 'bisa2nya ya luuuuuu pas lg pake baju ini kelakuannya tetep gembell', 'ihh apaansi kok ig jd gembell masa banyak lagu yg ilangg idiiiii mana first sm seccond kocak', 'wkwkwkwk kasiaan banget elu gembell', 'beli', 'gembell bgt harusnya notgood product malah dilolosin', 'bintang 1 dah buat apk polri sm jkn gak singkron sm klinik sm polseknya dah gembell', 'gembell banyak gaya', 'seleranya terlalu well untuk aku yang look nya kaya gembell', 'kurnag gembell khh kack bjunyah', 'bjirrrr aku update igs pake foto yang cakep mamaku malah update story wa pake fotoku yang kek gembell', 'seleranya terlalu well untuk aku yang kayak gembell', 'wew gembell', 'bawah', 'skala mau sm ganiar kek mau sm januar kek ikhlas lahir batin gue anjrittr gk ikhlas klo sm jendrall bodo amat anjngg lo brdua ye jendral maddie kena karma lo minimal lo maddie jdi gembell trus lo ye jendral ngemis2 cinta ny si skala dahh', 'makin banyak matkul makin kek gembell', 'ihh gembell seblak di area aku enak enak ndak ada yang amiss ahayy', 'seleranya terlalu well untuk aku yang gembell', 'jadi ingett ada yang bilag dia gembel laahh gembell apaaann makee produknya ajaa cenneeeell ceuunaahh', 'dihhhhhh jangan mau sm klub gembell', 'bad ren di buat kesel sama jaringan gembell', 'aku kalo dirumah jadi gembell baju robek aj aku pake karena semakin gembel semakin nyaman', 'sikat ajalah bule gembell', 'kalo gue yang make nya mah udah dikatain gembell', 'lucu banget gembell', 'ak prnahhh coba outfit gini kya gembell', 'akhirnya kita udah gembell', 'fans no 1 nya gembell', 'seleranya terlalu well untuk aku yang looknya kayak gembell', 'yahh gembell bgt x qm', 'gembell cek tele dulu aja cepet', 'sinyal nya gembell', 'mumet gembell taii lah bodo amat', 'chat an ajja limit gembell', 'jakarta gembell', 'dua kucing kuuu happy terusss yaa gapapa dah dikatain gembell sama kuli juga aku tetap cintaaa', 'seleranya terlalu well untuk aku yang gembell', 'beda server kak dukun kita pake server lokal', 'jinnya ndak bisa basa belanda', 'iya bang wkwk gimana orangorang dulu berburu gimana budaya bercocok tanam mulai masuk pada jaman praaksara', 'repot karena hasil ngarang', 'hari gini percaya kayak gini hadehhh berarti iman kalian lemah', 'sumbawaaaa', 'cukup bagus tapi pocong nya lebih mirip alien btw akting iwa k sebagai walisdi dukun santet itu bagus bgt meski minim dialog', 'dg supranatural memori bendamakhluk bisa di gali memorinya dan paling ngeri adalah kena genjutsu saat scan memori', 'nunggu ada disini', 'jogja ayo nobar ciwi ciwi', 'wkwkwk haloo seann nonton niji id juga kahh', 'kemarin malem jg baru nonton emg bagus sih menurut gue', 'plat mobil itu ada hubungannya sama sekolahan ga mind', 'wkwkw pocong gundulnya kocak si', 'tulangnya twerking', 'jujur lebih takut liat film horor indo ketimbang horo luar negeri setan indo rill bgt cuy', 'knp sih klo dukun2 itu beneran sakti kog gak nyantet gubernur jenderal belanda ajabuat ngusir penjajah', 'polusi udara cuma ilusi bagaimana jika polusi otak setann', 'tdnya wa doang error gada notif skrng semua sosmed gua setann lem biru nokia ah', 'soalnya nama km seann tipis tipis sama bahasa inggrisnya lautt sea', 'kak tulangnya kenapa kak', 'ih kak kamu lebih gemessx009d nice to meet yoult 3333 betah betah yaaa', 'gitu ya terimakasih infonya', 'harusnya iya sih', 'oh gituuuu', 'smbw tu mn', 'smbw lahh', 'brgkt kmn', 'sebelum brgkt mari kita liat ini gsihh', 'bisa gak sih menggali info dari jaman sebelum hindubuddha dari zaman ora aksara zaman batu dari kjokkenmoddinger lebih seru itu drpd cerita tentang perang antardukun peristiwa pembunuha dll', 'pedes bat setann', 'iwa k cocok bgt jdi antagonis disini film nya personally sih 810 acting iwa k 100010', 'malem seann ak blom mam hhhh hbu', '17 itu masuk minor atau sudah legal', 'ih babi', 'hmuu', 'makan apa ituu', 'kok mie sih', 'semoga pas kita ke solo lagi ini masih tayang ya sayaang x009dx008f', 'nasi padangx008dx008f mamm dulu seee', 'makan donggggg', 'mam laah', 'kok belum aku sudah', 'mamam dong', 'sudah', 'makan apaaa', 'mam dong d', 'sudah met istirahat auuuu', 'udaaah nasi padang', 'makan dong', 'dak dek dak dek', 'kakak jangan mau lahir di indo ya', 'closingan jembot', 'met maleeem udah pada makan belum', 'dijalan sidi ya', 'ojo langsung dipangan ben didilati sik sak awak cuk gae ngakak wae', 'wkwkwkwk siap soang', 'kan ada soang yg mau bacain', 'iya jg wkwkwk', 'wkwkwk misuh pake hangeul aja kali yaa asuuuuu kalian jancuuuk anak setann tai ayamm babiii', 'kak mauuuuu', 'iya kak ampun kak', 'lahh geblekk napa di rt ketauan ntar', 'temen u wkwkwk geblekk bgtt ya allahhh capekkk', 'seharusnya memang begitu eh ini kok cuma demi nasbung menyedihkan klo dibilang demi surga jalannya lewat mana mereka juga gak tau kan geblekk', 'geblekk emang', 'sksksjjsjs geblekk', 'geblekk lahh', 'geblekk wkwkw', 'geblekk', 'fixxx lu yang geblekk udah tau sakit masih ajaa', 'seungcheol anak kedua geblekk', 'geblekk w lupa blom hide w lupa kl lg hub tamu undangan mana alay bgt w bkin story wasaf', 'geblekk', 'lahh busett udahh keren lu ngomong begituu secakep apaa sampe lu bilang haruss diubahh mukanyaa geblekk', 'iyaaa wkwkwkww geblekk', 'wkwkwk geblekk', 'wkwkwk geblekk', 'emon redflag bgt lu njissskasian anya geblekkyuk bisa yuk nya', 'geblekk', 'geblekk parii', 'awokwokw geblekk', 'geblekk ngapain luhh', 'geblekk', 'geblekk', 'geblekk', 'geblekk', 'geblekk', 'tiap ke kulon progoo pasti dibawain geblekk baliknyaa sama embahhhhhh', 'se kira bt biasa sah kah seng anj bt gila geblekk', 'geblekk bat se ruangan ama nenek lampir', 'ancen geblekk wong2 dot wkwkwk aku tau berdebat karo wong ngene raono gunanee akhire wong2 koyok ngene tak manfaatno nggo engagement impression nek aku', 'elu yang ngasih pertanyaan geblekk kalo dad mah morgan tampangnya kek daddy daddy', 'geblekk', 'geblekk ni orang kalo dh lucu tuh kebangetan bngtt', 'ngakak geblekk praktekin gih', 'jason nya hadas besar geblekk', 'geblekk', 'wkwkwk geblekk', 'yeuuu geblekk', 'ada aja si geblekk emang kelakuannya', 'geblekk kwjakwjskwj', 'akun bot koplakk vote dah rampung baru up geblekk', 'si geblekk salah nomor kartu emoneyy buat top uppp mana gue gatau lagi itu kartu siapa ga bisa minta dibarterin kan kalo ga kenal', 'geblekk bgt gueelg ngisi gform malah ngetik usn ig untung bisa di edit', 'dwiki geblekk', 'stress lu yaa dari typingnya cewe lu tuh baik pengertian sm tulus sm lu gitu dasar geblekk', 'gak jelas juga ini yg ngontrak gaada ngomong apa2 kalo listrik mau abis malah dimatiin suaranya geblekk juga', 'geblekk', 'hwasa geblekk pdhal konser di kampus loh goblokk', 'wkakakkakwkwkw geblekk', 'kwkwkwkkw speed geblekk', 'geblekk di hujat', 'geblekk wkwkwk', 'beberapa resep sayur asem pakai terasi jika alasannya terasi make sense karena terasi dari udang rebon lah ini dari tamarind atau asam jawa geblekk', 'sama gw jg rage quit ajijg geblekk muntah', 'geblekk ngakak anjirrr ada aja kelakuan', 'geblekk anyingg', 'geblekk', 'yg bener ajaa berli luu kebangun jam segini buat emosiii doangg audit nanti pagii geloo geblekk belajarr hhhhhh', 'geblekk wkwkwk', 'si geblekk', 'geblekk elu sendiri yg nge post keren mangg', 'geblekk jonghan cakep kyagini bgt busettttt mksd gw dia emg diluar kendali manusia cakepnya tp ini bro', 'yaallah secakep ini dikasi soju geblekk', 'lah geblekk ternyata ngga beneran debut aktor dia gue udh bahagia bgt anjengggg', 'geblekk wkejekeekek', 'geblekk', 'sangyeon gemec gitu apasih jumil apasih gblkkkk geblekk the transition tho', 'bangsatttt bs transfer ke pulpen gt ajg wanginya geblekk', 'hee geblekk jijel masuk sm jalur saturday auditions yg terkenal sulit udh terbukti dia berbakat apalagi yg dipertanyakan aespa udh mau 3 thn masih ajaa kesel bgt', 'suka banget kodean kek anak bocah wkwkw habis gue entarrr dia juga bikin tp jarang chatan emg geblekk', 'geblekk jauh jauh dapet orang bantul', 'geblekk', 'dikasik kerjaaan malahh ini geblekk emmahh', 'jan geblekk kon iku gatau belajar totok kesalahan', 'ehh anjinggg nanaonan acara tehh kek geblekk', 'geblekk', 'geblekk', 'geblekk', 'geblekk wkwk', 'anjirrr sepele mata lu wkwkwk geblekk banget ini', 'si geblekk anjg tt', 'pahmi niat bantu woi rafly geblekk', 'geblekk rasido penalty', 'knp ya selalu salah satu huruf emg bagusan google dl drpd nanya hint lain karna udh tau pw nya apa tp salah satu huruf geblekk', 'geblekk', 'geblekk', 'geblekk inget banget gua hahah', 'anj geblekk', 'lah geblekk', 'geblekk dikit ga ngaruhhh', 'wong geblekk', 'geblekk', 'geblekk', 'geblekk', 'geblekk buset lah khodam nya truk', 'lebih heboh penata rambutnya outfitnya bukan elo yg artisnya geblekk', 'dasare geblekk pancen ngono', 'geblekk wkwkwkwk', 'wkwkw namanya il it 4 member label pick anyingg dahh suka2 aja ini mah sapa yg debut geblekk', 'saking ngantuknya tidur di lrt sambil baca doa tidur geblekk', 'wkwkwkw geblekk', 'song of the bandits keknya nih masuk list best drama ku tahun ini deh perfect gilaa', 'se hace el loco mrale lo que retwitteax008fx008dx008f', 'gilaa bulan ini jam tidur berantakan bnget', 'its 730 in the morning ramai gilaa orang korang datang pukul berapa doh', 'i punnnn mata berat gilaa tapi tahan jaaa tapi certain time terlelap jugakkk nasib baik masa his performance tu terus bukak mata', 'nanon cakep pisan pake biru ini gilaaa gilaa', 'bestnyaa weh tgk sungai buloh cantikk gilaa', 'ihh seru bgt kk eruu gilaa pecah bgt', 'wah gilaa', 'huaahhh gilaa ga nyesel nonton smtown in jakarta kapan lgi konser ngeliatnya rombongan sm family kan happy bgt trus yaa emg keknya mayoritas tuh nctzen sama elf diliat dri warna fanlight nyacantik x008d tpi tuuuhh bener karokean brg nyanyi kenceng dri az smtownjakarta2023', 'gilaa deket banget anjtttttt', 'jk side profile ganteng bgttt gilaa', 'bisa apa bisa gilaa', 'gilaa winter attractive banget', '3d is coming woii gilaa', 'anjir dh lh gwe bisa gilaa', 'wihh gilaa ini baru muncul', 'gilaa jaehyun gantenggg bgttt woiiii mo teriakkk aja rasanya huaaaa smtownlive2023jakarta', 'jajajaja si pero en el pecho lo tengo yo gilaa jajaja', 'army gila gilaa teriaknya kenceng banget dan woof woof juga', 'beneren smua gilaa deh klau dia pake natural hairnya bikin jantung repooott', 'bakal gilaa sih akuu', 'gilaa bruno main bagus banget', 'gilaa sendiri ngebaca bblnya sonu', 'aku nonton ini pas ending nangis bareng sama mamak ku gilaa nyesek banget', 'haha baru stress belum gilaa', 'buuu ketemu aja jangan takut yang penting ada saksi dr sisi ibu mana ada cewe yang berhubungan dengan suami orang yang bener wkwkwkw cewe gilaa', 'gilaa racikan matic nya ngeri', 'pemenangnya tetap suju dan tvxq gilaa pecah bangett sih tadi pas mereka tampil', 'gilaa bruno volley nya kek rvp', 'brunooo first timenya gilaa', 'gilaa evans', 'gils cakep bruno umpan evans juga gilaa', 'sumpah sangyeon gilaa bangeettt', 'wahh baru tau gilaa mungkin jess sengaja ngga ambil foto dr angel kaya ppany karena ada billboard chicago yaa', 'nahh justru bagus soalnya kita juga kebetulan gilaa', 'masih aja ngeles si monyet lu ga sadar ayat yg gw bawa ya dri awal itu ayatnya lu gilaa', 'spill respon crush mu nder gilaa keren bgt lu nder semangat ya', 'org gilaa biarin aj mau nykitin dri sndri kek mau mati kek', 'gilaa gilaa saking banyaknya yang buang sampah sembarangan', 'gilaa jaemin badan looo bagusssss bangettt', 'cakep bngt anjingggggggg huahhhhh gilaa', 'gilaa tahun ini dying fetus putridity cryptopsy sama cannibal corpse pada ngeluarin album', 'takut dikira orang gilaa jam segini kelilingkeliling komplek kak', 'sometidasaa la gilaa', 'performance nya yg paling seru itu suju sama tvxq sih gilaa pecahhhhh bgtt', 'gak sia gue nunggu arthdal selama 4 thn gilaa sih season 1 2 seruu semua', 'udah gilaa ini kayanya', 'suju keren bgtt ashajwk trs tvxq fun bgt anjrr crowd nua literallyy wayv jg nct jg trs raise jg keren bangett aespa rv jg kyk mereka smw kren bgt heran dn energi nya pada banyakk bgt bjirr banyak fireworks gilaa mau nonton lg pls x0081x0081', 'jiwa pink blood gue balik lagi setelah nonton smtown gilaa gue sekangen itu bahkan lirik2 lagu mereka ada beberapa yang masih hapal huhu', 'iya padat gilaa jadwal dalam seminggu 3 kalii main keliatan cris sama kounde kelelahannya ara juga baru nyetel karena cedera', 'gilaa suer deh bang dan emg harus spent lebih biar dpt paling depan ga boong rame bgt konser mereka tuh', 'gilaa jijel aura nya di zoo kaga maen maen', 'gilaa tuuhhh celta makee pemeran toy story anjir', 'gilaa keren', 'gila gila gilaa gilaaa kok bisa ya ada manusia seindah ini', 'aduh gila gue gilaa edan ji changminnn gabisa geser dikit kh dari tipe aku', 'gilaa barcaaaa', 'gila gilaa', 'canceloooo comeback cukk gilaa', 'gilaa barca kambek njirr', 'gw respect bgt sama org kaya gini gilaa ya dah oleng gitu tapi maksain buat tampil demi fansnya', 'gilaa', 'barca gilaa', 'samaa kaa aku jga terharu merinding waahh gilaa keren bnget pokoknya', 'q gilaa jajajajajajajaja', 'langsung ka ovt gilaa urusannya deh nyaman mka cerita disni siapa suruh pergi nda ada mi tempatku cerita setidaknya di twitter bisa lepaskan beban ku sedikit', 'gilaa keren bgt sih akhir putusan sidangnya wkwkwk siap menuju konflik lainnya kah kaa', 'gempak gilaa animation dia', 'as an elf yg super sayang sama tvxq aku pribadi mau ngucapin makasih banyak buat nctzen karena tadi ikut sing along sama fanchant pas mereka perform bener2 tadi tuh dari black suit mamacita sampe sorry2 semuanya sing along dan pas mirotic fanchant nya gilaa bgt woy', 'wtf gue gila benerx009d gilaa geminifourth geminint fourthnattawat', 'grr comel gilaa', 'duh coba dlu aja 1 eps alurnya tu bagus bgt gilaa sat set bgt jd gak boseni samsek suka bgt', 'gilaa gila berat bgt ya ekspektasinya wkwk semangat kita', 'gilaa gue gilaaaa', 'bangettt uda gilaa guee', 'ataga masalah makan jujur an ngerembet kmna mana kompor meledug bgt gilaa ngerii bgt bukanya di akurin orang pada huru hara wahgilaa gak respek aing skrng sama ini orang', 'sama 1 lagi tadi beli tahu gejrot ceritanya sambil nunggu pesen ojol setiap yg lewat ngomong gini donghae gilaa sihhblablabla donghae sih kaget gw liat diablablabla real no fake fake ini mah elfs yg bias nya donghae siap makin banyak saingan x0081', 'ya allah kim jiwoong malem2 jangan bikin gua gilaa', 'btww tadi gue ketemu kating cakep bgt demi allah dia cewe tapi perawakannya kek beda bgt cakep yang gilaa', 'abis konser gilaa jam segini masih muacet buangeettt', 'como me quema la gilaa', 'ga kesempetann potoooo suju karna dah gilaa duluannnn superjuniorsmculive superjunior smtownlive2023smcupalace smtownlive2023smcupalacejakarta', 'yaallah rebahan tadi minum air dingin behh gilaa enakk pake bngtt bener nikmat mana yg telah engkau dustakan', 'emg tuh shipper2 pada gilaa wkwk org jelas2 kasus sama mash aja yg bilang beda kasus wkwkwk', 'gilaa itu panjanh banget', 'ini lama2 gw bjsa gilaa iniii', 'lariii ada cowok gilaa wkwkwwk ngakak', 'jir puyeng bgt aku gil tadi di jalan sesek bgt terakhir macet2an kaya gt di jakarta dulu ga nyangka bakal ngerasain macet parah bgt gini di pwt', 'ehhh gilaa jaewoo selca di indo dong', 'lu diem aja udh attractive bgttt ini malah dikasih lagu lemonade body roll apa ga makin gilaa semua org yg keluar dr gbk', 'aaaaaa diwnsiiwis bisa gilaa liat fancame teruss', 'astaga aku nk tidur dh gilaa', 'cantik bgt gilaa ppppp naksir', 'gilaa kim junkyu kereenn abieezz', 'shimkongz ini beneran udah gilaa', 'gilaa deket banget buset', 'gilaa aespa keren banget anjir gws', 'gue bilang santai ajaaa bukan berarti lu gaa harus balikin gilaa', 'ningning bikin gilaa cantik banget smtownlive2023jakarta', 'tugasnya tu sangat simpel cukup menjadi gilaa di atas orang gilaa', 'gilaa aaaa selama konser senyum senyum sendiri karna pangling bgt momo', 'ngentot harusnya aing kumpul keluarga hari ini cape banget gilaa udah request dari bulan agustus schedule nya malah jumat kemarin libur', 'gilaa aja tahun ini umur aku 23', 'woyy gilaa ganteng bgt', 'ngga lahh gilaa', 'diatas gilaa kayanya keadaan gue sekarang', 'gilaa keren bangettt congratss yaa', 'ayam goreng weh comel gilaa mcm pujuk upin ipin', 'ah elah org kl udah jatuh cinta emg goblok bgt', 'tanda piknik itu wawasan luas gak goblok kayak kadrun', 'merkosa aja udah gak normal bisabisanya ngomong org normal merkosa cewek cakepx009d org goblok', 'beda level goblok eddie punya ucl onana ga punya ucl minimal punya ucl lah wkwk mampus enak ga di gituin', 'woy kunyukelu kira senin selasa rabu itu bahasa dr mana kalo goblok jangan dipatenin', 'goblok ini mah beda org', 'kok makin lama orang makin gila ya bisanya dilemparin batu wong goblok kalau bercandaan ini kelewatan banget anying', 'loe bawa2 kanjuruhan yg gak ada sangkut pautnyamau cari muka ada arema nihgak nyambung coysolo ya solo yg dibahas jgn bawa2 kanjuruhangoblok', 'jadi apa apa itu jangka panjang jangan di liat ga pernah jajan sekali jajan jadi penyakitanx009d ya berarti organ anaknya sehat kena bakteri ga cocok goblok', 'itu dkomen ada yg bilang fans ditanya yg sngaja shipp jgn goblok fans pihak laki yg awalnya ngship mereka dri jaman era who dis dlu d ytube udah dluan jdi fans kpop tp masih kalah segi pemikiran dri fans dita yg cm anggap itu hiburan doang alias cocoklogi fiktif blok goblok', 'goblok goblok goblok goblok gobloooooooooooooooooook manusia jaman sekarang kok pada goblok bgt sumpaah', 'goblok ngpain dh cwo bnyk yg dm', 'orang goblok sadarnya belakangan x0081x0081', 'eh sumpil ya gw nih udah ada di titik bukan cuma kangen wonwoo tp sama anak2 semua juga kayak kamu dimana dengan siapa semalam berbuat apa huhu kangen bgt elah goblok', 'goblok', 'kadroen sepertimu mana ada pintarnya yg ada goblok permanen dikit bicara hutang mana ada negara gak hutang hutang selama penggunaan jelas untuk infrastruktur produktip amp kemajuan negara apa salahnya terpenting tdk melanggar uu jadi orang pinter dikit jangan tolol goblok', 'goblok', 'goblok bener lakinyaa', 'klo org udh suka knp goblok bgtt sii', 'ngatain tidak ada pengalaman ke orang muda yang baru mulai lha kuwi kan jenenge golek pengalaman to blok goblok', 'dikasih 30m goblok kalo trading', 'goblok banget penegakan hukumyg d bantu rakyat sendiri bambangnoh sana tangkapin teroris papua', 'gemeteran takut goblok posisi lg sendiri kirain mau di culik', 'inilah knp alasan utk jgn biarkan orang bodohtololgoblok berkembang biak', 'orang goblok gampang kemakan hoax', 'iya pak benar masih aja ada yang goblok', 'krn kalian goblok pura2 jika megawati mmg malas kuliah dan isi pidatonya omong kosong', 'hari gini masih ada manusia goblok seperti ini mungkin dia makannya sampah setiap hari sehingga otaknya berisi kotoran pikirannya sama dengan media tak berbobot ini isinya berita tak berbobot dan cuma dagelan kebencian saja', 'media goblok sih initeriak bubarkan turunkan dan hampir 10 tahun ga jelas hasilnya jangan2 sampai 2025 masih teriak juga bubarkan pemerintah', 'goblok kok cepu goblok itu belajar', 'were leaving problematic fanbases gangguin btw lagian lu siapa ga diajakin ngobrol malah ikutan nimbrung ngatain org goblok lagi wkwk tp apa sih yg diharepin dari orang yg cara analisisnya kaya lu lmfao', 'antara goblok sm diguna2 sih itu mah', 'goblok kok cepu kalo goblok belajar toloi', 'backsound on si gobloook ooooo si goblok', 'goblok bgt x009dx008f', 'ngatain orang goblok padahal sendirinya yg goblok heran ihh pantes aja kayak gitu orang dia akgae sama anti jungkook', 'yok ayok goblok nya di pelihara', 'lah lu baru goblokdulunya pinter waktu belum jdi buzzerpnis kntl tll', 'goblok lu', 'goblok bin dungu loe mu kalo ucapin assalamualaikum itu harus lengkap kalo ucapin innalillahi itu juga harus lengkap dasar kadroen titid kecil', 'lu cowo apa banci celamitan bgt ngurusin org cebong goblok', 'kadrun kalo ga goblok ya gila', 'goblok blokkk goblokk', 'makanya baca tolol goblok jadi orang udah disediain kalkulator di webnya masih aja ga ngerti goblok tolol', 'ketikan lo buset kayanya lo yang sakit dah anying trus lo mau ngeliat idol gue ampe pingsan di panggung kah goblok', 'ancene seng wedok iki ga seneng kon blok goblok mek pgn duekmu tok mendo ancen arekkkk', 'dan masih aja ada org2 yg rela goblok membelanya', 'undang undang sialan tapi orang goblok di senayan mendukungnya eh iya kan goblok', 'eh lu ga diajak goblok', 'ngatain orang goblok padahal kaumnya sendiri yg seneng ketipu editan wkwk', 'aku mari ngeroasting mantanku soale dee goblok', 'goblok bahkan anak2nya jokowi pun mulai di adu domba emng biadab banget kerja buzzerp ini', 'orang macam elu ini memang sangat d butuhkan penguasacukup butuh rakyatbyg idiot goblok dan pandir itu aset utama penguasa untuk hancurkan nkripenjahan gaya baru invasi bekedok investasilondo ireng pribumi d manfaatkan untuk menindas sesama pribumi', 'goblok goblokin org sendirinya digoblokin editan shame sheesh', 'alah aremania kalo gak goblok ya tolol', 'goblok sih', 'bhahahaha hooi survey ganjar gimana hooi mikir masa mau jadi cawapresnya prabowo orang2 goblok pun tahu itu artinya menyerah karena mentok', 'wkwkwkwk goblok', 'hp goblok', 'jahlul murokab alias goblok berlipat', 'wkwkwk gol hiburan klo mau ngebacot tunggu pertandingan abis bos baru dah koment semau lu klo udh kyk gini ketauan kan lu itu goblok', 'omonganmu koyok taek mas kalo emang ga punya hati nurani mending diam dan yg penting kalopun goblok ya minimal jangan dipertontonkan secara terangterangan kecuali emang ga punya malu', 'tarif tiket berdasarkan kemampuan ekonomi makin ke sini makin goblok aja pengelola transportasi publik kita', 'org sek main judi online ncen goblok', 'yang salah lebih galak goblok bener', 'goblok pake ngatur2 gue', 'lo dah fitnah kwkw mana ada gw cheat kwkw makan tuhk fitnah dosa nya ampe akhirat goblokk', 'eh goblok', 'dlm hidupgoblok itu istilahtpi yg ahli tatakata tpi gk bisa kerja itupenjual obat kyk anus', 'eh goblok mana ada gw cheat lu kagak mampu ya boss kerjain daily blog', 'aduh goblok banget bahkan untuk menjaga warung pun terlalu pure kebodohannya astaghfirullah', 'maap bgt klo semisal konteks awalny becanda atau candaan tongkrongan keknya gpp tapi klo dijadiin trend ya goblok si ok terimakasih selamat pagi x008fx008f', 'fyp gw full masalah ini bjir malah merembet kemana mana heran tp seru liat org goblok tantrum', 'heh goblok pdip tanpa jokowi iuga ga nakalan jadi partai juara mikir anjing', 'orang tolol semua yg nulis goblok yg percaya lebih goblok goblok nya nyundul langit lagi x008dx008f', 'lu tolol bgtt yg ngeship disana malah ngeramein disini anjgg caper bgtt harusnya lu langsung aja balas sama yg ngeship2 idol lu disana anjg goblok bgtt sumpah otak lu dimana sih dasar otak pembantu', 'brarti lue yg goblok gak tau apa2', 'pelajari dulu itu vidio thn brp jgn terlalu goblok', 'vidio lama jaman sby hanya orang goblok pekok yg bisa termakqn hoax murahan macam itu', 'heru budi emang goblok banget emang', 'goblok kepencet retweet', 'karna dia kadrun jd ya auto goblok', 'kan gobloksudah ada contoh nya keluarga mega soekarno napa di larang kan taik', 'goblok dia mention karna replaynya pada bilang darimana gambarnya ye ajg', 'kalau orang arab dibilang kafir kalem dibilang non muslim ngamuk karena mereka tahu artinya elunya aja yang goblok', 'kalau orang arab dibilang kafir kalem dibilang non muslim ngamuk karena mereka tahu artinya elunya aja yang goblok', 'yg goblok bukan cuma gubernurnya tgupp juga sama', 'nih liat anjing pd amat kali ya dikira ga punya kerjaan ngeshipper ga jelas mending kerja daripada bikin kontent halu baca yang teliti biar ga gede bacot malu malu marah kok karena shipper doang goblok banget baper sama orang halu for fun', 'percuma sii cakep tapi gaada otaknya alias goblok cape anjir diajak ngobrol haha', 'dihh dihh dihh pdnya nih liat tolol pake bener tuh mata baca yang teliti yang berhak marah tuh fans dita tapi karena tau ini hanya for fun makannya dibiarin bukan kaya lu lu pada yang tolol marah karena shipper doang goblok', 'heran ya hari gini masih ada manusia goblok mungkin dia satunya yg ada di indonesia', 'minimal sadar lah manehna sebagai ketua murid babasaan we ciga nu teu sakola ngomong kabatur teu jauh ti ajg goblok tolol pls da urang mah gedeg ngadenge na ge', 'nih liat goblok pake tuh mata sama otak kasian nganggur', 'aku paham kowe bucin tur ojo goblok nder', 'pantesan goblok', 'eh gue goblok bgt', 'han jisung', 'not in kenya but mwatate wundanyi road inaenda kukaa hivi', 'buh rn', 'lily haewon jooyeon and jungsu boooooom', 'mortal kombat', 'lah icel decul boss lu ngatain icel pa gmana', 'anjink meme kilat', 'dimaafkan', 'emamh boleh se combek ini', 'udah bisa captcha belum bor wkakwksks', 'biasakan nonton barca sampai', 'suka nih tensi naik turun gacorr', 'selena nya tere liye petualangan jack amp piggy natal jk rowling sama the bliss bakery 1', 'benda basic rakyat malaysia tak kan tak tau ala macam kau hafal lagu negaraku lah kalau lagu negaraku pun tak tau tak tau lah nak cakap', 'bara is back barcacelta', 'lewa barcacelta', 'sampai turun mesin', 'gw gabisa akses anjinkkk', 'benda macam ni pun datang untuk minta tolong bomba lepas tu rakam lol beritahu saja lah yang kau nak tengok abangabang bomba ni kan', 'alonso nih apa ya knapa g daritadi njimers', 'xavi aneh bener hari ini', 'senior man', 'gnn enjooyer sleep tight', 'gnnn bb3', 'xavi is sick', 'biasanya besok ada aja', 'mzee nakuona umelewa hapa bliss ajab', 'iyadah pawangnya', 'juli', 'chisada wakuti uyu', 'marry the night salah satu video muzik terbaik lady gaga video muzik ni penuh dengan makna menakjubkan lady gaga memang seorang artis yang kreatif pergi tonton video muzik marry the night lady gaga sekarang', 'yg 99k mana', 'diz one nah mortal kombat fatality', 'taekook or vminkook subunit', 'lihat suju bawain mr simple sama bonamana tu jadi keinget jaman smp', 'hyungseo', 'gujarat', 'download lagu suju atau ost drakor di 4shared smpku lumayan jauh jadi kadang mampir warnet dulu 2jam baru pulang naik angkot nanti alasan angkotnya lama', 'diem kamu kenapa malah ikutan sungjae', 'sebabtu aku cakap ignorance is a bliss don fight verbally or physically but spiritually instead bukan bomoh tapi doa sedikit pesanan dari ustajah celop', 'malem ini dia beneran mirip emot', 'ini licinnya bukan yg licin bgt gitu kok tetep enak tp kalo mandinya tanpa puff bakal kerasa licin emang', 'ohooo waysusa lendaba engaka 0001in33499039241705551907136098416blissthenduna sat sep 23 140325 0000 20231705583652745478473 kyk bukuny bliss bakery pinggiranny jg disemprot biru2 gini klo abis baca tgn jg ikut biru2 glitter kyk abis main pilox', 'mkoma derick vaisa gokora', 'srikumar rao srikumarrao gratitude blissdaily3', 'tau xpe dah kena start fikir nak letak apa dalam tupperware tu', 'itulah tu rasa bersalah yang amat dah semalam kena guna betul ni nanti dia dtg rumah buat inspection lagi seram', 'gm ds', 'sedang agak orgil dikit rewatching kyungsoo suhyun rewrite the stars on every tiktok yg lewat fyp', 'mela pogum adha keta oru bliss ulti ya', 'orang orang idiot bahas agama syurga dan neraka perut neg bacanya jijik sebah mau muntah baca narasinya', 'hanya orang super idiot yg mengatakan anies gagal jadi presiden dan ganjar sukses jadi gubernur', 'pake nanya lagi si idiot ini', 'sewidak likur i boso jowo ngendi bloookkk kancamu iso idiot', 'fym nuh uh', 'nuh uh', 'lebih parah lagi negara sepiteng totalitas menzalimi warga dalam segala hal amp dg segala cara ngumat idiot sinting penyembah hahbabi sarap sangit sudah 78 tahun lebih sampe mampus musnah tetap berdamai dg kebusukan total setan iblis dajjalx008fx008fx0090x008f', 'fahren idiot banget asli kiblatnya kmn ren itu kesana pas fahren yg shalat gue heran kok sajadah dia lain arah gue tanya lagi kiblatnya kemana ren itu kesana itu kepala sajadah lo kmn anjir oh iya udh mikir gue salah kiblat ternyata dia yg sesat', 'maba alay bangsat ntar pas ospek di bentak dikit diviralin ga semua orang jg main twitter blok idiot', 'yoongis verse', 'dih kagak nyambung padahal gua yang muntah liat tweet lo ke gua dah ya males ngadepin lu have a nice day idiot', 'rezim idiot hari gini msh tidak mampu mencegah rem blong masyarakat wajib gugat lembaga penegak hukumpolri dan gugat bangkrut perusahaan pemiliknya', 'th 45 berkorban harta nyawa melawan nazi ndilalah skrg malah kasih applaus ke tentara nazi yg mgkn sj sdh menembakbunuh kakek moyangnya di palagan eropa dr yg tepuk tangan benar2 idiot koplok gombal tingkat dewa demi demokrasi ukr rela mnjilat pantat pembunuh', 'tl dr', 'bisa mikir ga idiot ntar jennie kena drag yang disalahin kitakita lagi yg gatau apaapa', 'kecc i idiot', 'hao idiots wananisinya vizii kesho sasa ni kuomba bana', 'babi anjing tolol idiot goblok brengsek bangsat sampah tai', 'uri dhoti remunhu mukosho wamai vako duche pfutseke mhata yemunhu stupid sascum yemunhu such a heartless idiotic comment dako rizere chena ngochani yemunhu zimudhidhi ramai vako idiot', 'petantang petenteng', 'lah tolol gak nonton tapi komentar such an idiot', 'movies angu cjawahi ichoka 3 idiot sijawahi kuifuta series ya merlin', 'pelatihnya tolol min idiot bikin emosi aja', 'meet amar bharati an idiot', 'yoliiiiiiiiiii', 'mera bhai kitna idiot hai yar', 'mjb kak solusiny gmn ya detail paspor sy jg blm diubah', 'mjb kak proses gantinya brp lama ya hari senin kmrn aku udh dpt paspor trs udh coba ganti detail di traveloka tp sampe skrg blm terubah detailny di aplikasi', 'sarah connah', 'ada ayat ny segera dikembalikan masi ente tuduh nyuri ada dendam apa ente sama yesus sampe rajin bgt fitnah melulu ato ente just simply pamer kedunguan pathetic idiot uda keabisan akal bela akhlak nabee pedopil ny ente kira nabi ente suci serink dosa koq kata quran x008fx008fx008f', 'yakak', 'karma strikes again 2 idiot blm nazi 0', 'dang', 'idiot kalo mu yg kebobolan pasti gk cek var', 'senyam senyum kek bocah idiot', 'ya itu namanya back to back kontolll kalo treble itu dalam tempo setahun dan dengan tropy berbeda manusia kontolidiot', 'hattrick ucl gimanamemang fans idiot ini itu back to back zidan idiot', 'fans lo idiot semua ya eti heran isinya cium jilat cium jilat', 'amesema hukumkulax0081', 'the idiot nah obalende police barracks product awon omo iya nkan baba 75', 'prorussian idiot', 'mbeumo 1pointer fpl', 'oye bhopdk modi ko jo marzi gaali de sachin sir ko izzat se bat kro idiot', 'wo ni tw3asidi idiot', 'alquran written by satan idiot', 'u have no ideatune apni marwa li hai ye post karkeit basically means tu sabse bada flop hai in sab ko milakeidiot', 'correction 6 atgs belongs to aamirkhan raja hindustani ghajini 3 idiots dhoom 3 pk dangal', 'xavi is an idiot', 'mana buktiny badut mesjid idiot minjem trus dituduh nyuri apa alkitab mesti kyk khayalan ente ceritain detail sampe balikin keledai ny makany ente sehari 5x jgn jedotin otak ke tembok kalo mhmd pedopil jelas rampas harta kapir sampe si swt juga minta bagian ampe turun ayat x008f', 'aku lebih suka jadi idiot daripada kehilanganmu', 'fkg idiot', 'kek ti si idiot', 'tim idiot ajgg celta banyak amat back nya', 'ternyata salting gue jelekk dan alayy sampe gabisa tidurr', 'someone who knows your worth bakal selalu ada jadi tinggalin aja yang jelekk jangan malah dikasih kesempatan yang bakalan nyakitin dirimu sendiri pada akhirnya ayo semuanya baca ini11', 'eh demi iya banget dari awal mau nyoba take vid screen jelek banget udah di naik turunin exposure nya trus di lock focus tetep aja jelekk', 'aku yang insecure essai ku jelekk parahhh keknya bisa diterima di kastrat berarti kalo standarnya begini', 'jelekk bgt maennya', 'gada yang jelekk', 'jelekk bgt', 'kak jangan dihakimi yaaaa guyss ntarr nama negaraa kita jelekk sendiri', 'bjir kamera work nya jelekk amattt apa yg lu sorot badjingan', 'audionya jelekk ih jujur hufttt apalagi pas joy ment bener bener gakedengeran apa apa', 'ajgg jelekk bgt posisinya', 'at least klo mau reuse baju cari yg bagus kek ni baju jelek lu pake terus babik masi mendingan outfit blue ribbon marathon kemaren drpd yg ini anjir jelekk bgtt', 'jelekk', 'iya soalnya susah nulis konsisten tu kalo aku awalnya bagus akhirnya jelekk wkwkw berasa bagan anak sd', 'bunga anjing mihoyo anjing tai lo bunga jelekk', 'jelekk bgt ih masa di tengah kota gaada sinyal dong', 'kokk jelekk betull whyyy', 'hey masa aku dibilang jelekk kan agar supaya seruu kok tibatiba gembokan', 'plss ini kenapa sinyal wifi nya jelekk', 'iya outfit nya jelekk', 'jalanin apa yg adaa mbaa let it flowwsekuatnya jangan terlalu dipaksaa apapun kalo dipaksain hasilnya bakal jelekk semangatt mba', 'kamu jelekk', 'jelekk amat bagian guee ntr gue rebut kai dlam mimpi', 'nangis jelekk haha semoga ada hari buat tuhan kasi kesempatan ke aku', 'jelekk bentuk idung sm jaw nya', 'gw teriak jelekk dia di ferarri', 'ingettt orang jelekk gabole ngarep reponya dia kaya gitu yaudah gapapa gabole ngarepp', 'jelekk dikit cape aja sama tugastugas makasii buat katakata baik nyaa kamu juga udah ngelakuin yang terbaik hari inix008d', 'sbl bgt sepatu kyuhyun knp merah si jelekk', 'bajunya jelekk', 'dyandra tolong suara yg beyond dong jelekk bgt inij', 'aaaaaaaahhh tahan tahan jangan beli buku inget hapemu udah jelekk', 'jelekk bangett ade gw ngomong mau malah jd mw', 'jerawat di hidung itu jelekk kalii', 'besoknya bilek kenapa aku jelekk', 'jaringan gua jelekk keluar mulu', 'ingyhhh rony jelek jelekkkkk bgt lu kek kuda lu jelekk', 'kenjaku jelekk udah gausah ikut ikut suguruu gabakal bisa kamu manggil satoru kaya suguru asli', 'scene ini gua nangis jelekk', 'padahal mewahh lohh tapi gegara isi warna oren jdi jelekk', 'kaget bgtt nyebar gosip nya jelekk', 'anjj jelekk bgtt', 'jelekk', 'aduhhh ga liat ada polisi tidurr lama bngtt anjg panass inii mnyett sabarrr su ehh sorry soryy nihh jalann jelekk benerr bangke', 'cyput jelekk', 'aku aslinyaaa jelekk woyyy x008dx008dx008d', 'iyaaaa nanti kalo balesnya emosi malah kesannya jelekk wahh', 'yaza digo sama galang jujur si tristan itu jelekk banget anjir muka nya kayak orang cabul', 'jelekk ih kaya lo', 'iya jelekk si jujur pemerannya eren bunuh diri', 'kak adrof jelekk', 'km g jelekk iiiii', 'siall gue udah bolak balik buka bubble udah marahin tukang wifi kirain jaringannya jelekk', 'gapapaaa mimpi jelekk ajaa kaaak', 'okjelekk mkny bgtu', 'jelekk bangettt hufftt', 'mengejar tidak harus berlari', 'jelekk itu mah', 'wkwk jelekk bgt memenya', 'nangis jelekk haha semoga ada hari buat tuhan kasi kesempatan ke aku', 'gw mimpi jelekk bgt anjrott', 'ngomongin manusia jelekk', 'jelekk', 'bad lagi sakit herpes jadi arghh gaenak semua serba gaenak jelekk hows your day kakk', 'ahhahahahah lucuuu banget lu jelekk', 'dari deket jelekk amattt', 'angfasihh fyp ku jelekk bngttt', 'gini nihh kalo dimanjaa jelekkx008fx008f', 'jelekk bgttt monangisss', 'aku usahain selalu rapih karena kalo berantakan nanti mood nya ikut jelekk jd udh kebiasaan', 'mkst kuu gegara kenjatot suguru jd jelekk', 'jelekk misah gituu', 'sepi krna bukan bts jelas klo ini bts udh dirujak smpe jelekk', 'jelekk ah bikin ak nangiez aja', 'pliss lahh aku masih butuh saran booklet karena tema sekarang terlalu ribet dan yg lainnya udah terdengar gk niat jshsh takut jelekk', 'bjrottt kok diiyain klo gwej jelekk anjirr', 'ya allahh tambah nangisss bgt poniku habis dicatok jadii nya kebelahhh jelekk bgttt nangissss', 'gaa deh jelekk kkkk tpi banyakk', 'gausaaa kekny emng typingnya yg rada jelekk', 'kak alex lebih jelekk huuu', 'bmyk opini jelekk tntg mobing sorry i cant take this slanderrrrrr', 'mutualku ga ad yg jelekk kamu juga cantik berarti', 'emyu tuh harus sampai fase hancur dlu si kayak barca di masa masa suram di tinggal messi management lama kena kasus hutang bnyk dll skrng mulai bangkit kalo emyu kan walaupun jelekk bgt msh bisa dpt trofi ciki belom sampe fase ancur bgt nyaa', 'ini kapann jelekk bangett', 'yang bilang jelekk siapa cobaaa', 'dih lariiiii ada opini nya jelekk laariiiiiiiii', 'emg jelekk ini jersey cokk', 'ak awal2 lauch bngt beli trs masih amann packagingnyaa bahkan beberapa kali jatoh oke2 aja trs kenceng apa yg warna dan batch baru jd jelekk', 'jelekk bgt nangiss dihalte', 'jelekk bangett padahal itu pc cakep bgtt yg lama', 'jelekk ahh sore2 nangiss', 'wifi kosan ini jelekk banget woilah', 'jelekk luuu bikin emosi', 'ofc yg waterproof soalnya kl meleber jelekk', 'jelekk', 'kalo grogi tuh jadi jelekk bahasa tubuhnya kesel bgt', 'lu mah enak bisa langsung kerja ada ordal kalo gw sendiri justru kek beban aja semisal gawe an kita jelekk ga sesuai ekspetasi dia malah jdinya kek beban mental', 'ihh samaaa jelekk jaringan kitaaa', 'td pagi jelekk', 'jelekk bngt jancok', 'sinyal jelekk', 'dari semalam sinyal jelekk baru bisa pagi iniii', 'pake baju nya jelekk', 'nangis jelekk', 'kampungan huu kampungann huu', 'mksdd emng ada monyet yg kampungann gitu', 'kampungann', 'kampungann', 'kampungann', 'mirip kucingku kelly si kucing monyett semoga ada yang adopt ya adeeekkkkk', 'elah jadi bete gue nya monyett', 'sebel kalo diinget monyett lah', 'gua ga telanjang monyett', 'cukup aku saja yang kesepian dompetku jangan', 'tubuhku bergetar jantungku berdebar kukira aku belom makan ternyata uangku habis', 'ls tai monyett', 'monyett emg bole semoody ini', 'gua beneran gamau jauh jauh dari dia tiap menit ngecekin dia ada disekitar gua atau engga kayakk lu siapa anjir jias sadar monyett', 'skwkwkwk monyett kan gua bingung nanti sookai dmm taro manaaaa', 'soalny gw aneh bgt aja liat org yg bener2 rajin likein sg pdhl hari2 kaga berinteraksi tuh okelah itu hak lu tp lama2 dongkol jg gksih kayak ganggu bgt monyett aplgi lawan jenis trs strangers no offense', 'monyett capek tarik ulur dikira lomba tarik tambang apa ini', 'kok ngeblur monyett', 'tp aku dah dijemput monyett', 'nct siapa yang kemaren dah janji mau bantuin yangyang suara monyett di zoo beneran dilakuin gaa yaa', 'monyett emang boleh langsung se love talk ini kelar its only me', 'ajg gw sakit hati bgt cok kopisoe glc tutup monyett adanya di dkt superindo', 'muka nya pliss kayaaa monyett bangett ga kuaddddd', 'sama2 monyett kau lahh monyet terbaik gua', 'kok gaada satupun kabar baik tiap gw buka wa monyett', 'monyett tl gua pada pamer papasan sm johnny doy renjun aaaaaaarggghhhhhh', 'aku tidak handal dalam menjinakan monyett tauu', 'gak wkwkwkwk temen2 gw di sklh pd bahas ggs gw doang yg plongaplongo kek monyett', 'benci bgt monyett make ht buat ginian ya allah mau berkata kasar bgttt', 'wkowkwok monyett keee', 'monyett yg strip strip lucu bgttt', 'viralll baru klarifikasi loee monyett kelakuan lu katro', 'nunggu dmd promosi kya nungguinn lairan monyett haaaaaseketika liburann ku ambayarrrrrrnu sayang banyak', 'sekarang h2 aja grabak grubuk asuuu gue udh ngmng dri rabu malah diem aja monyett emg yg tugasnya banyak lu doang apa si anjg minimal ya kasi kabarnya jangan cma diread doang', 'dikancani monyett kan', 'anjing sp yang nulis ini kok sedih banget monyett aku nangis pagi pagi begini', 'pagi pagi dj dibikin badmood monyett', 'najis selingkuh selingkuh monyett kaga kudu ada alesannn', 'nih aplikasi ribet bgt monyett timbang ganti display name doang aje kudu authentication', 'pernah g c law cinta beut sama cowo law gdwysjshsh salting bgt gue monyett apip', 'eluu yang sering nolak kalo gw ajak monyett', 'tunggu tunggu ada kesalah fahaman ini deck', 'ngelonteh dulu deck', 'ituu gambarnya monyett bjirr', 'pala gua sakit bet dah monyett', 'demi yg namanya engagementrasain lu monyett', 'monyett mau nikah sama ethan aja', 'monyett jangan tag2 tbtb gua suspen gua giveaway akun lu', 'monyett ketawa banget maaaf', 'ini anak kelas gue ga jelas begetee anjg kmren udh janji buat nonton bareng film yg buat drama performance nnti eh kaga jadi sampe skrg gajelas monyett', 'nyesel tp ky ya udh gt loh ky let it flow tp gamau kaya malu tp kaya monyett gue harus ngelakuin ini', 'jaekyung anjgg lu bisa2 nya gituan sama kim dan di depan heesung asu kim dan guee monyett', 'fauji kuntul taikk monyett drun kadrun guoblock pake lagak mau belain daerah lain yg jauh padahal daerahnya sendiri di bilang daerah yg di huni oleh para monyet dan beruk serta jin goblock tapi ente diam aja panglima dobbol', 'monyett refleks ngakakk', 'monyett typing lo jleg bbgt kontoll', 'kalo gini terus ak yh cape juga monyett', 'gue emg niatnya mau balik 2 minggu sekali biar ga canggung sm adek2 gue trs juga ngelepas kangen kasian si bungsu kesepian bgt pastii kakak2nya pd sekolah skrng minggu ke 2 niatnya mau balik tp malah co sopi cod monyett mana datengnya antara besokminggu lagi', 'demi allah stop kek lu pada monyett ganggu bgt udh 5x', 'monyett lebih 1 bulan tamatnya', 'monyett sendal gua ilang', 'gue mau iri ya monyett tapi gajadi', 'lu duluan monyett', 'ajgggg muak bgt nih monyett gw jatuh cinta cm dpt jatuh nya doang cintanya nggabuang2 waktu gw effort ke cowo brengsex kyk lu yg so kecakepan busetttt mikir dikit lah lama2 cape gblokk disepelein mulu punya tapi kaya gapunya egk slmanya gw luluh gblog inget', 'pengen baca au tapi malah ga bisa liat threadnya elon beneran macem monyett lah kalo gini', 'monyett itu gua sakit', 'monyett dri tdi kga bnr', 'sarap pandesal', 'emang sarap tuh ga tanggung jawab', 'muka ama review makanan apa hubungannya bjirrrr sarap nih orang', 'sarap char', 'sarap ah diteangan hesee', 'sarap xonam li rek', 'ganteng ganteng sarap', 'sarap ma ratio nu', 'sarap dedehin', 'tp kenapa elu ngatain w sarap sie padahal w klesi x009dx008f', 'sarap khoni celta rekk', 'sarap sa pandinig version ni bam2 ng raining in mnl', 'sarap nyu ahh', 'huehueuueyeueheuheuehuehuehueheue sarap sa ears', 'sarap katukan ng ganyan', 'sarap sen', 'sarap emg', 'sarap mane dma tiit sakh', 'kesialan warga yg meridhoi negara sepiteng bikinan parah hahbabi sarap sangit akan berlanjut abadi di sepiteng kerak jahannam apalagi patuh taat ikut hahbabi menganut demoncrazy malah makin terjamin akan jadi warga abadi sepiteng kerak jahannamx0090x008f', 'ya allah makin gedeg aja gw sama yang bikin bencana ini sarap lu bikin foto prewed malah ngerusak alam', 'sarap nun ah pasok ulit hunks f2f zoom jakol zoomjakol', 'sarap puta', 'sarap tirisin', 'banci2 nganggur hatersnya agnezmo sm perawan tua imigran gelap asal guangzhou pada kayak org sarap agnezmo yg manggung mereka yg obses giling deh kocak', 'sarap robi', 'wong edanmalah disuruh buktikan teologis fix sarap', 'ini sertifikat bisa bantuin aing masuk unpad gak yaa btw raja sarap udh tau deptil malah ngebut', 'sarap didian', 'sohee at anton sarap ibulsa', 'sarap mamatai lang', 'ini kalo sampe next week pioli pake taktik ama formasi ampas ini lagi sarap sih fix', 'sarap manghambalos', 'hmm sarap sa eyesss thanksss po uwu', 'kayaknya urg kalo naksir orang emang suka jadi bloon waktu itu pernah first date sendal lepas sebelah terus sekarang beginian kan sarap anying', 'den bokep ternyata didukung oleh buzzer tukang fitnah dan tukang hoax si', 'dulu satu jalur garagara honor ngebuzzernya kurang akhirnya pecah kongsi', 'opini gblk manusia tertolol adalah ketika lu ngatain caper sus member yg udh di anggap do teman seumur hidup masih ingat bgt gua ada yg ngatain member gitu sarap emang', 'semoga anak ini tidak doyan bokep seperti bapaknya', '517 sarap kurutin ni iya', 'sarap suntukin eh', 'beh sarap ibulsa ni sehun', 'innalillahi wainnailaihi rojiun semoga para korban kecelakaan bawen husnul khotimah', 'mmbuat sungai sluruh diindonesi dtutup kain waring', 'sma aja kyak luklo ly pergi kepasartrus lu kebelet berakn ga dpat wcelu jng akan gtu', 'ang sarap ibulsaaa', 'sarap open tenant sejuta wkkwkwkw', 'ya allah takut bgt td dpt driver sarap astaghfirullah si bpk nya knp dah orgnya kek rada sakit jiwa kok msh bs nge grab takut bgt pas turun blg makasih sayang ke gw knp sih gak ada menu blokir driver di apk grab pdhl butuh bgt buat ngehindarin hal2 kyk gini', 'ini woy gila bayangin lu berduaan ama mayat di dalem pesawat gmn mau kabur bjir mana lu dikira gila trs diiket didepan mayat persis emg sarap', 'udah sarap belum cil', 'sarap di lostkeun kitu anying', 'sarap sumpain', 'sarap lomi', 'sarap ibulsax008f', 'sarap nyan keanu', 'udah malem mah dinner knp sarap', 'sarif sarap dah gt aja', 'sarap donat mau', 'sarap dlu saa', 'x009dx0090x009dx0090x009dx0090x009dx0090x009dx0090x009dx0090x009dx0090 cute ni bambam sarap gawing keychain bambam solo concert in mnl bambamarea52inmanila bambaminmanila bambam', 'sarap kurutin', 'haa sembarangan nuduh goblok emang si sarap punya yg buat goblok', 'sarap dlu teh', 'mimpi tolol klub miskin minimal bayar lah pemain city cancelo dan ferran', 'tololsiapa coba ayo', 'bercyandabercyanda', 'gebleg knp aing mimpiin brondong tolol bgttt manusia ini', 'ini lebih baik dan harganya jelassehingga bagi orang yg akan makan bisa mengetahui harganya dan ga takut ditembakatau jika ada kader partai yg sok tau dan memviralkan warung ini maka dia kader tolol seperti kasus yg pernah ada di rest area', 'gak usah nunggu uji coba dan pembuktian secara hitungan ekonomis penumpang juga udah keliatan perbandingannya dr kemaren udah bnyk pakar yg bicara soal ini lha objective kcic jg gk jelas buang2 duit doang proyek tolol atau ngawur', 'aku pernah di rl ketemu cowok kaya gitu ihh nangis gw mah udah dijauhin tp karena kerjasama di tempat ojt hrs komunikasi gitu tolol cowoknya dikira bagus apa kaya gitu sampe merinding akhirnya gw sakit utg gw keluar duluan gegara sakit ga nyambung sakitnya tp bisa alasan', 'taklid buta itu adalah yg manggut aja saat junjungannya bilang tegak lurus bersama mukidi melanjutkan program mukidi tolol banget kan tuh buihnya wowo', 'muslim orangislam ktpkk include cebongkadrunpresidenmenterikoruptorpolitikus dll gmn lo bedakan cebongkadrunmuslim bottolol mu tampak kan x0081x0081x0081', 'intinya sorry udh samasama bikin kecewa wkwkwk tolol ah bego', 'pantes aja gampang luluh udah naksir duluan dari bocil mungkin kalo lo diselingkuhi nantinya bakal ngasih maaf kali ya cinta emang bikin tolol', 'tolol', 'ntar ada orang yg bunuh lu soalnya kesel krn lu tolol', 'lah emg bayi kerjaannya nangis bego gimana sih lu terus lu mau dia diem trus yang ad bisa jdi bayi nya bisu tolol', 'lagian sistem baru anj tolol ribet bgt kntl pake nuker segala', 'jeh tolol mknya kl blm siap punya anak kontrol tu napsu lu', 'mama gigi tapi versi tukang jualan jamu', 'twit tolol sejak kapan kepemimpinan nasional ditentukan oleh elitelit politik', 'tag aja akun twitter si mbak tolol ini kesini ada yg tau', 'nanti ngemis ngemis minta di kasihanin si supir truck tololl', 'ih tolol ngerepotin aja', 'wkwkwkwkw akun palsu kalo kalian ketipu sama akun ini kalian tolol maksimal', 'wkwkwk biarin si di luar fakta permasalahannya gmna lucu liat orng tolol bgini', 'maaf ya terpaksa sy sebut kamu itu bodoh amp tolol dikasih kesempatan hidup utk merubah takdir tapi kau nggak mau bagus kamu mati saja dulu ketika dilahirkan toh ketetapanmu dilahirkan dlm keadaan kafir', 'banyak pembenci anies yg merendahkan kampus tetapi pada kenyataannya dia mati matian menyekolahkan anaknya ke kampus itulah kemunafikan yg tolol', 'kameramen tolol', 'kan emng definisi tolol ya gitu', 'samasy dulu juga pendukung pak ps tetapi itu dulu dulu pun krn ada bang sandinya sekarang mah ogah hidup amin x008f', 'tuk apa gamonin orang tolol ya gak bilang sayang tapi gada effort sama sekali bisanya ninggalin doang makan tuh sayang', 'muka nya aja keliatan kek orang tolol', 'tolol', 'lu bilang lagian klo bnr apa salah tae dating sama cewek gw jawab ga ada yg salah dia mau dating sm siapa aja kalau emg dikonfirmasi belajar bahasa indonesia dan analisis kalimat yg bener sebelum ngatain orang lain yg tolol malu', 'tolol', 'mampus dibully tolol sih', 'manusia manusia tolol', 'tolol', 'ada orang tolol ngatain orang lain tolol itu konsepnya gimana ya', 'famplat apaan tolol', 'tolol', 'tolol bangsat', 'ortu lu dientot sama anjq kayanyalahirlah lu ini yg otak nya tololl', 'terus dna presiden yg dulu2 bukan dna nya nabi adam apakah nabi adam dr jawa juga tolol', 'pertanyaan tolol inimahhh', 'lo aja ganti klub sana pemain cidera 12 orang awal musim masalah glazer masalah sancho masalah antony mau greenwood tapi malah dipinjemin gara2 diprotes sama sjw gausah tolol jadi fans', 'namanya juga orang tolol', 'lu aja yang tolol ajigbanyak info tapi gak mau baca ya susah', 'benci bgt kalo diri sendiri udah bucin bukan lucu malah tolol', 'ya gmn ga gw ngetik lol orang lu tolol dibilang gw ga heran kl lu bilang sering soalnya lu jg kremy', 'anak siapa sih yang lagi kalian lindungi korban sampai buta lohhh tolol amat kalo sampe kasus ini hilang gitu aja', 'mana pada percaya2 aja lagi wkwk tolol bgt ni fandom liat aja tu editan burik dipercaya', 'kasian bgt bayinya punya keluarga manusia tolol', 'slang sek ii kito pom belanar kokna tkhabis nok guno budok ii jah duk sibuk guno slang sek dio sibuk doh duk claim oyak kito suko guno slang pok ii dio dio tktahu ko kito ni multi universe lagu mano dio kecek lagutu la kito kecek bukenyo kih kito suko tolol banyok eh', 'keseringan yang ngomong keseringan yg tolol justru org ninggalin stage cm 1x selama tour sisanya benerin mic trouble doang dan lanjut perform dgn baik wkwk ga heran gw lo bilang sering soalnya lu jg kremy', 'mana nih lonte tolol yg mahu di siksa smpe jdi tolol beneran chatsekskasar sangeaaaaaaaaaaaaaah chatseks chatseksbrutal', 'kontol tolol manusia babi', 'bocah tolol', 'jiah males gue jadinya gak bersyukur lu jadi manusia exol kurang apa buat dukung do lu sendiri udah ngapain aja sampe ngetweet kayak gitu ckck tolol', 'tolol si makanya dimanfaatin bong e bong pecinta denbokep emang tolol', 'orangnya kemana ya ko ga nongol udah mati kah kalo udah mati alhamdulillah lah ngurang2in orang tolol', 'para rezim bandit bangsat tolol', 'oh jelas cewe pintar tidak akan memilih cowo tolol kayak lo', 'yg jjur kena juga tolol matiin rizky jalan usaha orng bngga', 'elo cuma bisa copy paste katanya rocky gerung dasar tolol loe', 'jangan iri tolol rezeki dah ada yang ngatur masih aja iri sama rezeki orang', 'tolol ah makanya ga usah bikin klo denger suara tangisan bayi aja ga bisa', 'tolol', 'khas gaya orang tolollmenyanjung nyanjung anak junjunganitu kerja kelompok nyuukkkkrn dia anak gubernur maka diikutsertakan', 'tinggal repost gak bisa garap ini istilahnya apa yaaa ya tolol', 'norak lo hal ky gini aja lo banggain tolol', 'gue kira becanda taunya serius pure tolol brrt', 'makanya di kasih label tololx009d', 'ga mampu bukan nya nanya manusia di kasih otak untuk digunain manusia di kasih akal beda sama hewan tolol', 'ini memang antara internet app pln mbanking yang lagi tolol daritadi nggak bisa beli token', 'apa si tolol ada katakata gua kalo gua percayai rumor gua cuman ngetik kenapa kalo tae dating sm cewe salah', 'idolnya sama sama lg sakit dan sama sama ga terima dikatain dari awal udah diingetin dan langsung dihapus emangnya lu clapback merong merong trs ngebiarin repnya tebar hate gue lg g ngomongin standard lu tolol', 'kalau tolol gak usah maen futsal', 'tau dah udah bagus mood gw nonton jungkook di gcf eh muncul si tolol lebih percaya editan trs ngatain record jelas sbg editan apa sih yg diharepin dr orang yg percaya rumor otaknya aja ga kerja', 'udah lama cukup tenang ni adaaaa aja orang tolol muncul di fandom grup wkwkwk', 'anjg tolol', 'aldo lu tolol banget dah', 'tolol', 'yeeee tolol sp juga yang di goblokin editan gua juga tau rep yang gua ini juga editan gua cmn pengen klian stop ganggu fbs kth aje', 'yg milih orang tolol', 'ini opini tolol yg biasa bicara tentang demokrasi otak udang sok pandai kadrun bego', 'memangnya ibukota negara harus hiruk pikuk penuh sesak dengan manusia tolol amat', 'aku kangen orang orang tolol di gc ini', 'makanya liat channell tololx0081', 'anak cenderung mengcopy bpknya kaau anaknya baik berarti bpknya baik kalau anaknya abal2 bpknya pasti abal2 juga apakah layak yg begini mimpin indonesia hanya org tolol amp buta yg memilih pemimpin demikian', 'konten tolol beginian tiap hari ada terus', 'manusiawi sih tapi yang ngevideoin ngga sopan juga', 'tolol', 'tolol lu', 'they did great job better than that tolol cameraman', 'dasar tolol lo gak ligat rempang dan tempat2 lainnya yg havur dirusak', 'kampung banget maennya timnas terjelek yang pernah ada secara gameplay udikk', 'ishhhhh manusia udikk lo', 'aku udikk bgt ga sih klo gatau itu apa', 'gile okep pgn dilegalkan mbokkk udikk oon kabina bina', 'tidak lain tidak bukan', 'kak udikk', 'ada udikk', 'mainan nya cuma bokep dan bokep udikk', 'betuludikk']\n"
          ]
        }
      ]
    },
    {
      "cell_type": "code",
      "source": [
        "for text in texts_new[:1412]:  # Menampilkan 10 sampel pertama\n",
        "    print(text)"
      ],
      "metadata": {
        "id": "xWsvSG6zenKb"
      },
      "execution_count": null,
      "outputs": []
    },
    {
      "cell_type": "code",
      "source": [
        "for idx in df.index:\n",
        "    if idx not in texts_new:\n",
        "        print(idx, df.loc[idx, 'full_text'])"
      ],
      "metadata": {
        "id": "jGOPlaJ7ePS5"
      },
      "execution_count": null,
      "outputs": []
    },
    {
      "cell_type": "code",
      "source": [
        "# Mencari indeks yang tidak ada di 'texts_new'\n",
        "missing_indices = [i for i in range(len(df)) if i not in range(len(texts_new))]\n",
        "\n",
        "# Menghapus baris dengan indeks yang tidak ada di 'texts_new'\n",
        "df = df.drop(missing_indices)\n",
        "\n",
        "# Mengubah kolom 'text_clean' dengan 'texts_new'\n",
        "df['text_clean'] = texts_new\n",
        "df['text_clean'].head()"
      ],
      "metadata": {
        "colab": {
          "base_uri": "https://localhost:8080/"
        },
        "id": "fRshpGjrdsso",
        "outputId": "385567d0-1c2a-4c3a-e119-6b7283445c21"
      },
      "execution_count": null,
      "outputs": [
        {
          "output_type": "execute_result",
          "data": {
            "text/plain": [
              "0    minimal kl gue editin cari materinya lah ajg u...\n",
              "1    jamur x008d ngapain sih ikut becky ke luar neg...\n",
              "2    susi saha anjing btw galang sampe sekarang jug...\n",
              "3    gini amat jadi tim gede pemegang 20 gelar liga...\n",
              "4                         lah ini anjing lagi ngetweet\n",
              "Name: text_clean, dtype: object"
            ]
          },
          "metadata": {},
          "execution_count": 15
        }
      ]
    },
    {
      "cell_type": "code",
      "source": [
        "text_len = []\n",
        "for text in df.text_clean:\n",
        "    tweet_len = len(text.split())\n",
        "    text_len.append(tweet_len)\n",
        "\n",
        "df['text_len'] = text_len"
      ],
      "metadata": {
        "id": "qxevFZf3hEhq"
      },
      "execution_count": null,
      "outputs": []
    },
    {
      "cell_type": "code",
      "source": [
        "plt.figure(figsize=(7,5))\n",
        "ax = sns.countplot(x='text_len', data=df[df['text_len']<10], palette='mako')\n",
        "plt.title('Training tweets with less than 10 words')\n",
        "plt.yticks([])\n",
        "ax.bar_label(ax.containers[0])\n",
        "plt.ylabel('count')\n",
        "plt.xlabel('')\n",
        "plt.show()"
      ],
      "metadata": {
        "colab": {
          "base_uri": "https://localhost:8080/",
          "height": 468
        },
        "id": "2UUrPdsbh0S_",
        "outputId": "84246865-a1ff-4802-eb5e-63dbc3c9d9bd"
      },
      "execution_count": null,
      "outputs": [
        {
          "output_type": "display_data",
          "data": {
            "text/plain": [
              "<Figure size 700x500 with 1 Axes>"
            ],
            "image/png": "[encoded data removed]"
          },
          "metadata": {}
        }
      ]
    },
    {
      "cell_type": "code",
      "source": [
        "print(f\" DF SHAPE: {df.shape}\")"
      ],
      "metadata": {
        "colab": {
          "base_uri": "https://localhost:8080/"
        },
        "id": "DLxedLPziE31",
        "outputId": "3d583984-300a-4368-c841-d4ba75b7817b"
      },
      "execution_count": null,
      "outputs": [
        {
          "output_type": "stream",
          "name": "stdout",
          "text": [
            " DF SHAPE: (1412, 4)\n"
          ]
        }
      ]
    },
    {
      "cell_type": "code",
      "source": [
        "df = df[df['text_len'] > 3]\n",
        "print(f\" DF SHAPE: {df.shape}\")"
      ],
      "metadata": {
        "colab": {
          "base_uri": "https://localhost:8080/"
        },
        "id": "SupxlrHRiIJO",
        "outputId": "dd37a576-26ac-499d-e52b-9eb024155960"
      },
      "execution_count": null,
      "outputs": [
        {
          "output_type": "stream",
          "name": "stdout",
          "text": [
            " DF SHAPE: (1036, 4)\n"
          ]
        }
      ]
    },
    {
      "cell_type": "code",
      "source": [
        "\n",
        "tokenizer = BertTokenizerFast.from_pretrained('bert-base-uncased')\n",
        "bert_model = TFBertModel.from_pretrained('bert-base-uncased')"
      ],
      "metadata": {
        "colab": {
          "base_uri": "https://localhost:8080/",
          "height": 288,
          "referenced_widgets": [
            "20f7710a4fe9460da8b9726fd595f879",
            "a9c98d522d774d1984767dbd3eab6881",
            "55f746f4e210434ea4c4f81fd046e0a9",
            "0d5c906e65174179becdf4074f6a1ede",
            "3b40aec0174b42abab35d2c9a8b7f42b",
            "cfc4a4e3421f4e229d5c0a3f0d1887e6",
            "4a24a7586fe9447781958c9d3d7b3a4f",
            "9923adcc66e348b8b5a457ed7375b47c",
            "c90509430f4b4d07bdab248419935f7e",
            "28a155bc8fc349cb907af2f9bc5d4a58",
            "74a9e1a481eb422aa8a795031af66275",
            "0a5cd2391d47416c897ecc9050ea23e7",
            "3abf379ac41a4d35ad5dc73cb0ef765d",
            "de8dd10aebc243d4adbb06c8a11af95d",
            "a3d46fe8cbc043ccaa25c9c401c00279",
            "c1eb74c066734b82a8aa1b634b1b86d4",
            "d537fbad3fc64bd4b292d33c48907af9",
            "5cff7bd165c243058d5a31df6b783120",
            "49d3b977d9ee4372af54c3500b881bc8",
            "6573784fec7a4223a7968277f3d9b075",
            "adf1f7cd67a8499f8d43394869cdab05",
            "b712740ba83b48df907bef2911e499e0",
            "6c24186731d44da790883de5afcd8680",
            "0efd4201b14f4ae6aea4a4b9bc8710dd",
            "c6affdcfbe4d46ae8aa09b2a931d8557",
            "c1e49fc6dd59476e9eaad19208583e51",
            "1dbac79b3c3949bb84a960e52fd6b66c",
            "bb664d9c13e94f2aa05ca644f91f7cbc",
            "e4452f26949f488294720f69523a19b2",
            "f7a48a123cde4f96ace8e1ad6559f9d0",
            "07cc6baed0cc48fd8b8f55dc9b022dd9",
            "a7e767393aab413b81ba462885c388d2",
            "08ca49736110483097c3dbe663c9f2c2",
            "39986ee6554143d795659c015c4402b1",
            "64a64e41b49b4c92b00615b31da13f59",
            "0c48a2e2b3384ff683a4d6a1622c0587",
            "766b396ed64646169b36fd9f93e6928a",
            "ee6cddcf55b94319aa798534573e369f",
            "02b1dc2f85ee4b9f9854e37882c16056",
            "b2bbee3f13e1464696ad20b5bb52ee67",
            "b48e16bed88d4e84a72e756d08675046",
            "de4214a566be430f98f9960ede005f25",
            "3304a678a0e240e6bc44c40465205408",
            "828b326849bb476cb5d695f9e916c045",
            "cd26a35de6c34151bce9ae0a05ad8608",
            "4d916fff06c44d61ba03628951aec77c",
            "8ca15eb923344041908683e71f5af50f",
            "1553d53b52f0407185f4cf44f5c6cc78",
            "b7066f3cc25949edaabcd001df6f6d2b",
            "0db8ec55075e44608246b34d4a413622",
            "b872b7c4b61c4a3d94891b4ae11e067f",
            "94a5b795f13d48f49e62cfcc15102afe",
            "5b83f16aefcc40d2b57ca499e7bbc9d8",
            "6ad201ca808d460db6f8917ec974a0f1",
            "fac23f6216504f16b972dea20b66a169"
          ]
        },
        "id": "uKqjjijbiWRd",
        "outputId": "6b320b2c-c5de-4a11-86dd-87ad8acdf1ea"
      },
      "execution_count": null,
      "outputs": [
        {
          "output_type": "display_data",
          "data": {
            "text/plain": [
              "tokenizer_config.json:   0%|          | 0.00/28.0 [00:00<?, ?B/s]"
            ],
            "application/vnd.jupyter.widget-view+json": {
              "version_major": 2,
              "version_minor": 0,
              "model_id": "20f7710a4fe9460da8b9726fd595f879"
            }
          },
          "metadata": {}
        },
        {
          "output_type": "display_data",
          "data": {
            "text/plain": [
              "vocab.txt:   0%|          | 0.00/232k [00:00<?, ?B/s]"
            ],
            "application/vnd.jupyter.widget-view+json": {
              "version_major": 2,
              "version_minor": 0,
              "model_id": "0a5cd2391d47416c897ecc9050ea23e7"
            }
          },
          "metadata": {}
        },
        {
          "output_type": "display_data",
          "data": {
            "text/plain": [
              "tokenizer.json:   0%|          | 0.00/466k [00:00<?, ?B/s]"
            ],
            "application/vnd.jupyter.widget-view+json": {
              "version_major": 2,
              "version_minor": 0,
              "model_id": "6c24186731d44da790883de5afcd8680"
            }
          },
          "metadata": {}
        },
        {
          "output_type": "display_data",
          "data": {
            "text/plain": [
              "config.json:   0%|          | 0.00/570 [00:00<?, ?B/s]"
            ],
            "application/vnd.jupyter.widget-view+json": {
              "version_major": 2,
              "version_minor": 0,
              "model_id": "39986ee6554143d795659c015c4402b1"
            }
          },
          "metadata": {}
        },
        {
          "output_type": "display_data",
          "data": {
            "text/plain": [
              "model.safetensors:   0%|          | 0.00/440M [00:00<?, ?B/s]"
            ],
            "application/vnd.jupyter.widget-view+json": {
              "version_major": 2,
              "version_minor": 0,
              "model_id": "cd26a35de6c34151bce9ae0a05ad8608"
            }
          },
          "metadata": {}
        },
        {
          "output_type": "stream",
          "name": "stderr",
          "text": [
            "Some weights of the PyTorch model were not used when initializing the TF 2.0 model TFBertModel: ['cls.predictions.transform.LayerNorm.weight', 'cls.seq_relationship.bias', 'cls.predictions.transform.dense.bias', 'cls.predictions.bias', 'cls.predictions.transform.dense.weight', 'cls.predictions.transform.LayerNorm.bias', 'cls.seq_relationship.weight']\n",
            "- This IS expected if you are initializing TFBertModel from a PyTorch model trained on another task or with another architecture (e.g. initializing a TFBertForSequenceClassification model from a BertForPreTraining model).\n",
            "- This IS NOT expected if you are initializing TFBertModel from a PyTorch model that you expect to be exactly identical (e.g. initializing a TFBertForSequenceClassification model from a BertForSequenceClassification model).\n",
            "All the weights of TFBertModel were initialized from the PyTorch model.\n",
            "If your task is similar to the task the model of the checkpoint was trained on, you can already use TFBertModel for predictions without further training.\n"
          ]
        }
      ]
    },
    {
      "cell_type": "code",
      "source": [
        "token_lens = []\n",
        "\n",
        "for txt in df['text_clean'].values:\n",
        "    tokens = tokenizer.encode(txt, max_length=512, truncation=True)\n",
        "    token_lens.append(len(tokens))\n",
        "\n",
        "max_len=np.max(token_lens)\n",
        "\n",
        "print(f\"MAX TOKENIZED SENTENCE LENGTH: {max_len}\")"
      ],
      "metadata": {
        "colab": {
          "base_uri": "https://localhost:8080/"
        },
        "id": "Kk2szBFyiloC",
        "outputId": "87bc6c1d-cd91-4cf9-a627-7892a2683272"
      },
      "execution_count": null,
      "outputs": [
        {
          "output_type": "stream",
          "name": "stdout",
          "text": [
            "MAX TOKENIZED SENTENCE LENGTH: 127\n"
          ]
        }
      ]
    },
    {
      "cell_type": "code",
      "source": [
        "df['Label'].value_counts()"
      ],
      "metadata": {
        "colab": {
          "base_uri": "https://localhost:8080/"
        },
        "id": "PXkgWB5Li7wv",
        "outputId": "c3956d76-0a3f-4a66-d888-fea7e1469beb"
      },
      "execution_count": null,
      "outputs": [
        {
          "output_type": "execute_result",
          "data": {
            "text/plain": [
              "nobully    822\n",
              "bully      214\n",
              "Name: Label, dtype: int64"
            ]
          },
          "metadata": {},
          "execution_count": 22
        }
      ]
    },
    {
      "cell_type": "code",
      "source": [
        "df['Label'] = df['Label'].map({'nobully':0,'bully':1})\n",
        "df['Label'].value_counts()"
      ],
      "metadata": {
        "colab": {
          "base_uri": "https://localhost:8080/"
        },
        "id": "SsypPSdnjBQZ",
        "outputId": "88ee0970-dc38-47c3-c4c7-c5a2e240b729"
      },
      "execution_count": null,
      "outputs": [
        {
          "output_type": "execute_result",
          "data": {
            "text/plain": [
              "0    822\n",
              "1    214\n",
              "Name: Label, dtype: int64"
            ]
          },
          "metadata": {},
          "execution_count": 23
        }
      ]
    },
    {
      "cell_type": "code",
      "source": [
        "ros = RandomOverSampler()\n",
        "x, y = ros.fit_resample(np.array(df['text_clean']).reshape(-1, 1), np.array(df['Label']).reshape(-1, 1));\n",
        "os = pd.DataFrame(list(zip([x[0] for x in x], y)), columns = ['text_clean', 'Label']);"
      ],
      "metadata": {
        "id": "Ua-bhJhUjlvx"
      },
      "execution_count": null,
      "outputs": []
    },
    {
      "cell_type": "code",
      "source": [
        "os['Label'].value_counts()"
      ],
      "metadata": {
        "colab": {
          "base_uri": "https://localhost:8080/"
        },
        "id": "FRcvug8sjv7l",
        "outputId": "5e1f5035-edd4-4d65-b185-ccac994790cd"
      },
      "execution_count": null,
      "outputs": [
        {
          "output_type": "execute_result",
          "data": {
            "text/plain": [
              "1    822\n",
              "0    822\n",
              "Name: Label, dtype: int64"
            ]
          },
          "metadata": {},
          "execution_count": 25
        }
      ]
    },
    {
      "cell_type": "code",
      "source": [
        "x, y = os['text_clean'].values, os['Label'].values\n",
        "x_train, x_valid, y_train, y_valid = train_test_split(x, y,\n",
        "                                                      stratify = y,\n",
        "                                                      random_state = 40,\n",
        "                                                      test_size = 0.2,\n",
        "                                                      shuffle = True)"
      ],
      "metadata": {
        "id": "TQg42mFWj18e"
      },
      "execution_count": null,
      "outputs": []
    },
    {
      "cell_type": "code",
      "source": [
        "from sklearn.preprocessing import LabelEncoder\n",
        "le = LabelEncoder()\n",
        "y_train = le.fit_transform(y_train)\n",
        "y_valid = le.transform(y_valid)"
      ],
      "metadata": {
        "id": "b9t9q8JvkUMW"
      },
      "execution_count": null,
      "outputs": []
    },
    {
      "cell_type": "code",
      "source": [
        "MAX_LEN=128\n",
        "\n",
        "def tokenize(data,max_len=MAX_LEN) :\n",
        "    input_ids = []\n",
        "    attention_masks = []\n",
        "    for i in range(len(data)):\n",
        "        encoded = tokenizer.encode_plus(\n",
        "            data[i],\n",
        "            add_special_tokens=True,\n",
        "            max_length=MAX_LEN,\n",
        "            padding='max_length',\n",
        "            return_attention_mask=True\n",
        "        )\n",
        "        input_ids.append(encoded['input_ids'])\n",
        "        attention_masks.append(encoded['attention_mask'])\n",
        "    return np.array(input_ids),np.array(attention_masks)"
      ],
      "metadata": {
        "id": "pIWG4p91krr0"
      },
      "execution_count": null,
      "outputs": []
    },
    {
      "cell_type": "code",
      "source": [
        "train_input_ids, train_attention_masks = tokenize(x_train, MAX_LEN)\n",
        "val_input_ids, val_attention_masks = tokenize(x_valid, MAX_LEN)"
      ],
      "metadata": {
        "id": "DFh4XuUWleVE"
      },
      "execution_count": null,
      "outputs": []
    },
    {
      "cell_type": "code",
      "source": [
        "def create_model(bert_model, max_len=MAX_LEN):\n",
        "\n",
        "    ##params###\n",
        "    opt = tf.keras.optimizers.Adam(learning_rate=1e-5)\n",
        "    loss = tf.keras.losses.BinaryCrossentropy()\n",
        "    accuracy = tf.keras.metrics.BinaryAccuracy()\n",
        "\n",
        "\n",
        "    input_ids = tf.keras.Input(shape=(max_len,),dtype='int32')\n",
        "\n",
        "    attention_masks = tf.keras.Input(shape=(max_len,),dtype='int32')\n",
        "\n",
        "    embeddings = bert_model([input_ids,attention_masks])[1]\n",
        "\n",
        "    output = tf.keras.layers.Dense(1, activation=\"sigmoid\")(embeddings)\n",
        "\n",
        "    # Gunakan nama yang berbeda untuk model yang akan dikembalikan\n",
        "    model_out = tf.keras.models.Model(inputs=[input_ids, attention_masks], outputs=output)\n",
        "\n",
        "    # Gunakan metrics=['accuracy'] dalam model.compile\n",
        "    model_out.compile(opt, loss=loss, metrics=[accuracy])\n",
        "\n",
        "    return model_out"
      ],
      "metadata": {
        "id": "YQsMAFOZljDg"
      },
      "execution_count": null,
      "outputs": []
    },
    {
      "cell_type": "markdown",
      "source": [
        "## MODELLING"
      ],
      "metadata": {
        "id": "N_De40xCELmO"
      }
    },
    {
      "cell_type": "code",
      "source": [
        "model = create_model(bert_model, MAX_LEN)\n",
        "model.summary()"
      ],
      "metadata": {
        "colab": {
          "base_uri": "https://localhost:8080/"
        },
        "id": "GIz0UCDCmGzM",
        "outputId": "55614e55-3a49-45c2-8d93-59569231d70e"
      },
      "execution_count": null,
      "outputs": [
        {
          "output_type": "stream",
          "name": "stdout",
          "text": [
            "Model: \"model_1\"\n",
            "__________________________________________________________________________________________________\n",
            " Layer (type)                Output Shape                 Param #   Connected to                  \n",
            "==================================================================================================\n",
            " input_3 (InputLayer)        [(None, 128)]                0         []                            \n",
            "                                                                                                  \n",
            " input_4 (InputLayer)        [(None, 128)]                0         []                            \n",
            "                                                                                                  \n",
            " tf_bert_model (TFBertModel  TFBaseModelOutputWithPooli   1094822   ['input_3[0][0]',             \n",
            " )                           ngAndCrossAttentions(last_   40         'input_4[0][0]']             \n",
            "                             hidden_state=(None, 128, 7                                           \n",
            "                             68),                                                                 \n",
            "                              pooler_output=(None, 768)                                           \n",
            "                             , past_key_values=None, hi                                           \n",
            "                             dden_states=None, attentio                                           \n",
            "                             ns=None, cross_attentions=                                           \n",
            "                             None)                                                                \n",
            "                                                                                                  \n",
            " dense_1 (Dense)             (None, 1)                    769       ['tf_bert_model[1][1]']       \n",
            "                                                                                                  \n",
            "==================================================================================================\n",
            "Total params: 109483009 (417.64 MB)\n",
            "Trainable params: 109483009 (417.64 MB)\n",
            "Non-trainable params: 0 (0.00 Byte)\n",
            "__________________________________________________________________________________________________\n"
          ]
        }
      ]
    },
    {
      "cell_type": "markdown",
      "source": [
        "## ACCURACY"
      ],
      "metadata": {
        "id": "uvg-AzqkEOkY"
      }
    },
    {
      "cell_type": "code",
      "source": [
        "history_bert = model.fit([train_input_ids,train_attention_masks], y_train, validation_data=([val_input_ids,val_attention_masks], y_valid), epochs=10, batch_size=42)"
      ],
      "metadata": {
        "colab": {
          "base_uri": "https://localhost:8080/"
        },
        "id": "ytRrbqnCuhbx",
        "outputId": "fbffb402-a707-4734-8e45-77ccc8b4d1e4"
      },
      "execution_count": null,
      "outputs": [
        {
          "output_type": "stream",
          "name": "stdout",
          "text": [
            "Epoch 1/10\n",
            "32/32 [==============================] - 37s 1s/step - loss: 0.2572 - binary_accuracy: 0.9080 - val_loss: 0.3994 - val_binary_accuracy: 0.8480\n",
            "Epoch 2/10\n",
            "32/32 [==============================] - 36s 1s/step - loss: 0.1701 - binary_accuracy: 0.9445 - val_loss: 0.2700 - val_binary_accuracy: 0.9149\n",
            "Epoch 3/10\n",
            "32/32 [==============================] - 36s 1s/step - loss: 0.1318 - binary_accuracy: 0.9589 - val_loss: 0.3170 - val_binary_accuracy: 0.9027\n",
            "Epoch 4/10\n",
            "32/32 [==============================] - 36s 1s/step - loss: 0.0838 - binary_accuracy: 0.9772 - val_loss: 0.3370 - val_binary_accuracy: 0.8936\n",
            "Epoch 5/10\n",
            "32/32 [==============================] - 36s 1s/step - loss: 0.0671 - binary_accuracy: 0.9802 - val_loss: 0.3067 - val_binary_accuracy: 0.9088\n",
            "Epoch 6/10\n",
            "32/32 [==============================] - 34s 1s/step - loss: 0.0575 - binary_accuracy: 0.9848 - val_loss: 0.3213 - val_binary_accuracy: 0.9027\n",
            "Epoch 7/10\n",
            "32/32 [==============================] - 36s 1s/step - loss: 0.0687 - binary_accuracy: 0.9787 - val_loss: 0.3078 - val_binary_accuracy: 0.9119\n",
            "Epoch 8/10\n",
            "32/32 [==============================] - 36s 1s/step - loss: 0.0463 - binary_accuracy: 0.9871 - val_loss: 0.3085 - val_binary_accuracy: 0.9271\n",
            "Epoch 9/10\n",
            "32/32 [==============================] - 36s 1s/step - loss: 0.0361 - binary_accuracy: 0.9924 - val_loss: 0.3719 - val_binary_accuracy: 0.9027\n",
            "Epoch 10/10\n",
            "32/32 [==============================] - 34s 1s/step - loss: 0.0350 - binary_accuracy: 0.9924 - val_loss: 0.4199 - val_binary_accuracy: 0.8936\n"
          ]
        }
      ]
    }
  ]
}