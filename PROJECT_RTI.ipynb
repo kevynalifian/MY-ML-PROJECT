{
  "nbformat": 4,
  "nbformat_minor": 0,
  "metadata": {
    "colab": {
      "provenance": []
    },
    "kernelspec": {
      "name": "python3",
      "display_name": "Python 3"
    },
    "language_info": {
      "name": "python"
    }
  },
  "cells": [
    {
      "cell_type": "markdown",
      "source": [
        "## IMPORT LIBRARY\n"
      ],
      "metadata": {
        "id": "U-TuqRWiHt1z"
      }
    },
    {
      "cell_type": "code",
      "execution_count": null,
      "metadata": {
        "id": "cOh59ZQq8geG"
      },
      "outputs": [],
      "source": [
        "# Import Library\n",
        "from tensorflow import lite\n",
        "import tensorflow as tf\n",
        "from tensorflow import keras\n",
        "from tensorflow.keras import layers\n",
        "import numpy as np\n",
        "import pandas as pd\n",
        "import random, os\n",
        "import shutil\n",
        "import matplotlib.pyplot as plt\n",
        "from matplotlib.image import imread\n",
        "from keras.preprocessing.image import ImageDataGenerator\n",
        "from tensorflow.keras.metrics import categorical_accuracy\n",
        "from sklearn.model_selection import train_test_split"
      ]
    },
    {
      "cell_type": "markdown",
      "source": [
        "## LOAD DATASET\n",
        "\n",
        "Dataset avaiable in : [https://www.kaggle.com/datasets/sovitrath/diabetic-retinopathy-224x224-gaussian-filtered](https://www.kaggle.com/datasets/sovitrath/diabetic-retinopathy-224x224-gaussian-filtered)"
      ],
      "metadata": {
        "id": "YkCsz7jCHzQN"
      }
    },
    {
      "cell_type": "code",
      "source": [
        "# Hubungkan Drive\n",
        "from google.colab import drive\n",
        "drive.mount ('/content/drive')"
      ],
      "metadata": {
        "colab": {
          "base_uri": "https://localhost:8080/"
        },
        "id": "DbK87mdq8tze",
        "outputId": "041cd551-21c2-4559-aee4-0a1048ffc186"
      },
      "execution_count": null,
      "outputs": [
        {
          "output_type": "stream",
          "name": "stdout",
          "text": [
            "Drive already mounted at /content/drive; to attempt to forcibly remount, call drive.mount(\"/content/drive\", force_remount=True).\n"
          ]
        }
      ]
    },
    {
      "cell_type": "code",
      "source": [
        "%cd /content/drive/MyDrive/dataset 224x224"
      ],
      "metadata": {
        "colab": {
          "base_uri": "https://localhost:8080/"
        },
        "id": "3caY0cqc8zTO",
        "outputId": "74884768-27f3-4763-eba8-9deae08ada61"
      },
      "execution_count": null,
      "outputs": [
        {
          "output_type": "stream",
          "name": "stdout",
          "text": [
            "/content/drive/MyDrive/dataset 224x224\n"
          ]
        }
      ]
    },
    {
      "cell_type": "markdown",
      "source": [
        "## PRE-PROCESSING"
      ],
      "metadata": {
        "id": "XCBikI6VIKH6"
      }
    },
    {
      "cell_type": "code",
      "source": [
        "# Add an additional column, mapping to the type\n",
        "df = pd.read_csv('train.csv')\n",
        "\n",
        "diagnosis_dict_binary = {\n",
        "    0: 'No_DR',\n",
        "    1: 'DR',\n",
        "    2: 'DR',\n",
        "    3: 'DR',\n",
        "    4: 'DR'\n",
        "}\n",
        "\n",
        "diagnosis_dict = {\n",
        "    0: 'No_DR',\n",
        "    1: 'Mild',\n",
        "    2: 'Moderate',\n",
        "    3: 'Severe',\n",
        "    4: 'Proliferate_DR',\n",
        "}\n",
        "\n",
        "\n",
        "df['binary_type'] =  df['diagnosis'].map(diagnosis_dict_binary.get)\n",
        "df['type'] = df['diagnosis'].map(diagnosis_dict.get)\n",
        "df.head()"
      ],
      "metadata": {
        "colab": {
          "base_uri": "https://localhost:8080/",
          "height": 206
        },
        "id": "Nx0WIeBd857C",
        "outputId": "352773dd-737f-4229-a947-a5f62b09f12a"
      },
      "execution_count": null,
      "outputs": [
        {
          "output_type": "execute_result",
          "data": {
            "text/plain": [
              "        id_code  diagnosis binary_type            type\n",
              "0  000c1434d8d7          2          DR        Moderate\n",
              "1  001639a390f0          4          DR  Proliferate_DR\n",
              "2  0024cdab0c1e          1          DR            Mild\n",
              "3  002c21358ce6          0       No_DR           No_DR\n",
              "4  005b95c28852          0       No_DR           No_DR"
            ],
            "text/html": [
              "\n",
              "  <div id=\"df-2b3b95c8-f0ad-4d16-89ce-640fa03ff49e\">\n",
              "    <div class=\"colab-df-container\">\n",
              "      <div>\n",
              "<style scoped>\n",
              "    .dataframe tbody tr th:only-of-type {\n",
              "        vertical-align: middle;\n",
              "    }\n",
              "\n",
              "    .dataframe tbody tr th {\n",
              "        vertical-align: top;\n",
              "    }\n",
              "\n",
              "    .dataframe thead th {\n",
              "        text-align: right;\n",
              "    }\n",
              "</style>\n",
              "<table border=\"1\" class=\"dataframe\">\n",
              "  <thead>\n",
              "    <tr style=\"text-align: right;\">\n",
              "      <th></th>\n",
              "      <th>id_code</th>\n",
              "      <th>diagnosis</th>\n",
              "      <th>binary_type</th>\n",
              "      <th>type</th>\n",
              "    </tr>\n",
              "  </thead>\n",
              "  <tbody>\n",
              "    <tr>\n",
              "      <th>0</th>\n",
              "      <td>000c1434d8d7</td>\n",
              "      <td>2</td>\n",
              "      <td>DR</td>\n",
              "      <td>Moderate</td>\n",
              "    </tr>\n",
              "    <tr>\n",
              "      <th>1</th>\n",
              "      <td>001639a390f0</td>\n",
              "      <td>4</td>\n",
              "      <td>DR</td>\n",
              "      <td>Proliferate_DR</td>\n",
              "    </tr>\n",
              "    <tr>\n",
              "      <th>2</th>\n",
              "      <td>0024cdab0c1e</td>\n",
              "      <td>1</td>\n",
              "      <td>DR</td>\n",
              "      <td>Mild</td>\n",
              "    </tr>\n",
              "    <tr>\n",
              "      <th>3</th>\n",
              "      <td>002c21358ce6</td>\n",
              "      <td>0</td>\n",
              "      <td>No_DR</td>\n",
              "      <td>No_DR</td>\n",
              "    </tr>\n",
              "    <tr>\n",
              "      <th>4</th>\n",
              "      <td>005b95c28852</td>\n",
              "      <td>0</td>\n",
              "      <td>No_DR</td>\n",
              "      <td>No_DR</td>\n",
              "    </tr>\n",
              "  </tbody>\n",
              "</table>\n",
              "</div>\n",
              "      <button class=\"colab-df-convert\" onclick=\"convertToInteractive('df-2b3b95c8-f0ad-4d16-89ce-640fa03ff49e')\"\n",
              "              title=\"Convert this dataframe to an interactive table.\"\n",
              "              style=\"display:none;\">\n",
              "        \n",
              "  <svg xmlns=\"http://www.w3.org/2000/svg\" height=\"24px\"viewBox=\"0 0 24 24\"\n",
              "       width=\"24px\">\n",
              "    <path d=\"M0 0h24v24H0V0z\" fill=\"none\"/>\n",
              "    <path d=\"M18.56 5.44l.94 2.06.94-2.06 2.06-.94-2.06-.94-.94-2.06-.94 2.06-2.06.94zm-11 1L8.5 8.5l.94-2.06 2.06-.94-2.06-.94L8.5 2.5l-.94 2.06-2.06.94zm10 10l.94 2.06.94-2.06 2.06-.94-2.06-.94-.94-2.06-.94 2.06-2.06.94z\"/><path d=\"M17.41 7.96l-1.37-1.37c-.4-.4-.92-.59-1.43-.59-.52 0-1.04.2-1.43.59L10.3 9.45l-7.72 7.72c-.78.78-.78 2.05 0 2.83L4 21.41c.39.39.9.59 1.41.59.51 0 1.02-.2 1.41-.59l7.78-7.78 2.81-2.81c.8-.78.8-2.07 0-2.86zM5.41 20L4 18.59l7.72-7.72 1.47 1.35L5.41 20z\"/>\n",
              "  </svg>\n",
              "      </button>\n",
              "      \n",
              "  <style>\n",
              "    .colab-df-container {\n",
              "      display:flex;\n",
              "      flex-wrap:wrap;\n",
              "      gap: 12px;\n",
              "    }\n",
              "\n",
              "    .colab-df-convert {\n",
              "      background-color: #E8F0FE;\n",
              "      border: none;\n",
              "      border-radius: 50%;\n",
              "      cursor: pointer;\n",
              "      display: none;\n",
              "      fill: #1967D2;\n",
              "      height: 32px;\n",
              "      padding: 0 0 0 0;\n",
              "      width: 32px;\n",
              "    }\n",
              "\n",
              "    .colab-df-convert:hover {\n",
              "      background-color: #E2EBFA;\n",
              "      box-shadow: 0px 1px 2px rgba(60, 64, 67, 0.3), 0px 1px 3px 1px rgba(60, 64, 67, 0.15);\n",
              "      fill: #174EA6;\n",
              "    }\n",
              "\n",
              "    [theme=dark] .colab-df-convert {\n",
              "      background-color: #3B4455;\n",
              "      fill: #D2E3FC;\n",
              "    }\n",
              "\n",
              "    [theme=dark] .colab-df-convert:hover {\n",
              "      background-color: #434B5C;\n",
              "      box-shadow: 0px 1px 3px 1px rgba(0, 0, 0, 0.15);\n",
              "      filter: drop-shadow(0px 1px 2px rgba(0, 0, 0, 0.3));\n",
              "      fill: #FFFFFF;\n",
              "    }\n",
              "  </style>\n",
              "\n",
              "      <script>\n",
              "        const buttonEl =\n",
              "          document.querySelector('#df-2b3b95c8-f0ad-4d16-89ce-640fa03ff49e button.colab-df-convert');\n",
              "        buttonEl.style.display =\n",
              "          google.colab.kernel.accessAllowed ? 'block' : 'none';\n",
              "\n",
              "        async function convertToInteractive(key) {\n",
              "          const element = document.querySelector('#df-2b3b95c8-f0ad-4d16-89ce-640fa03ff49e');\n",
              "          const dataTable =\n",
              "            await google.colab.kernel.invokeFunction('convertToInteractive',\n",
              "                                                     [key], {});\n",
              "          if (!dataTable) return;\n",
              "\n",
              "          const docLinkHtml = 'Like what you see? Visit the ' +\n",
              "            '<a target=\"_blank\" href=https://colab.research.google.com/notebooks/data_table.ipynb>data table notebook</a>'\n",
              "            + ' to learn more about interactive tables.';\n",
              "          element.innerHTML = '';\n",
              "          dataTable['output_type'] = 'display_data';\n",
              "          await google.colab.output.renderOutput(dataTable, element);\n",
              "          const docLink = document.createElement('div');\n",
              "          docLink.innerHTML = docLinkHtml;\n",
              "          element.appendChild(docLink);\n",
              "        }\n",
              "      </script>\n",
              "    </div>\n",
              "  </div>\n",
              "  "
            ]
          },
          "metadata": {},
          "execution_count": 33
        }
      ]
    },
    {
      "cell_type": "code",
      "source": [
        "# Split into stratified train, val, and test sets\n",
        "train_intermediate, val = train_test_split(df, test_size = 0.2, stratify = df['type'])\n",
        "train, test = train_test_split(train_intermediate, test_size = 0.2 / (1 - 0.2), stratify = train_intermediate['type'])\n",
        "\n",
        "print(train['type'].value_counts(), '\\n')\n",
        "print(test['type'].value_counts(), '\\n')\n",
        "print(val['type'].value_counts(), '\\n')"
      ],
      "metadata": {
        "colab": {
          "base_uri": "https://localhost:8080/"
        },
        "id": "2rJ8e3zn9M4t",
        "outputId": "09a7beaf-ea82-443c-db99-b8d498ce420e"
      },
      "execution_count": null,
      "outputs": [
        {
          "output_type": "stream",
          "name": "stdout",
          "text": [
            "No_DR             1083\n",
            "Moderate           599\n",
            "Mild               222\n",
            "Proliferate_DR     177\n",
            "Severe             115\n",
            "Name: type, dtype: int64 \n",
            "\n",
            "No_DR             361\n",
            "Moderate          200\n",
            "Mild               74\n",
            "Proliferate_DR     59\n",
            "Severe             39\n",
            "Name: type, dtype: int64 \n",
            "\n",
            "No_DR             361\n",
            "Moderate          200\n",
            "Mild               74\n",
            "Proliferate_DR     59\n",
            "Severe             39\n",
            "Name: type, dtype: int64 \n",
            "\n"
          ]
        }
      ]
    },
    {
      "cell_type": "code",
      "source": [
        "# Melihat daftar excel\n",
        "df = pd.read_csv('train.csv')\n",
        "print(df)"
      ],
      "metadata": {
        "colab": {
          "base_uri": "https://localhost:8080/"
        },
        "id": "v-u81Xyx9Ucf",
        "outputId": "7d622f1e-f6e6-46f1-e41c-97dbf3b01927"
      },
      "execution_count": null,
      "outputs": [
        {
          "output_type": "stream",
          "name": "stdout",
          "text": [
            "           id_code  diagnosis\n",
            "0     000c1434d8d7          2\n",
            "1     001639a390f0          4\n",
            "2     0024cdab0c1e          1\n",
            "3     002c21358ce6          0\n",
            "4     005b95c28852          0\n",
            "...            ...        ...\n",
            "3657  ffa47f6a7bf4          2\n",
            "3658  ffc04fed30e6          0\n",
            "3659  ffcf7b45f213          2\n",
            "3660  ffd97f8cd5aa          0\n",
            "3661  ffec9a18a3ce          2\n",
            "\n",
            "[3662 rows x 2 columns]\n"
          ]
        }
      ]
    },
    {
      "cell_type": "code",
      "source": [
        "# Membuat directory untuk data latih, data validasi dan data tes\n",
        "base_dir = ''\n",
        "train_dir = os.path.join(base_dir, 'train')\n",
        "val_dir = os.path.join(base_dir, 'val')\n",
        "test_dir = os.path.join(base_dir, 'test')\n",
        "\n",
        "if os.path.exists(base_dir):\n",
        "    shutil.rmtree(base_dir)\n",
        "\n",
        "if os.path.exists(train_dir):\n",
        "    shutil.rmtree(train_dir)\n",
        "os.makedirs(train_dir)\n",
        "\n",
        "if os.path.exists(val_dir):\n",
        "    shutil.rmtree(val_dir)\n",
        "os.makedirs(val_dir)\n",
        "\n",
        "if os.path.exists(test_dir):\n",
        "    shutil.rmtree(test_dir)\n",
        "os.makedirs(test_dir)"
      ],
      "metadata": {
        "id": "Rci-MoEA9W3y"
      },
      "execution_count": null,
      "outputs": []
    },
    {
      "cell_type": "code",
      "source": [
        "# Menyalin gambar ke masing-masing directory sesuai data latih, data validasi dan data tes\n",
        "\n",
        "src_dir = r\"/content/drive/MyDrive/dataset 224x224/gaussian_filtered_images/gaussian_filtered_images\"\n",
        "\n",
        "for index, row in train.iterrows():\n",
        "    diagnosis = row['type']\n",
        "    binary_diagnosis = row['binary_type']\n",
        "    id_code = row['id_code'] + \".png\"\n",
        "    srcfile = os.path.join(src_dir, diagnosis, id_code)\n",
        "    dstfile = os.path.join(train_dir, binary_diagnosis)\n",
        "    os.makedirs(dstfile, exist_ok = True)\n",
        "    shutil.copy(srcfile, dstfile)\n",
        "\n",
        "for index, row in val.iterrows():\n",
        "    diagnosis = row['type']\n",
        "    binary_diagnosis = row['binary_type']\n",
        "    id_code = row['id_code'] + \".png\"\n",
        "    srcfile = os.path.join(src_dir, diagnosis, id_code)\n",
        "    dstfile = os.path.join(val_dir, binary_diagnosis)\n",
        "    os.makedirs(dstfile, exist_ok = True)\n",
        "    shutil.copy(srcfile, dstfile)\n",
        "\n",
        "for index, row in test.iterrows():\n",
        "    diagnosis = row['type']\n",
        "    binary_diagnosis = row['binary_type']\n",
        "    id_code = row['id_code'] + \".png\"\n",
        "    srcfile = os.path.join(src_dir, diagnosis, id_code)\n",
        "    dstfile = os.path.join(test_dir, binary_diagnosis)\n",
        "    os.makedirs(dstfile, exist_ok = True)\n",
        "    shutil.copy(srcfile, dstfile)"
      ],
      "metadata": {
        "id": "j6kvPCDE9aLD"
      },
      "execution_count": null,
      "outputs": []
    },
    {
      "cell_type": "code",
      "source": [
        "# Setting up ImageDataGenerator for train/val/test\n",
        "\n",
        "train_path = 'train'\n",
        "val_path = 'val'\n",
        "test_path = 'test'\n",
        "\n",
        "train_batches = ImageDataGenerator(rescale = 1./255).flow_from_directory(train_path, target_size=(224,224), shuffle = True)\n",
        "val_batches = ImageDataGenerator(rescale = 1./255).flow_from_directory(val_path, target_size=(224,224), shuffle = True)\n",
        "test_batches = ImageDataGenerator(rescale = 1./255).flow_from_directory(test_path, target_size=(224,224), shuffle = False)"
      ],
      "metadata": {
        "colab": {
          "base_uri": "https://localhost:8080/"
        },
        "id": "LF4qJymB9jSa",
        "outputId": "cea99dee-1fa9-413a-c94a-f4ca53566d77"
      },
      "execution_count": null,
      "outputs": [
        {
          "output_type": "stream",
          "name": "stdout",
          "text": [
            "Found 2196 images belonging to 2 classes.\n",
            "Found 733 images belonging to 2 classes.\n",
            "Found 733 images belonging to 2 classes.\n"
          ]
        }
      ]
    },
    {
      "cell_type": "markdown",
      "source": [
        "## MODELLING\n",
        "\n",
        "###Convolutional Neural Network"
      ],
      "metadata": {
        "id": "PSVZMLctIZ0h"
      }
    },
    {
      "cell_type": "code",
      "source": [
        "# Buat model\n",
        "model = tf.keras.Sequential([\n",
        "    layers.Conv2D(8, (2,2), padding=\"valid\", input_shape=(224,224,3), activation = 'relu'),\n",
        "    layers.MaxPooling2D(pool_size=(2,2)),\n",
        "    layers.BatchNormalization(),\n",
        "\n",
        "    layers.Conv2D(16, (2,2), padding=\"valid\", activation = 'relu'),\n",
        "    layers.MaxPooling2D(pool_size=(2,2)),\n",
        "    layers.BatchNormalization(),\n",
        "\n",
        "    layers.Conv2D(32, (2,2), padding=\"valid\", activation = 'relu'),\n",
        "    layers.MaxPooling2D(pool_size=(2,2)),\n",
        "    layers.BatchNormalization(),\n",
        "\n",
        "    layers.Conv2D(64, (2,2), padding=\"valid\", activation = 'relu'),\n",
        "    layers.MaxPooling2D(pool_size=(2,2)),\n",
        "    layers.BatchNormalization(),\n",
        "\n",
        "    layers.Conv2D(128, (3,3), padding=\"valid\", activation = 'relu'),\n",
        "    layers.MaxPooling2D(pool_size=(2,2)),\n",
        "    layers.BatchNormalization(),\n",
        "\n",
        "    layers.Flatten(),\n",
        "    layers.Dense(128, activation = 'relu'),\n",
        "    layers.Dropout(0.2),\n",
        "    layers.Dense(2, activation = 'softmax')\n",
        "])"
      ],
      "metadata": {
        "id": "5AcBO6J_9d-p"
      },
      "execution_count": null,
      "outputs": []
    },
    {
      "cell_type": "code",
      "source": [
        "# Flowchart Model\n",
        "print(model.summary())\n",
        "tf.keras.utils.plot_model(model)"
      ],
      "metadata": {
        "colab": {
          "base_uri": "https://localhost:8080/",
          "height": 1000
        },
        "id": "-snGAoGH9qg4",
        "outputId": "5e4b0391-45d3-4855-8fbb-8455c3f66c1c"
      },
      "execution_count": null,
      "outputs": [
        {
          "output_type": "stream",
          "name": "stdout",
          "text": [
            "Model: \"sequential_2\"\n",
            "_________________________________________________________________\n",
            " Layer (type)                Output Shape              Param #   \n",
            "=================================================================\n",
            " conv2d_10 (Conv2D)          (None, 223, 223, 8)       104       \n",
            "                                                                 \n",
            " max_pooling2d_10 (MaxPoolin  (None, 111, 111, 8)      0         \n",
            " g2D)                                                            \n",
            "                                                                 \n",
            " batch_normalization_10 (Bat  (None, 111, 111, 8)      32        \n",
            " chNormalization)                                                \n",
            "                                                                 \n",
            " conv2d_11 (Conv2D)          (None, 110, 110, 16)      528       \n",
            "                                                                 \n",
            " max_pooling2d_11 (MaxPoolin  (None, 55, 55, 16)       0         \n",
            " g2D)                                                            \n",
            "                                                                 \n",
            " batch_normalization_11 (Bat  (None, 55, 55, 16)       64        \n",
            " chNormalization)                                                \n",
            "                                                                 \n",
            " conv2d_12 (Conv2D)          (None, 54, 54, 32)        2080      \n",
            "                                                                 \n",
            " max_pooling2d_12 (MaxPoolin  (None, 27, 27, 32)       0         \n",
            " g2D)                                                            \n",
            "                                                                 \n",
            " batch_normalization_12 (Bat  (None, 27, 27, 32)       128       \n",
            " chNormalization)                                                \n",
            "                                                                 \n",
            " conv2d_13 (Conv2D)          (None, 26, 26, 64)        8256      \n",
            "                                                                 \n",
            " max_pooling2d_13 (MaxPoolin  (None, 13, 13, 64)       0         \n",
            " g2D)                                                            \n",
            "                                                                 \n",
            " batch_normalization_13 (Bat  (None, 13, 13, 64)       256       \n",
            " chNormalization)                                                \n",
            "                                                                 \n",
            " conv2d_14 (Conv2D)          (None, 11, 11, 128)       73856     \n",
            "                                                                 \n",
            " max_pooling2d_14 (MaxPoolin  (None, 5, 5, 128)        0         \n",
            " g2D)                                                            \n",
            "                                                                 \n",
            " batch_normalization_14 (Bat  (None, 5, 5, 128)        512       \n",
            " chNormalization)                                                \n",
            "                                                                 \n",
            " flatten_2 (Flatten)         (None, 3200)              0         \n",
            "                                                                 \n",
            " dense_4 (Dense)             (None, 128)               409728    \n",
            "                                                                 \n",
            " dropout_2 (Dropout)         (None, 128)               0         \n",
            "                                                                 \n",
            " dense_5 (Dense)             (None, 2)                 258       \n",
            "                                                                 \n",
            "=================================================================\n",
            "Total params: 495,802\n",
            "Trainable params: 495,306\n",
            "Non-trainable params: 496\n",
            "_________________________________________________________________\n",
            "None\n"
          ]
        },
        {
          "output_type": "execute_result",
          "data": {
            "image/png": "[encoded data removed]",
            "text/plain": [
              "<IPython.core.display.Image object>"
            ]
          },
          "metadata": {},
          "execution_count": 40
        }
      ]
    },
    {
      "cell_type": "code",
      "source": [
        "# Melatih model\n",
        "model.compile(optimizer=tf.keras.optimizers.Adam(lr = 1e-5),\n",
        "              loss=tf.keras.losses.BinaryCrossentropy(),\n",
        "              metrics=['acc'])\n",
        "\n",
        "history = model.fit(train_batches,\n",
        "                    epochs=30,\n",
        "                    validation_data=val_batches)"
      ],
      "metadata": {
        "colab": {
          "base_uri": "https://localhost:8080/"
        },
        "id": "hs6X-tqt9v8x",
        "outputId": "3b2163ac-9e28-4e27-bd68-582395af1f04"
      },
      "execution_count": null,
      "outputs": [
        {
          "output_type": "stream",
          "name": "stderr",
          "text": [
            "WARNING:absl:`lr` is deprecated in Keras optimizer, please use `learning_rate` or use the legacy optimizer, e.g.,tf.keras.optimizers.legacy.Adam.\n"
          ]
        },
        {
          "output_type": "stream",
          "name": "stdout",
          "text": [
            "Epoch 1/25\n",
            "69/69 [==============================] - 53s 693ms/step - loss: 0.2903 - acc: 0.9021 - val_loss: 0.7338 - val_acc: 0.4925\n",
            "Epoch 2/25\n",
            "69/69 [==============================] - 50s 729ms/step - loss: 0.1708 - acc: 0.9413 - val_loss: 1.2442 - val_acc: 0.4925\n",
            "Epoch 3/25\n",
            "69/69 [==============================] - 47s 678ms/step - loss: 0.1304 - acc: 0.9495 - val_loss: 0.6352 - val_acc: 0.5321\n",
            "Epoch 4/25\n",
            "69/69 [==============================] - 48s 701ms/step - loss: 0.1019 - acc: 0.9636 - val_loss: 1.5026 - val_acc: 0.4925\n",
            "Epoch 5/25\n",
            "69/69 [==============================] - 51s 730ms/step - loss: 0.0610 - acc: 0.9841 - val_loss: 0.4370 - val_acc: 0.8377\n",
            "Epoch 6/25\n",
            "69/69 [==============================] - 47s 680ms/step - loss: 0.0420 - acc: 0.9845 - val_loss: 0.3616 - val_acc: 0.8458\n",
            "Epoch 7/25\n",
            "69/69 [==============================] - 52s 753ms/step - loss: 0.0118 - acc: 0.9977 - val_loss: 0.2453 - val_acc: 0.8868\n",
            "Epoch 8/25\n",
            "69/69 [==============================] - 55s 797ms/step - loss: 0.0120 - acc: 0.9973 - val_loss: 0.2279 - val_acc: 0.9277\n",
            "Epoch 9/25\n",
            "69/69 [==============================] - 53s 766ms/step - loss: 0.0057 - acc: 0.9986 - val_loss: 0.4065 - val_acc: 0.8963\n",
            "Epoch 10/25\n",
            "69/69 [==============================] - 49s 709ms/step - loss: 0.0039 - acc: 0.9991 - val_loss: 0.3787 - val_acc: 0.9222\n",
            "Epoch 11/25\n",
            "69/69 [==============================] - 49s 712ms/step - loss: 0.0015 - acc: 1.0000 - val_loss: 0.2200 - val_acc: 0.9441\n",
            "Epoch 12/25\n",
            "69/69 [==============================] - 48s 702ms/step - loss: 0.0016 - acc: 0.9991 - val_loss: 0.2155 - val_acc: 0.9495\n",
            "Epoch 13/25\n",
            "69/69 [==============================] - 49s 708ms/step - loss: 9.7621e-04 - acc: 0.9991 - val_loss: 0.2265 - val_acc: 0.9495\n",
            "Epoch 14/25\n",
            "69/69 [==============================] - 49s 703ms/step - loss: 0.0011 - acc: 0.9995 - val_loss: 0.2451 - val_acc: 0.9454\n",
            "Epoch 15/25\n",
            "69/69 [==============================] - 54s 787ms/step - loss: 0.0014 - acc: 0.9991 - val_loss: 0.2339 - val_acc: 0.9509\n",
            "Epoch 16/25\n",
            "69/69 [==============================] - 47s 686ms/step - loss: 0.0010 - acc: 0.9991 - val_loss: 0.2640 - val_acc: 0.9468\n",
            "Epoch 17/25\n",
            "69/69 [==============================] - 52s 756ms/step - loss: 0.0011 - acc: 0.9991 - val_loss: 0.2417 - val_acc: 0.9495\n",
            "Epoch 18/25\n",
            "69/69 [==============================] - 50s 730ms/step - loss: 8.9452e-04 - acc: 0.9991 - val_loss: 0.2587 - val_acc: 0.9482\n",
            "Epoch 19/25\n",
            "69/69 [==============================] - 47s 686ms/step - loss: 8.4914e-04 - acc: 0.9991 - val_loss: 0.2641 - val_acc: 0.9468\n",
            "Epoch 20/25\n",
            "69/69 [==============================] - 49s 706ms/step - loss: 7.3225e-04 - acc: 0.9995 - val_loss: 0.2641 - val_acc: 0.9468\n",
            "Epoch 21/25\n",
            "69/69 [==============================] - 47s 681ms/step - loss: 7.3880e-04 - acc: 0.9995 - val_loss: 0.2535 - val_acc: 0.9536\n",
            "Epoch 22/25\n",
            "69/69 [==============================] - 49s 707ms/step - loss: 7.4099e-04 - acc: 0.9995 - val_loss: 0.2785 - val_acc: 0.9454\n",
            "Epoch 23/25\n",
            "69/69 [==============================] - 49s 712ms/step - loss: 7.8753e-04 - acc: 0.9991 - val_loss: 0.2861 - val_acc: 0.9441\n",
            "Epoch 24/25\n",
            "69/69 [==============================] - 47s 685ms/step - loss: 7.1073e-04 - acc: 0.9995 - val_loss: 0.2859 - val_acc: 0.9441\n",
            "Epoch 25/25\n",
            "69/69 [==============================] - 49s 706ms/step - loss: 6.3535e-04 - acc: 1.0000 - val_loss: 0.2931 - val_acc: 0.9427\n"
          ]
        }
      ]
    },
    {
      "cell_type": "markdown",
      "source": [
        "## ACCURACY"
      ],
      "metadata": {
        "id": "NOf1ebHfIoXM"
      }
    },
    {
      "cell_type": "code",
      "source": [
        "# Akurasi Data Train\n",
        "loss, acc = model.evaluate_generator(train_batches, verbose=1)\n",
        "print(\"Loss: \", loss)\n",
        "print(\"Accuracy: \", acc)\n"
      ],
      "metadata": {
        "id": "tmGaqt1D9zxo",
        "colab": {
          "base_uri": "https://localhost:8080/"
        },
        "outputId": "c640b950-bcf3-4e36-d36b-133725160e09"
      },
      "execution_count": null,
      "outputs": [
        {
          "output_type": "stream",
          "name": "stderr",
          "text": [
            "<ipython-input-42-a22f543bb4f2>:2: UserWarning: `Model.evaluate_generator` is deprecated and will be removed in a future version. Please use `Model.evaluate`, which supports generators.\n",
            "  loss, acc = model.evaluate_generator(train_batches, verbose=1)\n"
          ]
        },
        {
          "output_type": "stream",
          "name": "stdout",
          "text": [
            "69/69 [==============================] - 19s 270ms/step - loss: 6.5105e-04 - acc: 0.9995\n",
            "Loss:  0.0006510482635349035\n",
            "Accuracy:  0.999544620513916\n"
          ]
        }
      ]
    },
    {
      "cell_type": "code",
      "source": [
        "# Akurasi Data Test\n",
        "loss, acc = model.evaluate_generator(test_batches, verbose=1)\n",
        "print(\"Loss: \", loss)\n",
        "print(\"Accuracy: \", acc)"
      ],
      "metadata": {
        "id": "FB39gyr691i5",
        "colab": {
          "base_uri": "https://localhost:8080/"
        },
        "outputId": "4acefabf-ebb9-4e5f-961b-c42a653d9393"
      },
      "execution_count": null,
      "outputs": [
        {
          "output_type": "stream",
          "name": "stderr",
          "text": [
            "<ipython-input-43-3b5ecb17abf5>:2: UserWarning: `Model.evaluate_generator` is deprecated and will be removed in a future version. Please use `Model.evaluate`, which supports generators.\n",
            "  loss, acc = model.evaluate_generator(test_batches, verbose=1)\n"
          ]
        },
        {
          "output_type": "stream",
          "name": "stdout",
          "text": [
            "23/23 [==============================] - 6s 235ms/step - loss: 0.3205 - acc: 0.9482\n",
            "Loss:  0.3204784393310547\n",
            "Accuracy:  0.9481582641601562\n"
          ]
        }
      ]
    }
  ]
}