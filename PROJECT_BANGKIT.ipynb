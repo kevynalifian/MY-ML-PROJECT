{
  "cells": [
    {
      "cell_type": "code",
      "execution_count": null,
      "metadata": {
        "id": "mSegYXnglb1M"
      },
      "outputs": [],
      "source": [
        "import pandas as pd\n",
        "import numpy as np\n",
        "import seaborn as sns\n",
        "import matplotlib.pyplot as plt"
      ]
    },
    {
      "cell_type": "code",
      "execution_count": null,
      "metadata": {
        "colab": {
          "base_uri": "https://localhost:8080/"
        },
        "id": "XrbXcZ0FlgZL",
        "outputId": "f06ac8e4-f6f1-479e-8cec-4d555d81f45d"
      },
      "outputs": [
        {
          "output_type": "stream",
          "name": "stdout",
          "text": [
            "          Negara  Tahun  Harga   Volume kg   Volume  Harga Pertons\n",
            "0          World   2000  75.11     68116.0  68.1160       1.102678\n",
            "1       Honduras   2000  33.73     37814.0  37.8140       0.891998\n",
            "2    Netherlands   2000  22.20     11466.0  11.4660       1.936159\n",
            "3        Germany   2000  15.70     10168.0  10.1680       1.544060\n",
            "4          Tonga   2000   2.80      8339.0   8.3390       0.335772\n",
            "..           ...    ...    ...         ...      ...            ...\n",
            "307       Brunei   2021  40.07     26550.1  26.5501       1.509222\n",
            "308  Korea, Rep.   2021  37.89     26160.0  26.1600       1.448394\n",
            "309        Japan   2021  23.93     16421.6  16.4216       1.457227\n",
            "310    Australia   2021   5.76      1386.0   1.3860       4.155844\n",
            "311     Malaysia   2021   1.41       511.0   0.5110       2.759295\n",
            "\n",
            "[312 rows x 6 columns]\n"
          ]
        }
      ],
      "source": [
        "url = 'https://raw.github.com/kevynalifian/ML/main/yoghurt_exp1.xlsx'\n",
        "\n",
        "# Baca file Excel dari URL\n",
        "data = pd.read_excel(url)\n",
        "\n",
        "# Tampilkan data\n",
        "print(data)"
      ]
    },
    {
      "cell_type": "code",
      "execution_count": null,
      "metadata": {
        "id": "CBky_-6glkZm"
      },
      "outputs": [],
      "source": [
        "df = pd.DataFrame(data)"
      ]
    },
    {
      "cell_type": "code",
      "execution_count": null,
      "metadata": {
        "colab": {
          "base_uri": "https://localhost:8080/"
        },
        "id": "h70a2ST8T3LX",
        "outputId": "9ce674e1-139e-4ba7-baa0-5ec4f6d86ee9"
      },
      "outputs": [
        {
          "output_type": "stream",
          "name": "stdout",
          "text": [
            " World                        22\n",
            "Tonga                         19\n",
            "Hong Kong, China              17\n",
            "East Timor                    16\n",
            "Singapore                     15\n",
            "                              ..\n",
            "Ethiopia(excludes Eritrea)     1\n",
            "Poland                         1\n",
            "Tunisia                        1\n",
            "Qatar                          1\n",
            "Guyana                         1\n",
            "Name: Negara, Length: 69, dtype: int64\n"
          ]
        }
      ],
      "source": [
        "print(df['Negara'].value_counts())"
      ]
    },
    {
      "cell_type": "markdown",
      "metadata": {
        "id": "5MnzGgO2L8tc"
      },
      "source": [
        "## Try Modelling 1"
      ]
    },
    {
      "cell_type": "code",
      "execution_count": null,
      "metadata": {
        "id": "YN5Z2sQnL2NM"
      },
      "outputs": [],
      "source": [
        "import pandas as pd\n",
        "from sklearn.preprocessing import MinMaxScaler\n",
        "import tensorflow as tf\n",
        "from tensorflow.keras.models import Sequential\n",
        "from tensorflow.keras.layers import LSTM, Dense, Conv1D, MaxPooling1D, Flatten, BatchNormalization"
      ]
    },
    {
      "cell_type": "code",
      "execution_count": null,
      "metadata": {
        "id": "Wj3EefhFNJIh"
      },
      "outputs": [],
      "source": [
        "# Load dataset and filter for \"jepang\"\n",
        "df_jepang = df[df[\"Negara\"] == \"East Timor\"]\n",
        "data_olah = df_jepang[[\"Tahun\", \"Harga Pertons\"]]"
      ]
    },
    {
      "cell_type": "code",
      "execution_count": null,
      "metadata": {
        "id": "QCaz2h1sZoRk"
      },
      "outputs": [],
      "source": [
        "#prices = df_jepang[\"Harga (per-ton)\"].to_numpy()"
      ]
    },
    {
      "cell_type": "code",
      "execution_count": null,
      "metadata": {
        "id": "NdUeoLnqOxok"
      },
      "outputs": [],
      "source": [
        "# Scale data\n",
        "scaler = MinMaxScaler(feature_range=(0, 1))\n",
        "scaled_data = scaler.fit_transform(data_olah[[\"Harga Pertons\"]])"
      ]
    },
    {
      "cell_type": "code",
      "execution_count": null,
      "metadata": {
        "id": "WpLvGNrQO8TL"
      },
      "outputs": [],
      "source": [
        "# Split data into train and test sets\n",
        "train_size = int(len(scaled_data) * 0.8)\n",
        "train, test = scaled_data[0:train_size], scaled_data[train_size:]"
      ]
    },
    {
      "cell_type": "code",
      "execution_count": null,
      "metadata": {
        "colab": {
          "base_uri": "https://localhost:8080/"
        },
        "id": "l5MKhoRWO_f5",
        "outputId": "fd0a66bd-7163-4351-de33-e666938df155"
      },
      "outputs": [
        {
          "output_type": "execute_result",
          "data": {
            "text/plain": [
              "12"
            ]
          },
          "metadata": {},
          "execution_count": 731
        }
      ],
      "source": [
        "train_size"
      ]
    },
    {
      "cell_type": "code",
      "execution_count": null,
      "metadata": {
        "id": "KHXzN-4ZPHUz"
      },
      "outputs": [],
      "source": [
        "# Create sequences for LSTM\n",
        "seq_length = 4\n",
        "def create_sequences(data_olah, seq_length):\n",
        "    sequences = []\n",
        "    for i in range(len(data_olah) - seq_length):\n",
        "        sequence = data_olah[i:i + seq_length]\n",
        "        sequences.append(sequence)\n",
        "    return np.array(sequences)\n",
        "\n",
        "\n",
        "train_sequences = create_sequences(train, seq_length)\n",
        "test_sequences = create_sequences(test, seq_length)"
      ]
    },
    {
      "cell_type": "code",
      "execution_count": null,
      "metadata": {
        "id": "E2eXEqxTRtS1"
      },
      "outputs": [],
      "source": [
        "# Prepare data for CNN\n",
        "#train_sequences = np.expand_dims(train_sequences, axis = 1)\n",
        "#test_sequences = np.expand_dims(test_sequences, axis = 1)"
      ]
    },
    {
      "cell_type": "code",
      "execution_count": null,
      "metadata": {
        "id": "7J9z6yeB_6B4"
      },
      "outputs": [],
      "source": [
        "# Prepare data for training and testing\n",
        "train_sequences = np.array(train_sequences)\n",
        "test_sequences = np.array(test_sequences)"
      ]
    },
    {
      "cell_type": "code",
      "execution_count": null,
      "metadata": {
        "id": "oKGrwAgiATAP",
        "colab": {
          "base_uri": "https://localhost:8080/"
        },
        "outputId": "fcf312cc-8f05-4d2b-95ed-8779d6462e45"
      },
      "outputs": [
        {
          "output_type": "execute_result",
          "data": {
            "text/plain": [
              "(0,)"
            ]
          },
          "metadata": {},
          "execution_count": 745
        }
      ],
      "source": [
        "test_sequences.shape"
      ]
    },
    {
      "cell_type": "code",
      "execution_count": null,
      "metadata": {
        "id": "DgG8gwsLS3B4"
      },
      "outputs": [],
      "source": [
        "# Build CNN-LSTM model\n",
        "model = Sequential()\n",
        "model.add(Conv1D(filters=128, kernel_size=3, activation=\"relu\", input_shape=(seq_length, 1)))\n",
        "model.add(MaxPooling1D(pool_size=2))\n",
        "model.add(LSTM(128, return_sequences=True))\n",
        "model.add(LSTM(64))\n",
        "model.add(Dense(1))\n",
        "model.compile(loss=\"mae\", optimizer=\"adam\", metrics = [\"mse\"])"
      ]
    },
    {
      "cell_type": "code",
      "execution_count": null,
      "metadata": {
        "id": "XzSp-G6Jk3hM"
      },
      "outputs": [],
      "source": [
        "class myCallback(tf.keras.callbacks.Callback):\n",
        "  def on_epoch_end(self, epoch, logs={}):\n",
        "    if(logs.get('mse')<0.02):\n",
        "      print(\"\\nReached 0.04 mse so cancelling training!\")\n",
        "      self.model.stop_training = True\n",
        "callbacks = myCallback()"
      ]
    },
    {
      "cell_type": "code",
      "execution_count": null,
      "metadata": {
        "colab": {
          "base_uri": "https://localhost:8080/"
        },
        "id": "mcHP-hHk__28",
        "outputId": "97bfefb8-3b95-4958-c545-faba5f3cc10a"
      },
      "outputs": [
        {
          "output_type": "stream",
          "name": "stdout",
          "text": [
            "Epoch 1/100\n",
            "1/1 [==============================] - 6s 6s/step - loss: 0.2542 - mse: 0.0911 - val_loss: 0.2451 - val_mse: 0.0855\n",
            "Epoch 2/100\n",
            "1/1 [==============================] - 0s 60ms/step - loss: 0.2451 - mse: 0.0855 - val_loss: 0.2364 - val_mse: 0.0801\n",
            "Epoch 3/100\n",
            "1/1 [==============================] - 0s 44ms/step - loss: 0.2364 - mse: 0.0801 - val_loss: 0.2274 - val_mse: 0.0748\n",
            "Epoch 4/100\n",
            "1/1 [==============================] - 0s 63ms/step - loss: 0.2274 - mse: 0.0748 - val_loss: 0.2179 - val_mse: 0.0695\n",
            "Epoch 5/100\n",
            "1/1 [==============================] - 0s 61ms/step - loss: 0.2179 - mse: 0.0695 - val_loss: 0.2077 - val_mse: 0.0641\n",
            "Epoch 6/100\n",
            "1/1 [==============================] - 0s 63ms/step - loss: 0.2077 - mse: 0.0641 - val_loss: 0.1965 - val_mse: 0.0586\n",
            "Epoch 7/100\n",
            "1/1 [==============================] - 0s 44ms/step - loss: 0.1965 - mse: 0.0586 - val_loss: 0.1866 - val_mse: 0.0530\n",
            "Epoch 8/100\n",
            "1/1 [==============================] - 0s 60ms/step - loss: 0.1866 - mse: 0.0530 - val_loss: 0.1793 - val_mse: 0.0473\n",
            "Epoch 9/100\n",
            "1/1 [==============================] - 0s 44ms/step - loss: 0.1793 - mse: 0.0473 - val_loss: 0.1740 - val_mse: 0.0420\n",
            "Epoch 10/100\n",
            "1/1 [==============================] - 0s 60ms/step - loss: 0.1740 - mse: 0.0420 - val_loss: 0.1682 - val_mse: 0.0369\n",
            "Epoch 11/100\n",
            "1/1 [==============================] - 0s 44ms/step - loss: 0.1682 - mse: 0.0369 - val_loss: 0.1619 - val_mse: 0.0323\n",
            "Epoch 12/100\n",
            "1/1 [==============================] - 0s 44ms/step - loss: 0.1619 - mse: 0.0323 - val_loss: 0.1548 - val_mse: 0.0282\n",
            "Epoch 13/100\n",
            "1/1 [==============================] - 0s 45ms/step - loss: 0.1548 - mse: 0.0282 - val_loss: 0.1469 - val_mse: 0.0249\n",
            "Epoch 14/100\n",
            "1/1 [==============================] - 0s 41ms/step - loss: 0.1469 - mse: 0.0249 - val_loss: 0.1381 - val_mse: 0.0226\n",
            "Epoch 15/100\n",
            "1/1 [==============================] - 0s 44ms/step - loss: 0.1381 - mse: 0.0226 - val_loss: 0.1282 - val_mse: 0.0219\n",
            "Epoch 16/100\n",
            "1/1 [==============================] - 0s 60ms/step - loss: 0.1282 - mse: 0.0219 - val_loss: 0.1227 - val_mse: 0.0234\n",
            "Epoch 17/100\n",
            "1/1 [==============================] - 0s 44ms/step - loss: 0.1227 - mse: 0.0234 - val_loss: 0.1338 - val_mse: 0.0270\n",
            "Epoch 18/100\n",
            "1/1 [==============================] - 0s 65ms/step - loss: 0.1338 - mse: 0.0270 - val_loss: 0.1402 - val_mse: 0.0290\n",
            "Epoch 19/100\n",
            "1/1 [==============================] - 0s 42ms/step - loss: 0.1402 - mse: 0.0290 - val_loss: 0.1399 - val_mse: 0.0288\n",
            "Epoch 20/100\n",
            "1/1 [==============================] - 0s 48ms/step - loss: 0.1399 - mse: 0.0288 - val_loss: 0.1350 - val_mse: 0.0270\n",
            "Epoch 21/100\n",
            "1/1 [==============================] - 0s 45ms/step - loss: 0.1350 - mse: 0.0270 - val_loss: 0.1270 - val_mse: 0.0245\n",
            "Epoch 22/100\n",
            "1/1 [==============================] - 0s 63ms/step - loss: 0.1270 - mse: 0.0245 - val_loss: 0.1182 - val_mse: 0.0220\n",
            "Epoch 23/100\n",
            "1/1 [==============================] - 0s 66ms/step - loss: 0.1182 - mse: 0.0220 - val_loss: 0.1158 - val_mse: 0.0202\n",
            "Epoch 24/100\n",
            "1/1 [==============================] - 0s 44ms/step - loss: 0.1158 - mse: 0.0202 - val_loss: 0.1162 - val_mse: 0.0192\n",
            "Epoch 25/100\n",
            "1/1 [==============================] - 0s 44ms/step - loss: 0.1162 - mse: 0.0192 - val_loss: 0.1185 - val_mse: 0.0186\n",
            "Epoch 26/100\n",
            "1/1 [==============================] - 0s 45ms/step - loss: 0.1185 - mse: 0.0186 - val_loss: 0.1192 - val_mse: 0.0183\n",
            "Epoch 27/100\n",
            "1/1 [==============================] - 0s 45ms/step - loss: 0.1192 - mse: 0.0183 - val_loss: 0.1185 - val_mse: 0.0179\n",
            "Epoch 28/100\n",
            "1/1 [==============================] - 0s 46ms/step - loss: 0.1185 - mse: 0.0179 - val_loss: 0.1168 - val_mse: 0.0175\n",
            "Epoch 29/100\n",
            "1/1 [==============================] - 0s 44ms/step - loss: 0.1168 - mse: 0.0175 - val_loss: 0.1138 - val_mse: 0.0171\n",
            "Epoch 30/100\n",
            "1/1 [==============================] - 0s 42ms/step - loss: 0.1138 - mse: 0.0171 - val_loss: 0.1099 - val_mse: 0.0168\n",
            "Epoch 31/100\n",
            "1/1 [==============================] - 0s 60ms/step - loss: 0.1099 - mse: 0.0168 - val_loss: 0.1083 - val_mse: 0.0167\n",
            "Epoch 32/100\n",
            "1/1 [==============================] - 0s 60ms/step - loss: 0.1083 - mse: 0.0167 - val_loss: 0.1069 - val_mse: 0.0167\n",
            "Epoch 33/100\n",
            "1/1 [==============================] - 0s 61ms/step - loss: 0.1069 - mse: 0.0167 - val_loss: 0.1055 - val_mse: 0.0169\n",
            "Epoch 34/100\n",
            "1/1 [==============================] - 0s 65ms/step - loss: 0.1055 - mse: 0.0169 - val_loss: 0.1053 - val_mse: 0.0173\n",
            "Epoch 35/100\n",
            "1/1 [==============================] - 0s 46ms/step - loss: 0.1053 - mse: 0.0173 - val_loss: 0.1056 - val_mse: 0.0172\n",
            "Epoch 36/100\n",
            "1/1 [==============================] - 0s 63ms/step - loss: 0.1056 - mse: 0.0172 - val_loss: 0.1032 - val_mse: 0.0165\n",
            "Epoch 37/100\n",
            "1/1 [==============================] - 0s 44ms/step - loss: 0.1032 - mse: 0.0165 - val_loss: 0.1013 - val_mse: 0.0157\n",
            "Epoch 38/100\n",
            "1/1 [==============================] - 0s 62ms/step - loss: 0.1013 - mse: 0.0157 - val_loss: 0.0995 - val_mse: 0.0149\n",
            "Epoch 39/100\n",
            "1/1 [==============================] - 0s 68ms/step - loss: 0.0995 - mse: 0.0149 - val_loss: 0.0985 - val_mse: 0.0141\n",
            "Epoch 40/100\n",
            "1/1 [==============================] - 0s 44ms/step - loss: 0.0985 - mse: 0.0141 - val_loss: 0.0973 - val_mse: 0.0135\n",
            "Epoch 41/100\n",
            "1/1 [==============================] - 0s 61ms/step - loss: 0.0973 - mse: 0.0135 - val_loss: 0.0960 - val_mse: 0.0130\n",
            "Epoch 42/100\n",
            "1/1 [==============================] - 0s 63ms/step - loss: 0.0960 - mse: 0.0130 - val_loss: 0.0946 - val_mse: 0.0125\n",
            "Epoch 43/100\n",
            "1/1 [==============================] - 0s 47ms/step - loss: 0.0946 - mse: 0.0125 - val_loss: 0.0930 - val_mse: 0.0120\n",
            "Epoch 44/100\n",
            "1/1 [==============================] - 0s 48ms/step - loss: 0.0930 - mse: 0.0120 - val_loss: 0.0913 - val_mse: 0.0116\n",
            "Epoch 45/100\n",
            "1/1 [==============================] - 0s 44ms/step - loss: 0.0913 - mse: 0.0116 - val_loss: 0.0894 - val_mse: 0.0111\n",
            "Epoch 46/100\n",
            "1/1 [==============================] - 0s 44ms/step - loss: 0.0894 - mse: 0.0111 - val_loss: 0.0873 - val_mse: 0.0107\n",
            "Epoch 47/100\n",
            "1/1 [==============================] - 0s 62ms/step - loss: 0.0873 - mse: 0.0107 - val_loss: 0.0851 - val_mse: 0.0103\n",
            "Epoch 48/100\n",
            "1/1 [==============================] - 0s 47ms/step - loss: 0.0851 - mse: 0.0103 - val_loss: 0.0833 - val_mse: 0.0099\n",
            "Epoch 49/100\n",
            "1/1 [==============================] - 0s 44ms/step - loss: 0.0833 - mse: 0.0099 - val_loss: 0.0810 - val_mse: 0.0093\n",
            "Epoch 50/100\n",
            "1/1 [==============================] - 0s 62ms/step - loss: 0.0810 - mse: 0.0093 - val_loss: 0.0785 - val_mse: 0.0086\n",
            "Epoch 51/100\n",
            "1/1 [==============================] - 0s 69ms/step - loss: 0.0785 - mse: 0.0086 - val_loss: 0.0761 - val_mse: 0.0080\n",
            "Epoch 52/100\n",
            "1/1 [==============================] - 0s 61ms/step - loss: 0.0761 - mse: 0.0080 - val_loss: 0.0734 - val_mse: 0.0075\n",
            "Epoch 53/100\n",
            "1/1 [==============================] - 0s 59ms/step - loss: 0.0734 - mse: 0.0075 - val_loss: 0.0709 - val_mse: 0.0070\n",
            "Epoch 54/100\n",
            "1/1 [==============================] - 0s 42ms/step - loss: 0.0709 - mse: 0.0070 - val_loss: 0.0679 - val_mse: 0.0064\n",
            "Epoch 55/100\n",
            "1/1 [==============================] - 0s 45ms/step - loss: 0.0679 - mse: 0.0064 - val_loss: 0.0645 - val_mse: 0.0057\n",
            "Epoch 56/100\n",
            "1/1 [==============================] - 0s 62ms/step - loss: 0.0645 - mse: 0.0057 - val_loss: 0.0611 - val_mse: 0.0051\n",
            "Epoch 57/100\n",
            "1/1 [==============================] - 0s 43ms/step - loss: 0.0611 - mse: 0.0051 - val_loss: 0.0575 - val_mse: 0.0046\n",
            "Epoch 58/100\n",
            "1/1 [==============================] - 0s 65ms/step - loss: 0.0575 - mse: 0.0046 - val_loss: 0.0532 - val_mse: 0.0041\n",
            "Epoch 59/100\n",
            "1/1 [==============================] - 0s 44ms/step - loss: 0.0532 - mse: 0.0041 - val_loss: 0.0485 - val_mse: 0.0035\n",
            "Epoch 60/100\n",
            "1/1 [==============================] - 0s 60ms/step - loss: 0.0485 - mse: 0.0035 - val_loss: 0.0437 - val_mse: 0.0031\n",
            "Epoch 61/100\n",
            "1/1 [==============================] - 0s 44ms/step - loss: 0.0437 - mse: 0.0031 - val_loss: 0.0389 - val_mse: 0.0027\n",
            "Epoch 62/100\n",
            "1/1 [==============================] - 0s 66ms/step - loss: 0.0389 - mse: 0.0027 - val_loss: 0.0363 - val_mse: 0.0023\n",
            "Epoch 63/100\n",
            "1/1 [==============================] - 0s 47ms/step - loss: 0.0363 - mse: 0.0023 - val_loss: 0.0349 - val_mse: 0.0020\n",
            "Epoch 64/100\n",
            "1/1 [==============================] - 0s 44ms/step - loss: 0.0349 - mse: 0.0020 - val_loss: 0.0340 - val_mse: 0.0019\n",
            "Epoch 65/100\n",
            "1/1 [==============================] - 0s 44ms/step - loss: 0.0340 - mse: 0.0019 - val_loss: 0.0312 - val_mse: 0.0018\n",
            "Epoch 66/100\n",
            "1/1 [==============================] - 0s 43ms/step - loss: 0.0312 - mse: 0.0018 - val_loss: 0.0327 - val_mse: 0.0020\n",
            "Epoch 67/100\n",
            "1/1 [==============================] - 0s 43ms/step - loss: 0.0327 - mse: 0.0020 - val_loss: 0.0316 - val_mse: 0.0018\n",
            "Epoch 68/100\n",
            "1/1 [==============================] - 0s 45ms/step - loss: 0.0316 - mse: 0.0018 - val_loss: 0.0286 - val_mse: 0.0014\n",
            "Epoch 69/100\n",
            "1/1 [==============================] - 0s 60ms/step - loss: 0.0286 - mse: 0.0014 - val_loss: 0.0289 - val_mse: 0.0013\n",
            "Epoch 70/100\n",
            "1/1 [==============================] - 0s 61ms/step - loss: 0.0289 - mse: 0.0013 - val_loss: 0.0274 - val_mse: 0.0012\n",
            "Epoch 71/100\n",
            "1/1 [==============================] - 0s 60ms/step - loss: 0.0274 - mse: 0.0012 - val_loss: 0.0260 - val_mse: 0.0012\n",
            "Epoch 72/100\n",
            "1/1 [==============================] - 0s 61ms/step - loss: 0.0260 - mse: 0.0012 - val_loss: 0.0247 - val_mse: 0.0012\n",
            "Epoch 73/100\n",
            "1/1 [==============================] - 0s 64ms/step - loss: 0.0247 - mse: 0.0012 - val_loss: 0.0229 - val_mse: 0.0011\n",
            "Epoch 74/100\n",
            "1/1 [==============================] - 0s 65ms/step - loss: 0.0229 - mse: 0.0011 - val_loss: 0.0243 - val_mse: 0.0011\n",
            "Epoch 75/100\n",
            "1/1 [==============================] - 0s 61ms/step - loss: 0.0243 - mse: 0.0011 - val_loss: 0.0254 - val_mse: 0.0011\n",
            "Epoch 76/100\n",
            "1/1 [==============================] - 0s 47ms/step - loss: 0.0254 - mse: 0.0011 - val_loss: 0.0254 - val_mse: 0.0011\n",
            "Epoch 77/100\n",
            "1/1 [==============================] - 0s 43ms/step - loss: 0.0254 - mse: 0.0011 - val_loss: 0.0273 - val_mse: 0.0013\n",
            "Epoch 78/100\n",
            "1/1 [==============================] - 0s 62ms/step - loss: 0.0273 - mse: 0.0013 - val_loss: 0.0277 - val_mse: 0.0013\n",
            "Epoch 79/100\n",
            "1/1 [==============================] - 0s 45ms/step - loss: 0.0277 - mse: 0.0013 - val_loss: 0.0253 - val_mse: 0.0011\n",
            "Epoch 80/100\n",
            "1/1 [==============================] - 0s 69ms/step - loss: 0.0253 - mse: 0.0011 - val_loss: 0.0234 - val_mse: 9.7697e-04\n",
            "Epoch 81/100\n",
            "1/1 [==============================] - 0s 62ms/step - loss: 0.0234 - mse: 9.7697e-04 - val_loss: 0.0281 - val_mse: 0.0011\n",
            "Epoch 82/100\n",
            "1/1 [==============================] - 0s 60ms/step - loss: 0.0281 - mse: 0.0011 - val_loss: 0.0273 - val_mse: 0.0010\n",
            "Epoch 83/100\n",
            "1/1 [==============================] - 0s 60ms/step - loss: 0.0273 - mse: 0.0010 - val_loss: 0.0208 - val_mse: 8.2481e-04\n",
            "Epoch 84/100\n",
            "1/1 [==============================] - 0s 61ms/step - loss: 0.0208 - mse: 8.2481e-04 - val_loss: 0.0244 - val_mse: 0.0010\n",
            "Epoch 85/100\n",
            "1/1 [==============================] - 0s 60ms/step - loss: 0.0244 - mse: 0.0010 - val_loss: 0.0262 - val_mse: 0.0011\n",
            "Epoch 86/100\n",
            "1/1 [==============================] - 0s 60ms/step - loss: 0.0262 - mse: 0.0011 - val_loss: 0.0215 - val_mse: 8.6603e-04\n",
            "Epoch 87/100\n",
            "1/1 [==============================] - 0s 61ms/step - loss: 0.0215 - mse: 8.6603e-04 - val_loss: 0.0228 - val_mse: 7.7475e-04\n",
            "Epoch 88/100\n",
            "1/1 [==============================] - 0s 47ms/step - loss: 0.0228 - mse: 7.7475e-04 - val_loss: 0.0256 - val_mse: 8.5494e-04\n",
            "Epoch 89/100\n",
            "1/1 [==============================] - 0s 48ms/step - loss: 0.0256 - mse: 8.5494e-04 - val_loss: 0.0218 - val_mse: 7.4365e-04\n",
            "Epoch 90/100\n",
            "1/1 [==============================] - 0s 57ms/step - loss: 0.0218 - mse: 7.4365e-04 - val_loss: 0.0207 - val_mse: 8.1066e-04\n",
            "Epoch 91/100\n",
            "1/1 [==============================] - 0s 45ms/step - loss: 0.0207 - mse: 8.1066e-04 - val_loss: 0.0260 - val_mse: 0.0011\n",
            "Epoch 92/100\n",
            "1/1 [==============================] - 0s 72ms/step - loss: 0.0260 - mse: 0.0011 - val_loss: 0.0251 - val_mse: 0.0010\n",
            "Epoch 93/100\n",
            "1/1 [==============================] - 0s 45ms/step - loss: 0.0251 - mse: 0.0010 - val_loss: 0.0201 - val_mse: 7.4175e-04\n",
            "Epoch 94/100\n",
            "1/1 [==============================] - 0s 45ms/step - loss: 0.0201 - mse: 7.4175e-04 - val_loss: 0.0203 - val_mse: 6.7776e-04\n",
            "Epoch 95/100\n",
            "1/1 [==============================] - 0s 63ms/step - loss: 0.0203 - mse: 6.7776e-04 - val_loss: 0.0224 - val_mse: 7.2591e-04\n",
            "Epoch 96/100\n",
            "1/1 [==============================] - 0s 45ms/step - loss: 0.0224 - mse: 7.2591e-04 - val_loss: 0.0200 - val_mse: 6.6782e-04\n",
            "Epoch 97/100\n",
            "1/1 [==============================] - 0s 69ms/step - loss: 0.0200 - mse: 6.6782e-04 - val_loss: 0.0196 - val_mse: 7.2206e-04\n",
            "Epoch 98/100\n",
            "1/1 [==============================] - 0s 45ms/step - loss: 0.0196 - mse: 7.2206e-04 - val_loss: 0.0233 - val_mse: 8.9766e-04\n",
            "Epoch 99/100\n",
            "1/1 [==============================] - 0s 44ms/step - loss: 0.0233 - mse: 8.9766e-04 - val_loss: 0.0217 - val_mse: 8.1924e-04\n",
            "Epoch 100/100\n",
            "1/1 [==============================] - 0s 48ms/step - loss: 0.0217 - mse: 8.1924e-04 - val_loss: 0.0179 - val_mse: 6.3917e-04\n"
          ]
        },
        {
          "output_type": "execute_result",
          "data": {
            "text/plain": [
              "<keras.src.callbacks.History at 0x7cef8d4312a0>"
            ]
          },
          "metadata": {},
          "execution_count": 747
        }
      ],
      "source": [
        "# Train the model\n",
        "model.fit(train_sequences, train[seq_length:], epochs=100, batch_size=32, validation_data=(train_sequences, train[seq_length:]))"
      ]
    },
    {
      "cell_type": "code",
      "execution_count": null,
      "metadata": {
        "colab": {
          "base_uri": "https://localhost:8080/"
        },
        "id": "ousPACtITDsL",
        "outputId": "8f7be1b3-9623-425e-d0f7-a3be0a54c8d3"
      },
      "outputs": [
        {
          "output_type": "stream",
          "name": "stdout",
          "text": [
            "1/1 [==============================] - 1s 860ms/step\n",
            "1/1 [==============================] - 0s 33ms/step\n",
            "1/1 [==============================] - 0s 34ms/step\n",
            "1/1 [==============================] - 0s 32ms/step\n"
          ]
        }
      ],
      "source": [
        "# Train the model\n",
        "predicted_prices = []\n",
        "year_to_predict = [2023, 2024, 2025, 2026, 2027]\n",
        "num_future_years = 4  # Adjust this parameter\n",
        "\n",
        "# Update the prediction logic to iterate over multiple years\n",
        "for i in range(num_future_years):\n",
        "    future_sequence = scaled_data[-seq_length:]\n",
        "    future_sequence = np.expand_dims(future_sequence, axis=0)\n",
        "    future_sequence = np.expand_dims(future_sequence, axis=2)\n",
        "\n",
        "    predicted_price = model.predict(future_sequence)[0][0]\n",
        "    predicted_price = scaler.inverse_transform(np.array([[predicted_price]]))[0][0]\n",
        "    predicted_prices.append(predicted_price)\n",
        "\n",
        "    # Update the future sequence for the next year\n",
        "    scaled_data = np.append(scaled_data, [predicted_price])\n",
        "    scaled_data = scaled_data[1:]"
      ]
    },
    {
      "cell_type": "code",
      "execution_count": null,
      "metadata": {
        "colab": {
          "base_uri": "https://localhost:8080/"
        },
        "id": "lOByGcS6P44u",
        "outputId": "0739d977-1123-49c8-fa30-9f3aea56ad10"
      },
      "outputs": [
        {
          "output_type": "execute_result",
          "data": {
            "text/plain": [
              "[0.61672014, 1.0063097, 1.0052547, 0.57397866]"
            ]
          },
          "metadata": {},
          "execution_count": 749
        }
      ],
      "source": [
        "predicted_prices"
      ]
    },
    {
      "cell_type": "code",
      "execution_count": null,
      "metadata": {
        "id": "eo_2tdIk_ir6"
      },
      "outputs": [],
      "source": [
        "#predicted_prices"
      ]
    },
    {
      "cell_type": "code",
      "execution_count": null,
      "metadata": {
        "id": "g-Y8MKoSU2s2"
      },
      "outputs": [],
      "source": [
        "# Combine actual and predicted prices\n",
        "actual_prices = data_olah[\"Harga Pertons\"].values[train_size:]\n",
        "all_prices = np.concatenate((actual_prices, predicted_prices))"
      ]
    },
    {
      "cell_type": "code",
      "execution_count": null,
      "metadata": {
        "id": "UXyBWfhU8kTX"
      },
      "outputs": [],
      "source": [
        "#predicted_price = scaler.inverse_transform(np.array([[predicted_price]]))[0][0]"
      ]
    },
    {
      "cell_type": "code",
      "execution_count": null,
      "metadata": {
        "id": "TAviehX29A5_"
      },
      "outputs": [],
      "source": [
        "tahun_grafik = data_olah[\"Tahun\"].to_numpy()\n",
        "harga_grafik = data_olah[\"Harga Pertons\"].to_numpy()"
      ]
    },
    {
      "cell_type": "code",
      "execution_count": null,
      "metadata": {
        "id": "U9mnK9fhAFg2"
      },
      "outputs": [],
      "source": [
        "#predicted_prices[0]"
      ]
    },
    {
      "cell_type": "code",
      "execution_count": null,
      "metadata": {
        "colab": {
          "base_uri": "https://localhost:8080/",
          "height": 472
        },
        "id": "oeFWB9c48nzg",
        "outputId": "728d2d73-67ff-47b3-bb44-30d982ecf2e9"
      },
      "outputs": [
        {
          "output_type": "display_data",
          "data": {
            "text/plain": [
              "<Figure size 640x480 with 1 Axes>"
            ],
            "image/png": "[encoded data removed]"
          },
          "metadata": {}
        }
      ],
      "source": [
        "#data_olah[[\"Harga (per-ton)\"]]\n",
        "# Plot actual and predicted prices\n",
        "plt.plot(tahun_grafik, harga_grafik, label=\"Actual Price\")\n",
        "#plt.plot(range(2022, 2022 + 2), predicted_price)\n",
        "for i in range(num_future_years):\n",
        "      plt.axvline(x=year_to_predict[i], color=\"red\", linestyle=\"--\", label=f\"Predicted Price ({year_to_predict[i]})\")\n",
        "      plt.scatter(year_to_predict[i], predicted_prices[i], color=\"red\", marker=\"o\")\n",
        "\n",
        "\n",
        "# Add labels and title\n",
        "plt.xlabel(\"Year\")\n",
        "plt.ylabel(\"Harga Pertons\")\n",
        "plt.title(\"Export Price Spices over Years\")\n",
        "\n",
        "# Add legend\n",
        "plt.legend()\n",
        "\n",
        "# Display the plot\n",
        "plt.show()"
      ]
    },
    {
      "cell_type": "code",
      "execution_count": null,
      "metadata": {
        "id": "FlJZKdXQVw19"
      },
      "outputs": [],
      "source": [
        "# Predict price for next year\n",
        "#year_to_predict = [2023, 2024, 2025, 2026]   # Adjust this year\n",
        "# Create a list to store the predicted prices\n",
        "#predicted_prices = []\n",
        "\n",
        "# Iterate over the years to predict\n",
        "#for year in year_to_predict:\n",
        "#    # Get the future sequence\n",
        "#    future_sequence = scaled_data[(-(year + 1)) * seq_length:]\n",
        "#    future_sequence = np.expand_dims(future_sequence, axis=0)\n",
        "\n",
        "    # Predict the price\n",
        "#    predicted_price = model.predict(future_sequence)[0, 0]\n",
        "\n",
        "    # Scale the predicted price back to original range\n",
        "#    predicted_price = np.array([[predicted_price]])\n",
        "\n",
        "#    predicted_price = scaler.inverse_transform(predicted_price)[0, 0]\n",
        "\n",
        "\n",
        "\n",
        "    # Add the predicted price to the list#\n",
        "#    predicted_prices.append(predicted_price)\n"
      ]
    },
    {
      "cell_type": "markdown",
      "metadata": {
        "id": "KzB6cgrKUr3e"
      },
      "source": [
        "##Saved Model"
      ]
    },
    {
      "cell_type": "code",
      "execution_count": null,
      "metadata": {
        "colab": {
          "base_uri": "https://localhost:8080/"
        },
        "id": "Z5AF5Vs8Uq70",
        "outputId": "872321a3-cacf-4805-bb05-e0c85c88a328"
      },
      "outputs": [
        {
          "output_type": "stream",
          "name": "stderr",
          "text": [
            "/usr/local/lib/python3.10/dist-packages/keras/src/engine/training.py:3103: UserWarning: You are saving your model as an HDF5 file via `model.save()`. This file format is considered legacy. We recommend using instead the native Keras format, e.g. `model.save('my_model.keras')`.\n",
            "  saving_api.save_model(\n"
          ]
        }
      ],
      "source": [
        "model.save('Yogurt(Hong Kong, China).h5')"
      ]
    }
  ],
  "metadata": {
    "colab": {
      "provenance": []
    },
    "kernelspec": {
      "display_name": "Python 3",
      "name": "python3"
    },
    "language_info": {
      "name": "python"
    }
  },
  "nbformat": 4,
  "nbformat_minor": 0
}