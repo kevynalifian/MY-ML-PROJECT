{
  "nbformat": 4,
  "nbformat_minor": 0,
  "metadata": {
    "colab": {
      "provenance": []
    },
    "kernelspec": {
      "name": "python3",
      "display_name": "Python 3"
    },
    "language_info": {
      "name": "python"
    }
  },
  "cells": [
    {
      "cell_type": "markdown",
      "source": [
        "## IMPORT LIBRARY"
      ],
      "metadata": {
        "id": "_JjSfPCJHnql"
      }
    },
    {
      "cell_type": "code",
      "execution_count": null,
      "metadata": {
        "colab": {
          "base_uri": "https://localhost:8080/"
        },
        "id": "a3dAPNIy9JLr",
        "outputId": "9ce739ff-94cb-4311-cfd6-f46299093ce4"
      },
      "outputs": [
        {
          "output_type": "stream",
          "name": "stdout",
          "text": [
            "Requirement already satisfied: nltk in /usr/local/lib/python3.10/dist-packages (3.8.1)\n",
            "Requirement already satisfied: click in /usr/local/lib/python3.10/dist-packages (from nltk) (8.1.7)\n",
            "Requirement already satisfied: joblib in /usr/local/lib/python3.10/dist-packages (from nltk) (1.4.0)\n",
            "Requirement already satisfied: regex>=2021.8.3 in /usr/local/lib/python3.10/dist-packages (from nltk) (2023.12.25)\n",
            "Requirement already satisfied: tqdm in /usr/local/lib/python3.10/dist-packages (from nltk) (4.66.2)\n"
          ]
        }
      ],
      "source": [
        "pip install nltk"
      ]
    },
    {
      "cell_type": "code",
      "source": [
        "pip install Sastrawi"
      ],
      "metadata": {
        "colab": {
          "base_uri": "https://localhost:8080/"
        },
        "id": "7FYaGfcbArFy",
        "outputId": "d327046c-3bdc-44ca-8509-a2749bcd2eaa"
      },
      "execution_count": null,
      "outputs": [
        {
          "output_type": "stream",
          "name": "stdout",
          "text": [
            "Collecting Sastrawi\n",
            "  Downloading Sastrawi-1.0.1-py2.py3-none-any.whl (209 kB)\n",
            "\u001b[2K     \u001b[90m━━━━━━━━━━━━━━━━━━━━━━━━━━━━━━━━━━━━━━━━\u001b[0m \u001b[32m209.7/209.7 kB\u001b[0m \u001b[31m1.6 MB/s\u001b[0m eta \u001b[36m0:00:00\u001b[0m\n",
            "\u001b[?25hInstalling collected packages: Sastrawi\n",
            "Successfully installed Sastrawi-1.0.1\n"
          ]
        }
      ]
    },
    {
      "cell_type": "code",
      "source": [
        "import pandas as pd\n",
        "import numpy as np\n",
        "import matplotlib.pyplot as plt\n",
        "import seaborn as sns\n",
        "\n",
        "import nltk\n",
        "from nltk.corpus import stopwords\n",
        "from nltk.stem import WordNetLemmatizer\n",
        "import re\n",
        "from collections import Counter\n",
        "from string import punctuation\n",
        "from Sastrawi.Stemmer.StemmerFactory import StemmerFactory\n",
        "\n",
        "from sklearn.feature_extraction.text import TfidfVectorizer\n",
        "from sklearn.model_selection import train_test_split\n",
        "from sklearn.preprocessing import LabelEncoder\n",
        "from sklearn.metrics import confusion_matrix, classification_report, accuracy_score\n",
        "\n",
        "from sklearn.linear_model import LogisticRegression\n",
        "from sklearn.svm import SVC\n",
        "from sklearn.ensemble import RandomForestClassifier\n",
        "from sklearn.tree import DecisionTreeClassifier\n",
        "\n",
        "lb = LabelEncoder()\n",
        "nltk.download('punkt')\n",
        "nltk.download('stopwords')\n",
        "nltk.download('wordnet')\n",
        "nltk.download('vader_lexicon')"
      ],
      "metadata": {
        "colab": {
          "base_uri": "https://localhost:8080/"
        },
        "id": "iuISq3t89rQJ",
        "outputId": "8fac74ec-94a2-41ae-f523-3a2317c07587"
      },
      "execution_count": null,
      "outputs": [
        {
          "output_type": "stream",
          "name": "stderr",
          "text": [
            "[nltk_data] Downloading package punkt to /root/nltk_data...\n",
            "[nltk_data]   Unzipping tokenizers/punkt.zip.\n",
            "[nltk_data] Downloading package stopwords to /root/nltk_data...\n",
            "[nltk_data]   Unzipping corpora/stopwords.zip.\n",
            "[nltk_data] Downloading package wordnet to /root/nltk_data...\n",
            "[nltk_data] Downloading package vader_lexicon to /root/nltk_data...\n"
          ]
        },
        {
          "output_type": "execute_result",
          "data": {
            "text/plain": [
              "True"
            ]
          },
          "metadata": {},
          "execution_count": 3
        }
      ]
    },
    {
      "cell_type": "markdown",
      "source": [
        "## LOAD DATASET\n",
        "Dataset is scrapped from X https://x.com/home"
      ],
      "metadata": {
        "id": "pqotuvShyLEL"
      }
    },
    {
      "cell_type": "code",
      "source": [
        "dataset = pd.read_excel('/content/dataset siap.xls')\n",
        "\n",
        "dataset.head()"
      ],
      "metadata": {
        "colab": {
          "base_uri": "https://localhost:8080/",
          "height": 625
        },
        "id": "WcAOFqFz_D0I",
        "outputId": "18750541-19c9-4bd7-b762-52e0124f1ad9"
      },
      "execution_count": null,
      "outputs": [
        {
          "output_type": "execute_result",
          "data": {
            "text/plain": [
              "   conversation_id_str                      created_at  favorite_count  \\\n",
              "0  1220000000000000000  Mon Feb 03 10:12:57 +0000 2020            2759   \n",
              "1  1700000000000000000  Wed Sep 13 02:38:26 +0000 2023            3704   \n",
              "2  1380000000000000000  Wed Apr 21 04:30:41 +0000 2021            1685   \n",
              "3  1510000000000000000  Tue Apr 05 05:27:14 +0000 2022            7286   \n",
              "4  1620000000000000000  Sat Feb 11 01:47:29 +0000 2023              86   \n",
              "\n",
              "                                           full_text        id_str  \\\n",
              "0  STOP KLITIH Semua lapisan masyarakat yogyakart...  1.220000e+18   \n",
              "1  The Center of Education Klitih Yogyakarta #Gen...  1.700000e+18   \n",
              "2  oke lanjut dari kasus kemarin soal akun IG San...  1.380000e+18   \n",
              "3  Minton nemu dokumenter pendek judulnya Klitih:...  1.510000e+18   \n",
              "4  2 Geng Kondang di Yogyakarta Q-Zruh dan Joxzin...  1.620000e+18   \n",
              "\n",
              "                                           image_url in_reply_to_screen_name  \\\n",
              "0  https://pbs.twimg.com/ext_tw_video_thumb/12242...                     NaN   \n",
              "1    https://pbs.twimg.com/media/F531qX0bsAAyz6K.jpg                     NaN   \n",
              "2    https://pbs.twimg.com/media/EzeJL_bVEAcwTpk.jpg                     NaN   \n",
              "3    https://pbs.twimg.com/media/FPjo-rnaQAA1hCH.jpg                     NaN   \n",
              "4                                                NaN                     NaN   \n",
              "\n",
              "  lang               location  quote_count  reply_count  retweet_count  \\\n",
              "0   in                    NaN         79.0         79.0         1386.0   \n",
              "1   in              indonesia        294.0         75.0          728.0   \n",
              "2   in  Yogyakarta, Indonesia         97.0        135.0          624.0   \n",
              "3   in              Indonesia         97.0         47.0         2042.0   \n",
              "4   in                Kebumen          8.0         27.0           23.0   \n",
              "\n",
              "                                           tweet_url   user_id_str  \\\n",
              "0  https://twitter.com/Mbendol52768653/status/122...  1.210000e+18   \n",
              "1  https://twitter.com/weebsalter/status/17017873...  1.220000e+18   \n",
              "2  https://twitter.com/txtfromjogja/status/138472...  1.360000e+18   \n",
              "3  https://twitter.com/HabisNontonFilm/status/151...  1.080000e+18   \n",
              "4  https://twitter.com/widodogroho/status/1624223...  1.440265e+08   \n",
              "\n",
              "          username  \n",
              "0  Mbendol52768653  \n",
              "1       weebsalter  \n",
              "2     txtfromjogja  \n",
              "3  HabisNontonFilm  \n",
              "4      widodogroho  "
            ],
            "text/html": [
              "\n",
              "  <div id=\"df-f42f7a42-f4a1-4a2e-875c-d2930be62230\" class=\"colab-df-container\">\n",
              "    <div>\n",
              "<style scoped>\n",
              "    .dataframe tbody tr th:only-of-type {\n",
              "        vertical-align: middle;\n",
              "    }\n",
              "\n",
              "    .dataframe tbody tr th {\n",
              "        vertical-align: top;\n",
              "    }\n",
              "\n",
              "    .dataframe thead th {\n",
              "        text-align: right;\n",
              "    }\n",
              "</style>\n",
              "<table border=\"1\" class=\"dataframe\">\n",
              "  <thead>\n",
              "    <tr style=\"text-align: right;\">\n",
              "      <th></th>\n",
              "      <th>conversation_id_str</th>\n",
              "      <th>created_at</th>\n",
              "      <th>favorite_count</th>\n",
              "      <th>full_text</th>\n",
              "      <th>id_str</th>\n",
              "      <th>image_url</th>\n",
              "      <th>in_reply_to_screen_name</th>\n",
              "      <th>lang</th>\n",
              "      <th>location</th>\n",
              "      <th>quote_count</th>\n",
              "      <th>reply_count</th>\n",
              "      <th>retweet_count</th>\n",
              "      <th>tweet_url</th>\n",
              "      <th>user_id_str</th>\n",
              "      <th>username</th>\n",
              "    </tr>\n",
              "  </thead>\n",
              "  <tbody>\n",
              "    <tr>\n",
              "      <th>0</th>\n",
              "      <td>1220000000000000000</td>\n",
              "      <td>Mon Feb 03 10:12:57 +0000 2020</td>\n",
              "      <td>2759</td>\n",
              "      <td>STOP KLITIH Semua lapisan masyarakat yogyakart...</td>\n",
              "      <td>1.220000e+18</td>\n",
              "      <td>https://pbs.twimg.com/ext_tw_video_thumb/12242...</td>\n",
              "      <td>NaN</td>\n",
              "      <td>in</td>\n",
              "      <td>NaN</td>\n",
              "      <td>79.0</td>\n",
              "      <td>79.0</td>\n",
              "      <td>1386.0</td>\n",
              "      <td>https://twitter.com/Mbendol52768653/status/122...</td>\n",
              "      <td>1.210000e+18</td>\n",
              "      <td>Mbendol52768653</td>\n",
              "    </tr>\n",
              "    <tr>\n",
              "      <th>1</th>\n",
              "      <td>1700000000000000000</td>\n",
              "      <td>Wed Sep 13 02:38:26 +0000 2023</td>\n",
              "      <td>3704</td>\n",
              "      <td>The Center of Education Klitih Yogyakarta #Gen...</td>\n",
              "      <td>1.700000e+18</td>\n",
              "      <td>https://pbs.twimg.com/media/F531qX0bsAAyz6K.jpg</td>\n",
              "      <td>NaN</td>\n",
              "      <td>in</td>\n",
              "      <td>indonesia</td>\n",
              "      <td>294.0</td>\n",
              "      <td>75.0</td>\n",
              "      <td>728.0</td>\n",
              "      <td>https://twitter.com/weebsalter/status/17017873...</td>\n",
              "      <td>1.220000e+18</td>\n",
              "      <td>weebsalter</td>\n",
              "    </tr>\n",
              "    <tr>\n",
              "      <th>2</th>\n",
              "      <td>1380000000000000000</td>\n",
              "      <td>Wed Apr 21 04:30:41 +0000 2021</td>\n",
              "      <td>1685</td>\n",
              "      <td>oke lanjut dari kasus kemarin soal akun IG San...</td>\n",
              "      <td>1.380000e+18</td>\n",
              "      <td>https://pbs.twimg.com/media/EzeJL_bVEAcwTpk.jpg</td>\n",
              "      <td>NaN</td>\n",
              "      <td>in</td>\n",
              "      <td>Yogyakarta, Indonesia</td>\n",
              "      <td>97.0</td>\n",
              "      <td>135.0</td>\n",
              "      <td>624.0</td>\n",
              "      <td>https://twitter.com/txtfromjogja/status/138472...</td>\n",
              "      <td>1.360000e+18</td>\n",
              "      <td>txtfromjogja</td>\n",
              "    </tr>\n",
              "    <tr>\n",
              "      <th>3</th>\n",
              "      <td>1510000000000000000</td>\n",
              "      <td>Tue Apr 05 05:27:14 +0000 2022</td>\n",
              "      <td>7286</td>\n",
              "      <td>Minton nemu dokumenter pendek judulnya Klitih:...</td>\n",
              "      <td>1.510000e+18</td>\n",
              "      <td>https://pbs.twimg.com/media/FPjo-rnaQAA1hCH.jpg</td>\n",
              "      <td>NaN</td>\n",
              "      <td>in</td>\n",
              "      <td>Indonesia</td>\n",
              "      <td>97.0</td>\n",
              "      <td>47.0</td>\n",
              "      <td>2042.0</td>\n",
              "      <td>https://twitter.com/HabisNontonFilm/status/151...</td>\n",
              "      <td>1.080000e+18</td>\n",
              "      <td>HabisNontonFilm</td>\n",
              "    </tr>\n",
              "    <tr>\n",
              "      <th>4</th>\n",
              "      <td>1620000000000000000</td>\n",
              "      <td>Sat Feb 11 01:47:29 +0000 2023</td>\n",
              "      <td>86</td>\n",
              "      <td>2 Geng Kondang di Yogyakarta Q-Zruh dan Joxzin...</td>\n",
              "      <td>1.620000e+18</td>\n",
              "      <td>NaN</td>\n",
              "      <td>NaN</td>\n",
              "      <td>in</td>\n",
              "      <td>Kebumen</td>\n",
              "      <td>8.0</td>\n",
              "      <td>27.0</td>\n",
              "      <td>23.0</td>\n",
              "      <td>https://twitter.com/widodogroho/status/1624223...</td>\n",
              "      <td>1.440265e+08</td>\n",
              "      <td>widodogroho</td>\n",
              "    </tr>\n",
              "  </tbody>\n",
              "</table>\n",
              "</div>\n",
              "    <div class=\"colab-df-buttons\">\n",
              "\n",
              "  <div class=\"colab-df-container\">\n",
              "    <button class=\"colab-df-convert\" onclick=\"convertToInteractive('df-f42f7a42-f4a1-4a2e-875c-d2930be62230')\"\n",
              "            title=\"Convert this dataframe to an interactive table.\"\n",
              "            style=\"display:none;\">\n",
              "\n",
              "  <svg xmlns=\"http://www.w3.org/2000/svg\" height=\"24px\" viewBox=\"0 -960 960 960\">\n",
              "    <path d=\"M120-120v-720h720v720H120Zm60-500h600v-160H180v160Zm220 220h160v-160H400v160Zm0 220h160v-160H400v160ZM180-400h160v-160H180v160Zm440 0h160v-160H620v160ZM180-180h160v-160H180v160Zm440 0h160v-160H620v160Z\"/>\n",
              "  </svg>\n",
              "    </button>\n",
              "\n",
              "  <style>\n",
              "    .colab-df-container {\n",
              "      display:flex;\n",
              "      gap: 12px;\n",
              "    }\n",
              "\n",
              "    .colab-df-convert {\n",
              "      background-color: #E8F0FE;\n",
              "      border: none;\n",
              "      border-radius: 50%;\n",
              "      cursor: pointer;\n",
              "      display: none;\n",
              "      fill: #1967D2;\n",
              "      height: 32px;\n",
              "      padding: 0 0 0 0;\n",
              "      width: 32px;\n",
              "    }\n",
              "\n",
              "    .colab-df-convert:hover {\n",
              "      background-color: #E2EBFA;\n",
              "      box-shadow: 0px 1px 2px rgba(60, 64, 67, 0.3), 0px 1px 3px 1px rgba(60, 64, 67, 0.15);\n",
              "      fill: #174EA6;\n",
              "    }\n",
              "\n",
              "    .colab-df-buttons div {\n",
              "      margin-bottom: 4px;\n",
              "    }\n",
              "\n",
              "    [theme=dark] .colab-df-convert {\n",
              "      background-color: #3B4455;\n",
              "      fill: #D2E3FC;\n",
              "    }\n",
              "\n",
              "    [theme=dark] .colab-df-convert:hover {\n",
              "      background-color: #434B5C;\n",
              "      box-shadow: 0px 1px 3px 1px rgba(0, 0, 0, 0.15);\n",
              "      filter: drop-shadow(0px 1px 2px rgba(0, 0, 0, 0.3));\n",
              "      fill: #FFFFFF;\n",
              "    }\n",
              "  </style>\n",
              "\n",
              "    <script>\n",
              "      const buttonEl =\n",
              "        document.querySelector('#df-f42f7a42-f4a1-4a2e-875c-d2930be62230 button.colab-df-convert');\n",
              "      buttonEl.style.display =\n",
              "        google.colab.kernel.accessAllowed ? 'block' : 'none';\n",
              "\n",
              "      async function convertToInteractive(key) {\n",
              "        const element = document.querySelector('#df-f42f7a42-f4a1-4a2e-875c-d2930be62230');\n",
              "        const dataTable =\n",
              "          await google.colab.kernel.invokeFunction('convertToInteractive',\n",
              "                                                    [key], {});\n",
              "        if (!dataTable) return;\n",
              "\n",
              "        const docLinkHtml = 'Like what you see? Visit the ' +\n",
              "          '<a target=\"_blank\" href=https://colab.research.google.com/notebooks/data_table.ipynb>data table notebook</a>'\n",
              "          + ' to learn more about interactive tables.';\n",
              "        element.innerHTML = '';\n",
              "        dataTable['output_type'] = 'display_data';\n",
              "        await google.colab.output.renderOutput(dataTable, element);\n",
              "        const docLink = document.createElement('div');\n",
              "        docLink.innerHTML = docLinkHtml;\n",
              "        element.appendChild(docLink);\n",
              "      }\n",
              "    </script>\n",
              "  </div>\n",
              "\n",
              "\n",
              "<div id=\"df-48538ff6-bfbe-4755-8993-8fd7abf0359b\">\n",
              "  <button class=\"colab-df-quickchart\" onclick=\"quickchart('df-48538ff6-bfbe-4755-8993-8fd7abf0359b')\"\n",
              "            title=\"Suggest charts\"\n",
              "            style=\"display:none;\">\n",
              "\n",
              "<svg xmlns=\"http://www.w3.org/2000/svg\" height=\"24px\"viewBox=\"0 0 24 24\"\n",
              "     width=\"24px\">\n",
              "    <g>\n",
              "        <path d=\"M19 3H5c-1.1 0-2 .9-2 2v14c0 1.1.9 2 2 2h14c1.1 0 2-.9 2-2V5c0-1.1-.9-2-2-2zM9 17H7v-7h2v7zm4 0h-2V7h2v10zm4 0h-2v-4h2v4z\"/>\n",
              "    </g>\n",
              "</svg>\n",
              "  </button>\n",
              "\n",
              "<style>\n",
              "  .colab-df-quickchart {\n",
              "      --bg-color: #E8F0FE;\n",
              "      --fill-color: #1967D2;\n",
              "      --hover-bg-color: #E2EBFA;\n",
              "      --hover-fill-color: #174EA6;\n",
              "      --disabled-fill-color: #AAA;\n",
              "      --disabled-bg-color: #DDD;\n",
              "  }\n",
              "\n",
              "  [theme=dark] .colab-df-quickchart {\n",
              "      --bg-color: #3B4455;\n",
              "      --fill-color: #D2E3FC;\n",
              "      --hover-bg-color: #434B5C;\n",
              "      --hover-fill-color: #FFFFFF;\n",
              "      --disabled-bg-color: #3B4455;\n",
              "      --disabled-fill-color: #666;\n",
              "  }\n",
              "\n",
              "  .colab-df-quickchart {\n",
              "    background-color: var(--bg-color);\n",
              "    border: none;\n",
              "    border-radius: 50%;\n",
              "    cursor: pointer;\n",
              "    display: none;\n",
              "    fill: var(--fill-color);\n",
              "    height: 32px;\n",
              "    padding: 0;\n",
              "    width: 32px;\n",
              "  }\n",
              "\n",
              "  .colab-df-quickchart:hover {\n",
              "    background-color: var(--hover-bg-color);\n",
              "    box-shadow: 0 1px 2px rgba(60, 64, 67, 0.3), 0 1px 3px 1px rgba(60, 64, 67, 0.15);\n",
              "    fill: var(--button-hover-fill-color);\n",
              "  }\n",
              "\n",
              "  .colab-df-quickchart-complete:disabled,\n",
              "  .colab-df-quickchart-complete:disabled:hover {\n",
              "    background-color: var(--disabled-bg-color);\n",
              "    fill: var(--disabled-fill-color);\n",
              "    box-shadow: none;\n",
              "  }\n",
              "\n",
              "  .colab-df-spinner {\n",
              "    border: 2px solid var(--fill-color);\n",
              "    border-color: transparent;\n",
              "    border-bottom-color: var(--fill-color);\n",
              "    animation:\n",
              "      spin 1s steps(1) infinite;\n",
              "  }\n",
              "\n",
              "  @keyframes spin {\n",
              "    0% {\n",
              "      border-color: transparent;\n",
              "      border-bottom-color: var(--fill-color);\n",
              "      border-left-color: var(--fill-color);\n",
              "    }\n",
              "    20% {\n",
              "      border-color: transparent;\n",
              "      border-left-color: var(--fill-color);\n",
              "      border-top-color: var(--fill-color);\n",
              "    }\n",
              "    30% {\n",
              "      border-color: transparent;\n",
              "      border-left-color: var(--fill-color);\n",
              "      border-top-color: var(--fill-color);\n",
              "      border-right-color: var(--fill-color);\n",
              "    }\n",
              "    40% {\n",
              "      border-color: transparent;\n",
              "      border-right-color: var(--fill-color);\n",
              "      border-top-color: var(--fill-color);\n",
              "    }\n",
              "    60% {\n",
              "      border-color: transparent;\n",
              "      border-right-color: var(--fill-color);\n",
              "    }\n",
              "    80% {\n",
              "      border-color: transparent;\n",
              "      border-right-color: var(--fill-color);\n",
              "      border-bottom-color: var(--fill-color);\n",
              "    }\n",
              "    90% {\n",
              "      border-color: transparent;\n",
              "      border-bottom-color: var(--fill-color);\n",
              "    }\n",
              "  }\n",
              "</style>\n",
              "\n",
              "  <script>\n",
              "    async function quickchart(key) {\n",
              "      const quickchartButtonEl =\n",
              "        document.querySelector('#' + key + ' button');\n",
              "      quickchartButtonEl.disabled = true;  // To prevent multiple clicks.\n",
              "      quickchartButtonEl.classList.add('colab-df-spinner');\n",
              "      try {\n",
              "        const charts = await google.colab.kernel.invokeFunction(\n",
              "            'suggestCharts', [key], {});\n",
              "      } catch (error) {\n",
              "        console.error('Error during call to suggestCharts:', error);\n",
              "      }\n",
              "      quickchartButtonEl.classList.remove('colab-df-spinner');\n",
              "      quickchartButtonEl.classList.add('colab-df-quickchart-complete');\n",
              "    }\n",
              "    (() => {\n",
              "      let quickchartButtonEl =\n",
              "        document.querySelector('#df-48538ff6-bfbe-4755-8993-8fd7abf0359b button');\n",
              "      quickchartButtonEl.style.display =\n",
              "        google.colab.kernel.accessAllowed ? 'block' : 'none';\n",
              "    })();\n",
              "  </script>\n",
              "</div>\n",
              "    </div>\n",
              "  </div>\n"
            ],
            "application/vnd.google.colaboratory.intrinsic+json": {
              "type": "dataframe",
              "variable_name": "dataset",
              "summary": "{\n  \"name\": \"dataset\",\n  \"rows\": 1094,\n  \"fields\": [\n    {\n      \"column\": \"conversation_id_str\",\n      \"properties\": {\n        \"dtype\": \"number\",\n        \"std\": 320207272219894848,\n        \"min\": 215834000000000000,\n        \"max\": 1780000000000000000,\n        \"num_unique_values\": 736,\n        \"samples\": [\n          1511198725263089920,\n          1773970000000000000,\n          1510996256612829952\n        ],\n        \"semantic_type\": \"\",\n        \"description\": \"\"\n      }\n    },\n    {\n      \"column\": \"created_at\",\n      \"properties\": {\n        \"dtype\": \"object\",\n        \"num_unique_values\": 979,\n        \"samples\": [\n          \"Tue Mar 26 03:30:42 +0000 2024\",\n          \"Fri Nov 09 17:41:41 +0000 2018\",\n          \"Sun Mar 31 21:29:17 +0000 2024\"\n        ],\n        \"semantic_type\": \"\",\n        \"description\": \"\"\n      }\n    },\n    {\n      \"column\": \"favorite_count\",\n      \"properties\": {\n        \"dtype\": \"number\",\n        \"std\": 570,\n        \"min\": 0,\n        \"max\": 9808,\n        \"num_unique_values\": 170,\n        \"samples\": [\n          343,\n          9,\n          5024\n        ],\n        \"semantic_type\": \"\",\n        \"description\": \"\"\n      }\n    },\n    {\n      \"column\": \"full_text\",\n      \"properties\": {\n        \"dtype\": \"string\",\n        \"num_unique_values\": 974,\n        \"samples\": [\n          \"@kahfontwiter oh klitih masi relevan ya ternyata\",\n          \"Viral! Turis Bule Jadi Korban Begal Payudara di Yogyakarta https://t.co/afgnBpcLDh\",\n          \"@UGM_FESS 1. gaboleh bawa motor karna waktu itu isu klitih rame banget 2. karna gamau aja 3. mending cari kos deket kampus trus jalan kaki 4. kalo nebeng respon temen kadang ga semua baik mending sadar diri\"\n        ],\n        \"semantic_type\": \"\",\n        \"description\": \"\"\n      }\n    },\n    {\n      \"column\": \"id_str\",\n      \"properties\": {\n        \"dtype\": \"number\",\n        \"std\": 3.1384386940680403e+17,\n        \"min\": 2.15834e+17,\n        \"max\": 1.78e+18,\n        \"num_unique_values\": 773,\n        \"samples\": [\n          1.51204e+18,\n          1.51133095942928e+18,\n          1.51133917060996e+18\n        ],\n        \"semantic_type\": \"\",\n        \"description\": \"\"\n      }\n    },\n    {\n      \"column\": \"image_url\",\n      \"properties\": {\n        \"dtype\": \"category\",\n        \"num_unique_values\": 153,\n        \"samples\": [\n          \"https://pbs.twimg.com/media/FHwuyySUcAAout4.jpg\",\n          \"https://pbs.twimg.com/media/EsK3IaGUwAAwQ3U.jpg\",\n          \"https://pbs.twimg.com/media/EQaVNgxUwAIPiMn.jpg\"\n        ],\n        \"semantic_type\": \"\",\n        \"description\": \"\"\n      }\n    },\n    {\n      \"column\": \"in_reply_to_screen_name\",\n      \"properties\": {\n        \"dtype\": \"category\",\n        \"num_unique_values\": 206,\n        \"samples\": [\n          \"Mustakim_____\",\n          \"WarganetBudiman\",\n          \"vicevxrsx\"\n        ],\n        \"semantic_type\": \"\",\n        \"description\": \"\"\n      }\n    },\n    {\n      \"column\": \"lang\",\n      \"properties\": {\n        \"dtype\": \"category\",\n        \"num_unique_values\": 1,\n        \"samples\": [\n          \"in\"\n        ],\n        \"semantic_type\": \"\",\n        \"description\": \"\"\n      }\n    },\n    {\n      \"column\": \"location\",\n      \"properties\": {\n        \"dtype\": \"category\",\n        \"num_unique_values\": 334,\n        \"samples\": [\n          \"Bullworth Academy\"\n        ],\n        \"semantic_type\": \"\",\n        \"description\": \"\"\n      }\n    },\n    {\n      \"column\": \"quote_count\",\n      \"properties\": {\n        \"dtype\": \"number\",\n        \"std\": 21.322533473135845,\n        \"min\": 0.0,\n        \"max\": 294.0,\n        \"num_unique_values\": 41,\n        \"samples\": [\n          9.0\n        ],\n        \"semantic_type\": \"\",\n        \"description\": \"\"\n      }\n    },\n    {\n      \"column\": \"reply_count\",\n      \"properties\": {\n        \"dtype\": \"number\",\n        \"std\": 49.40568071042059,\n        \"min\": 0.0,\n        \"max\": 1345.0,\n        \"num_unique_values\": 61,\n        \"samples\": [\n          79.0\n        ],\n        \"semantic_type\": \"\",\n        \"description\": \"\"\n      }\n    },\n    {\n      \"column\": \"retweet_count\",\n      \"properties\": {\n        \"dtype\": \"number\",\n        \"std\": 122.57558588624936,\n        \"min\": 0.0,\n        \"max\": 2042.0,\n        \"num_unique_values\": 83,\n        \"samples\": [\n          0.0\n        ],\n        \"semantic_type\": \"\",\n        \"description\": \"\"\n      }\n    },\n    {\n      \"column\": \"tweet_url\",\n      \"properties\": {\n        \"dtype\": \"string\",\n        \"num_unique_values\": 952,\n        \"samples\": [\n          \"https://twitter.com/fikringrha/status/1772444931694465155\"\n        ],\n        \"semantic_type\": \"\",\n        \"description\": \"\"\n      }\n    },\n    {\n      \"column\": \"user_id_str\",\n      \"properties\": {\n        \"dtype\": \"number\",\n        \"std\": 6.627479787463004e+17,\n        \"min\": 17128975.0,\n        \"max\": 1.76537e+18,\n        \"num_unique_values\": 811,\n        \"samples\": [\n          1.61092e+18\n        ],\n        \"semantic_type\": \"\",\n        \"description\": \"\"\n      }\n    },\n    {\n      \"column\": \"username\",\n      \"properties\": {\n        \"dtype\": \"string\",\n        \"num_unique_values\": 790,\n        \"samples\": [\n          \"reverbnodens\"\n        ],\n        \"semantic_type\": \"\",\n        \"description\": \"\"\n      }\n    }\n  ]\n}"
            }
          },
          "metadata": {},
          "execution_count": 25
        }
      ]
    },
    {
      "cell_type": "code",
      "source": [
        "dataset.isnull().sum()"
      ],
      "metadata": {
        "colab": {
          "base_uri": "https://localhost:8080/"
        },
        "id": "rVHm-OGk_e9q",
        "outputId": "01d0d8ac-8eb4-4f33-a430-4bb61fd646cd"
      },
      "execution_count": null,
      "outputs": [
        {
          "output_type": "execute_result",
          "data": {
            "text/plain": [
              "conversation_id_str          0\n",
              "created_at                   0\n",
              "favorite_count               0\n",
              "full_text                    0\n",
              "id_str                      31\n",
              "image_url                  916\n",
              "in_reply_to_screen_name    687\n",
              "lang                        31\n",
              "location                   358\n",
              "quote_count                 32\n",
              "reply_count                 32\n",
              "retweet_count               32\n",
              "tweet_url                   32\n",
              "user_id_str                 32\n",
              "username                    32\n",
              "dtype: int64"
            ]
          },
          "metadata": {},
          "execution_count": 26
        }
      ]
    },
    {
      "cell_type": "code",
      "source": [
        "dataset_cleaned_rows = dataset.dropna()\n",
        "dataset_cleaned_columns = dataset.dropna(axis=1)"
      ],
      "metadata": {
        "id": "orTCxJJh_hYG"
      },
      "execution_count": null,
      "outputs": []
    },
    {
      "cell_type": "markdown",
      "source": [
        "# PRE-PROCESSING"
      ],
      "metadata": {
        "id": "MkjXn9qzHwJK"
      }
    },
    {
      "cell_type": "code",
      "source": [
        "def DataPrep(full_text) :\n",
        "    full_text = re.sub('<.*?>', '', full_text)\n",
        "    full_text = re.sub(r'http\\S+', '', full_text)\n",
        "    full_text = re.sub(r'@\\S+', '', full_text)\n",
        "    full_text = re.sub(r'#\\S+', '', full_text)\n",
        "    full_text = re.sub(r'\\d+', '', full_text)\n",
        "    full_text = re.sub(r'[^\\w\\s]', '', full_text)\n",
        "    full_text = re.sub(r'@(\\w+)', '', full_text)\n",
        "\n",
        "    #tokenize\n",
        "    tokens = nltk.word_tokenize(full_text)\n",
        "\n",
        "    #remove puncs\n",
        "    punc = list(punctuation)\n",
        "    words = [w for w in tokens if w not in punc]\n",
        "\n",
        "    #remove stop words\n",
        "    stop_words = set(stopwords.words('indonesian'))\n",
        "    words = [w.lower() for w in words if not w.lower() in stop_words]\n",
        "\n",
        "    # lemmatization\n",
        "    factory = StemmerFactory()\n",
        "    stemmer = factory.create_stemmer()\n",
        "    stemming_tokens = [stemmer.stem(token) for token in words]\n",
        "\n",
        "    text = ' '.join(stemming_tokens)\n",
        "\n",
        "\n",
        "    return text"
      ],
      "metadata": {
        "id": "AgnfSpKV_4ZV"
      },
      "execution_count": null,
      "outputs": []
    },
    {
      "cell_type": "code",
      "source": [
        "dataset['full_text'] = dataset['full_text'].astype(str).apply(DataPrep)"
      ],
      "metadata": {
        "id": "kzTAlrYIBdHE"
      },
      "execution_count": null,
      "outputs": []
    },
    {
      "cell_type": "code",
      "source": [
        "print(dataset['full_text'])"
      ],
      "metadata": {
        "colab": {
          "base_uri": "https://localhost:8080/"
        },
        "id": "KL0Ukv-WBv95",
        "outputId": "019e67d1-25e8-4fa3-83f3-58c02e00795a"
      },
      "execution_count": null,
      "outputs": [
        {
          "output_type": "stream",
          "name": "stdout",
          "text": [
            "0       stop klitih lapis masyarakat yogyakarta satu l...\n",
            "1               the center of education klitih yogyakarta\n",
            "2       oke kemarin akun ig sangar mengatasnamakan gan...\n",
            "3       minton nemu dokumenter pendek judul klitih war...\n",
            "4       geng kondang yogyakarta qzruh joxzin akar klit...\n",
            "                              ...                        \n",
            "1089    daridulu jogja bentrok tawur ajar klitih jadi ...\n",
            "1090    yg bikin anak ajar klitih gengster jahat orang...\n",
            "1091    nek nang jatim sing kerep mlebu berita tawur g...\n",
            "1092                     gudeg malioboro kota ajar klitih\n",
            "1093    alas kuliah amerika ngeri aman ajar klitih pak...\n",
            "Name: full_text, Length: 1094, dtype: object\n"
          ]
        }
      ]
    },
    {
      "cell_type": "markdown",
      "source": [
        "## REMOVE DUPLICATE"
      ],
      "metadata": {
        "id": "C_JXG_7oyfIi"
      }
    },
    {
      "cell_type": "code",
      "source": [
        "print(f'There are around {int(dataset[\"full_text\"].duplicated().sum())} duplicated tweets, we will remove them.')"
      ],
      "metadata": {
        "colab": {
          "base_uri": "https://localhost:8080/"
        },
        "id": "bOQ_zmHbG_lB",
        "outputId": "218826f0-d873-4d98-8b4b-269542b0d196"
      },
      "execution_count": null,
      "outputs": [
        {
          "output_type": "stream",
          "name": "stdout",
          "text": [
            "There are around 197 duplicated tweets, we will remove them.\n"
          ]
        }
      ]
    },
    {
      "cell_type": "code",
      "source": [
        "dataset.drop_duplicates(\"full_text\", inplace=True)"
      ],
      "metadata": {
        "id": "AsyFeC_hHazN"
      },
      "execution_count": null,
      "outputs": []
    },
    {
      "cell_type": "code",
      "source": [
        "print(f'There are around {int(dataset[\"full_text\"].duplicated().sum())} duplicated tweets, we will remove them.')"
      ],
      "metadata": {
        "colab": {
          "base_uri": "https://localhost:8080/"
        },
        "id": "MZLQ0lE5HdPT",
        "outputId": "8bf24c42-c207-4b0e-92d6-f50b406d7c41"
      },
      "execution_count": null,
      "outputs": [
        {
          "output_type": "stream",
          "name": "stdout",
          "text": [
            "There are around 0 duplicated tweets, we will remove them.\n"
          ]
        }
      ]
    },
    {
      "cell_type": "markdown",
      "source": [
        "# LABELLING\n",
        "Labeling using Valence Aware Dictionary for Sentiment Reasoning (VADER) into 2 classes: Rawan and Kurang rawan"
      ],
      "metadata": {
        "id": "5kmQ1a-2Hht8"
      }
    },
    {
      "cell_type": "code",
      "source": [
        "from nltk.sentiment.vader import SentimentIntensityAnalyzer"
      ],
      "metadata": {
        "id": "t8DLYcKFHfgt"
      },
      "execution_count": null,
      "outputs": []
    },
    {
      "cell_type": "code",
      "source": [
        "# Inisialisasi VADER\n",
        "sia = SentimentIntensityAnalyzer()\n",
        "\n",
        "# Fungsi untuk menentukan kategori urgent atau tidak urgent berdasarkan sentimen\n",
        "def categorize_sentiment(row, urgent_words=None):\n",
        "    sentiment_scores = sia.polarity_scores(row['full_text'])\n",
        "\n",
        "    # Jika terdapat kata-kata tertentu dalam kalimat, kategorikan sebagai 'urgent'\n",
        "    if urgent_words and any(word in row['full_text'] for word in urgent_words):\n",
        "        return 'rawan'\n",
        "    # Jika nilai sentimen negatif lebih tinggi, kategorikan sebagai 'urgent'\n",
        "    elif sentiment_scores['neg'] > sentiment_scores['pos']:\n",
        "        return 'rawan'\n",
        "    else:\n",
        "        return 'kurang rawan'\n",
        "\n",
        "# Terapkan fungsi pada setiap baris data untuk menentukan kategori\n",
        "# Di sini, kita memberikan daftar kata-kata mendesak sebagai contoh, Anda dapat mengubahnya sesuai kebutuhan\n",
        "urgent_keywords = [\"klitih\", \"sajam\", \"bahaya\", \"ngeri\", \"mati\", \"korban\", \"tersangka\"]\n",
        "dataset['label'] = dataset.apply(lambda row: categorize_sentiment(row, urgent_words=urgent_keywords), axis=1)\n",
        "\n",
        "# Tampilkan data yang telah ditambahkan kategori urgent atau tidak urgent\n",
        "print(dataset[['full_text', 'label']])"
      ],
      "metadata": {
        "colab": {
          "base_uri": "https://localhost:8080/"
        },
        "id": "iGbltwK_ILOZ",
        "outputId": "1f7754e3-27de-44ae-e844-adca02e7e43e"
      },
      "execution_count": null,
      "outputs": [
        {
          "output_type": "stream",
          "name": "stdout",
          "text": [
            "                                              full_text  label\n",
            "0     stop klitih lapis masyarakat yogyakarta satu l...  rawan\n",
            "1             the center of education klitih yogyakarta  rawan\n",
            "2     oke kemarin akun ig sangar mengatasnamakan gan...  rawan\n",
            "3     minton nemu dokumenter pendek judul klitih war...  rawan\n",
            "4     geng kondang yogyakarta qzruh joxzin akar klit...  rawan\n",
            "...                                                 ...    ...\n",
            "1089  daridulu jogja bentrok tawur ajar klitih jadi ...  rawan\n",
            "1090  yg bikin anak ajar klitih gengster jahat orang...  rawan\n",
            "1091  nek nang jatim sing kerep mlebu berita tawur g...  rawan\n",
            "1092                   gudeg malioboro kota ajar klitih  rawan\n",
            "1093  alas kuliah amerika ngeri aman ajar klitih pak...  rawan\n",
            "\n",
            "[897 rows x 2 columns]\n"
          ]
        }
      ]
    },
    {
      "cell_type": "code",
      "source": [
        "dataset['label'].value_counts()"
      ],
      "metadata": {
        "colab": {
          "base_uri": "https://localhost:8080/"
        },
        "id": "Jx3reHkkNCah",
        "outputId": "59748586-5e3f-4843-c33a-0c8f019cadc3"
      },
      "execution_count": null,
      "outputs": [
        {
          "output_type": "execute_result",
          "data": {
            "text/plain": [
              "rawan           842\n",
              "kurang rawan     55\n",
              "Name: label, dtype: int64"
            ]
          },
          "metadata": {},
          "execution_count": 37
        }
      ]
    },
    {
      "cell_type": "code",
      "source": [
        "!pip install xlwt\n",
        "\n",
        "# Simpan dataframe yang sudah dilabeli ke file Excel\n",
        "labeled_file_path = 'unity_labeled.xls'  # Ubah ekstensi file sesuai kebutuhan, misalnya .xls atau .xlsx\n",
        "dataset.to_excel(labeled_file_path, index=False)\n",
        "\n",
        "# Berikan tautan untuk mengunduh file labeled Excel\n",
        "download_link = f'Klik di sini untuk mengunduh file labeled Excel.'"
      ],
      "metadata": {
        "colab": {
          "base_uri": "https://localhost:8080/"
        },
        "id": "5xOf4tEINttb",
        "outputId": "e3d5dccc-4ea1-4f44-9cb8-969c08d1356e"
      },
      "execution_count": null,
      "outputs": [
        {
          "output_type": "stream",
          "name": "stdout",
          "text": [
            "Collecting xlwt\n",
            "  Downloading xlwt-1.3.0-py2.py3-none-any.whl (99 kB)\n",
            "\u001b[2K     \u001b[90m━━━━━━━━━━━━━━━━━━━━━━━━━━━━━━━━━━━━━━━━\u001b[0m \u001b[32m100.0/100.0 kB\u001b[0m \u001b[31m1.2 MB/s\u001b[0m eta \u001b[36m0:00:00\u001b[0m\n",
            "\u001b[?25hInstalling collected packages: xlwt\n",
            "Successfully installed xlwt-1.3.0\n"
          ]
        },
        {
          "output_type": "stream",
          "name": "stderr",
          "text": [
            "<ipython-input-38-b4d7e2d5b052>:5: FutureWarning: As the xlwt package is no longer maintained, the xlwt engine will be removed in a future version of pandas. This is the only engine in pandas that supports writing in the xls format. Install openpyxl and write to an xlsx file instead. You can set the option io.excel.xls.writer to 'xlwt' to silence this warning. While this option is deprecated and will also raise a warning, it can be globally set and the warning suppressed.\n",
            "  dataset.to_excel(labeled_file_path, index=False)\n"
          ]
        }
      ]
    },
    {
      "cell_type": "markdown",
      "source": [
        "## LOAD DATASET LABELED"
      ],
      "metadata": {
        "id": "iSXOpr2kQOuE"
      }
    },
    {
      "cell_type": "code",
      "source": [
        "import pandas as pd\n",
        "import numpy as np\n",
        "import matplotlib.pyplot as plt\n",
        "import seaborn as sns\n",
        "\n",
        "from sklearn.feature_extraction.text import TfidfVectorizer\n",
        "from sklearn.model_selection import train_test_split\n",
        "from sklearn.preprocessing import LabelEncoder\n",
        "from sklearn.metrics import confusion_matrix, classification_report, accuracy_score\n",
        "\n",
        "from sklearn.linear_model import LogisticRegression\n",
        "from sklearn.svm import SVC\n",
        "from sklearn.ensemble import RandomForestClassifier\n",
        "from sklearn.tree import DecisionTreeClassifier\n",
        "\n",
        "lb = LabelEncoder()"
      ],
      "metadata": {
        "id": "D_191prOP_7M"
      },
      "execution_count": null,
      "outputs": []
    },
    {
      "cell_type": "code",
      "source": [
        "dataset_label = pd.read_excel('/content/unity_labeled.xls')\n",
        "dataset_label.head()"
      ],
      "metadata": {
        "colab": {
          "base_uri": "https://localhost:8080/",
          "height": 434
        },
        "id": "X5UOYQhgQKiv",
        "outputId": "1f518e20-f514-41ef-d7f8-b92be48dbfb3"
      },
      "execution_count": null,
      "outputs": [
        {
          "output_type": "execute_result",
          "data": {
            "text/plain": [
              "   conversation_id_str                      created_at  favorite_count  \\\n",
              "0  1220000000000000000  Mon Feb 03 10:12:57 +0000 2020            2759   \n",
              "1  1700000000000000000  Wed Sep 13 02:38:26 +0000 2023            3704   \n",
              "2  1380000000000000000  Wed Apr 21 04:30:41 +0000 2021            1685   \n",
              "3  1510000000000000000  Tue Apr 05 05:27:14 +0000 2022            7286   \n",
              "4  1620000000000000000  Sat Feb 11 01:47:29 +0000 2023              86   \n",
              "\n",
              "                                           full_text        id_str  \\\n",
              "0  stop klitih lapis masyarakat yogyakarta satu l...  1.220000e+18   \n",
              "1          the center of education klitih yogyakarta  1.700000e+18   \n",
              "2  oke kemarin akun ig sangar mengatasnamakan gan...  1.380000e+18   \n",
              "3  minton nemu dokumenter pendek judul klitih war...  1.510000e+18   \n",
              "4  geng kondang yogyakarta qzruh joxzin akar klit...  1.620000e+18   \n",
              "\n",
              "                                           image_url in_reply_to_screen_name  \\\n",
              "0  https://pbs.twimg.com/ext_tw_video_thumb/12242...                     NaN   \n",
              "1    https://pbs.twimg.com/media/F531qX0bsAAyz6K.jpg                     NaN   \n",
              "2    https://pbs.twimg.com/media/EzeJL_bVEAcwTpk.jpg                     NaN   \n",
              "3    https://pbs.twimg.com/media/FPjo-rnaQAA1hCH.jpg                     NaN   \n",
              "4                                                NaN                     NaN   \n",
              "\n",
              "  lang               location  quote_count  reply_count  retweet_count  \\\n",
              "0   in                    NaN         79.0         79.0         1386.0   \n",
              "1   in              indonesia        294.0         75.0          728.0   \n",
              "2   in  Yogyakarta, Indonesia         97.0        135.0          624.0   \n",
              "3   in              Indonesia         97.0         47.0         2042.0   \n",
              "4   in                Kebumen          8.0         27.0           23.0   \n",
              "\n",
              "                                           tweet_url   user_id_str  \\\n",
              "0  https://twitter.com/Mbendol52768653/status/122...  1.210000e+18   \n",
              "1  https://twitter.com/weebsalter/status/17017873...  1.220000e+18   \n",
              "2  https://twitter.com/txtfromjogja/status/138472...  1.360000e+18   \n",
              "3  https://twitter.com/HabisNontonFilm/status/151...  1.080000e+18   \n",
              "4  https://twitter.com/widodogroho/status/1624223...  1.440265e+08   \n",
              "\n",
              "          username  label  \n",
              "0  Mbendol52768653  rawan  \n",
              "1       weebsalter  rawan  \n",
              "2     txtfromjogja  rawan  \n",
              "3  HabisNontonFilm  rawan  \n",
              "4      widodogroho  rawan  "
            ],
            "text/html": [
              "\n",
              "  <div id=\"df-906b2677-cd32-4958-9707-b5ccb44e0d4a\" class=\"colab-df-container\">\n",
              "    <div>\n",
              "<style scoped>\n",
              "    .dataframe tbody tr th:only-of-type {\n",
              "        vertical-align: middle;\n",
              "    }\n",
              "\n",
              "    .dataframe tbody tr th {\n",
              "        vertical-align: top;\n",
              "    }\n",
              "\n",
              "    .dataframe thead th {\n",
              "        text-align: right;\n",
              "    }\n",
              "</style>\n",
              "<table border=\"1\" class=\"dataframe\">\n",
              "  <thead>\n",
              "    <tr style=\"text-align: right;\">\n",
              "      <th></th>\n",
              "      <th>conversation_id_str</th>\n",
              "      <th>created_at</th>\n",
              "      <th>favorite_count</th>\n",
              "      <th>full_text</th>\n",
              "      <th>id_str</th>\n",
              "      <th>image_url</th>\n",
              "      <th>in_reply_to_screen_name</th>\n",
              "      <th>lang</th>\n",
              "      <th>location</th>\n",
              "      <th>quote_count</th>\n",
              "      <th>reply_count</th>\n",
              "      <th>retweet_count</th>\n",
              "      <th>tweet_url</th>\n",
              "      <th>user_id_str</th>\n",
              "      <th>username</th>\n",
              "      <th>label</th>\n",
              "    </tr>\n",
              "  </thead>\n",
              "  <tbody>\n",
              "    <tr>\n",
              "      <th>0</th>\n",
              "      <td>1220000000000000000</td>\n",
              "      <td>Mon Feb 03 10:12:57 +0000 2020</td>\n",
              "      <td>2759</td>\n",
              "      <td>stop klitih lapis masyarakat yogyakarta satu l...</td>\n",
              "      <td>1.220000e+18</td>\n",
              "      <td>https://pbs.twimg.com/ext_tw_video_thumb/12242...</td>\n",
              "      <td>NaN</td>\n",
              "      <td>in</td>\n",
              "      <td>NaN</td>\n",
              "      <td>79.0</td>\n",
              "      <td>79.0</td>\n",
              "      <td>1386.0</td>\n",
              "      <td>https://twitter.com/Mbendol52768653/status/122...</td>\n",
              "      <td>1.210000e+18</td>\n",
              "      <td>Mbendol52768653</td>\n",
              "      <td>rawan</td>\n",
              "    </tr>\n",
              "    <tr>\n",
              "      <th>1</th>\n",
              "      <td>1700000000000000000</td>\n",
              "      <td>Wed Sep 13 02:38:26 +0000 2023</td>\n",
              "      <td>3704</td>\n",
              "      <td>the center of education klitih yogyakarta</td>\n",
              "      <td>1.700000e+18</td>\n",
              "      <td>https://pbs.twimg.com/media/F531qX0bsAAyz6K.jpg</td>\n",
              "      <td>NaN</td>\n",
              "      <td>in</td>\n",
              "      <td>indonesia</td>\n",
              "      <td>294.0</td>\n",
              "      <td>75.0</td>\n",
              "      <td>728.0</td>\n",
              "      <td>https://twitter.com/weebsalter/status/17017873...</td>\n",
              "      <td>1.220000e+18</td>\n",
              "      <td>weebsalter</td>\n",
              "      <td>rawan</td>\n",
              "    </tr>\n",
              "    <tr>\n",
              "      <th>2</th>\n",
              "      <td>1380000000000000000</td>\n",
              "      <td>Wed Apr 21 04:30:41 +0000 2021</td>\n",
              "      <td>1685</td>\n",
              "      <td>oke kemarin akun ig sangar mengatasnamakan gan...</td>\n",
              "      <td>1.380000e+18</td>\n",
              "      <td>https://pbs.twimg.com/media/EzeJL_bVEAcwTpk.jpg</td>\n",
              "      <td>NaN</td>\n",
              "      <td>in</td>\n",
              "      <td>Yogyakarta, Indonesia</td>\n",
              "      <td>97.0</td>\n",
              "      <td>135.0</td>\n",
              "      <td>624.0</td>\n",
              "      <td>https://twitter.com/txtfromjogja/status/138472...</td>\n",
              "      <td>1.360000e+18</td>\n",
              "      <td>txtfromjogja</td>\n",
              "      <td>rawan</td>\n",
              "    </tr>\n",
              "    <tr>\n",
              "      <th>3</th>\n",
              "      <td>1510000000000000000</td>\n",
              "      <td>Tue Apr 05 05:27:14 +0000 2022</td>\n",
              "      <td>7286</td>\n",
              "      <td>minton nemu dokumenter pendek judul klitih war...</td>\n",
              "      <td>1.510000e+18</td>\n",
              "      <td>https://pbs.twimg.com/media/FPjo-rnaQAA1hCH.jpg</td>\n",
              "      <td>NaN</td>\n",
              "      <td>in</td>\n",
              "      <td>Indonesia</td>\n",
              "      <td>97.0</td>\n",
              "      <td>47.0</td>\n",
              "      <td>2042.0</td>\n",
              "      <td>https://twitter.com/HabisNontonFilm/status/151...</td>\n",
              "      <td>1.080000e+18</td>\n",
              "      <td>HabisNontonFilm</td>\n",
              "      <td>rawan</td>\n",
              "    </tr>\n",
              "    <tr>\n",
              "      <th>4</th>\n",
              "      <td>1620000000000000000</td>\n",
              "      <td>Sat Feb 11 01:47:29 +0000 2023</td>\n",
              "      <td>86</td>\n",
              "      <td>geng kondang yogyakarta qzruh joxzin akar klit...</td>\n",
              "      <td>1.620000e+18</td>\n",
              "      <td>NaN</td>\n",
              "      <td>NaN</td>\n",
              "      <td>in</td>\n",
              "      <td>Kebumen</td>\n",
              "      <td>8.0</td>\n",
              "      <td>27.0</td>\n",
              "      <td>23.0</td>\n",
              "      <td>https://twitter.com/widodogroho/status/1624223...</td>\n",
              "      <td>1.440265e+08</td>\n",
              "      <td>widodogroho</td>\n",
              "      <td>rawan</td>\n",
              "    </tr>\n",
              "  </tbody>\n",
              "</table>\n",
              "</div>\n",
              "    <div class=\"colab-df-buttons\">\n",
              "\n",
              "  <div class=\"colab-df-container\">\n",
              "    <button class=\"colab-df-convert\" onclick=\"convertToInteractive('df-906b2677-cd32-4958-9707-b5ccb44e0d4a')\"\n",
              "            title=\"Convert this dataframe to an interactive table.\"\n",
              "            style=\"display:none;\">\n",
              "\n",
              "  <svg xmlns=\"http://www.w3.org/2000/svg\" height=\"24px\" viewBox=\"0 -960 960 960\">\n",
              "    <path d=\"M120-120v-720h720v720H120Zm60-500h600v-160H180v160Zm220 220h160v-160H400v160Zm0 220h160v-160H400v160ZM180-400h160v-160H180v160Zm440 0h160v-160H620v160ZM180-180h160v-160H180v160Zm440 0h160v-160H620v160Z\"/>\n",
              "  </svg>\n",
              "    </button>\n",
              "\n",
              "  <style>\n",
              "    .colab-df-container {\n",
              "      display:flex;\n",
              "      gap: 12px;\n",
              "    }\n",
              "\n",
              "    .colab-df-convert {\n",
              "      background-color: #E8F0FE;\n",
              "      border: none;\n",
              "      border-radius: 50%;\n",
              "      cursor: pointer;\n",
              "      display: none;\n",
              "      fill: #1967D2;\n",
              "      height: 32px;\n",
              "      padding: 0 0 0 0;\n",
              "      width: 32px;\n",
              "    }\n",
              "\n",
              "    .colab-df-convert:hover {\n",
              "      background-color: #E2EBFA;\n",
              "      box-shadow: 0px 1px 2px rgba(60, 64, 67, 0.3), 0px 1px 3px 1px rgba(60, 64, 67, 0.15);\n",
              "      fill: #174EA6;\n",
              "    }\n",
              "\n",
              "    .colab-df-buttons div {\n",
              "      margin-bottom: 4px;\n",
              "    }\n",
              "\n",
              "    [theme=dark] .colab-df-convert {\n",
              "      background-color: #3B4455;\n",
              "      fill: #D2E3FC;\n",
              "    }\n",
              "\n",
              "    [theme=dark] .colab-df-convert:hover {\n",
              "      background-color: #434B5C;\n",
              "      box-shadow: 0px 1px 3px 1px rgba(0, 0, 0, 0.15);\n",
              "      filter: drop-shadow(0px 1px 2px rgba(0, 0, 0, 0.3));\n",
              "      fill: #FFFFFF;\n",
              "    }\n",
              "  </style>\n",
              "\n",
              "    <script>\n",
              "      const buttonEl =\n",
              "        document.querySelector('#df-906b2677-cd32-4958-9707-b5ccb44e0d4a button.colab-df-convert');\n",
              "      buttonEl.style.display =\n",
              "        google.colab.kernel.accessAllowed ? 'block' : 'none';\n",
              "\n",
              "      async function convertToInteractive(key) {\n",
              "        const element = document.querySelector('#df-906b2677-cd32-4958-9707-b5ccb44e0d4a');\n",
              "        const dataTable =\n",
              "          await google.colab.kernel.invokeFunction('convertToInteractive',\n",
              "                                                    [key], {});\n",
              "        if (!dataTable) return;\n",
              "\n",
              "        const docLinkHtml = 'Like what you see? Visit the ' +\n",
              "          '<a target=\"_blank\" href=https://colab.research.google.com/notebooks/data_table.ipynb>data table notebook</a>'\n",
              "          + ' to learn more about interactive tables.';\n",
              "        element.innerHTML = '';\n",
              "        dataTable['output_type'] = 'display_data';\n",
              "        await google.colab.output.renderOutput(dataTable, element);\n",
              "        const docLink = document.createElement('div');\n",
              "        docLink.innerHTML = docLinkHtml;\n",
              "        element.appendChild(docLink);\n",
              "      }\n",
              "    </script>\n",
              "  </div>\n",
              "\n",
              "\n",
              "<div id=\"df-d1e449bd-0395-48a4-bdc3-9902a2569a37\">\n",
              "  <button class=\"colab-df-quickchart\" onclick=\"quickchart('df-d1e449bd-0395-48a4-bdc3-9902a2569a37')\"\n",
              "            title=\"Suggest charts\"\n",
              "            style=\"display:none;\">\n",
              "\n",
              "<svg xmlns=\"http://www.w3.org/2000/svg\" height=\"24px\"viewBox=\"0 0 24 24\"\n",
              "     width=\"24px\">\n",
              "    <g>\n",
              "        <path d=\"M19 3H5c-1.1 0-2 .9-2 2v14c0 1.1.9 2 2 2h14c1.1 0 2-.9 2-2V5c0-1.1-.9-2-2-2zM9 17H7v-7h2v7zm4 0h-2V7h2v10zm4 0h-2v-4h2v4z\"/>\n",
              "    </g>\n",
              "</svg>\n",
              "  </button>\n",
              "\n",
              "<style>\n",
              "  .colab-df-quickchart {\n",
              "      --bg-color: #E8F0FE;\n",
              "      --fill-color: #1967D2;\n",
              "      --hover-bg-color: #E2EBFA;\n",
              "      --hover-fill-color: #174EA6;\n",
              "      --disabled-fill-color: #AAA;\n",
              "      --disabled-bg-color: #DDD;\n",
              "  }\n",
              "\n",
              "  [theme=dark] .colab-df-quickchart {\n",
              "      --bg-color: #3B4455;\n",
              "      --fill-color: #D2E3FC;\n",
              "      --hover-bg-color: #434B5C;\n",
              "      --hover-fill-color: #FFFFFF;\n",
              "      --disabled-bg-color: #3B4455;\n",
              "      --disabled-fill-color: #666;\n",
              "  }\n",
              "\n",
              "  .colab-df-quickchart {\n",
              "    background-color: var(--bg-color);\n",
              "    border: none;\n",
              "    border-radius: 50%;\n",
              "    cursor: pointer;\n",
              "    display: none;\n",
              "    fill: var(--fill-color);\n",
              "    height: 32px;\n",
              "    padding: 0;\n",
              "    width: 32px;\n",
              "  }\n",
              "\n",
              "  .colab-df-quickchart:hover {\n",
              "    background-color: var(--hover-bg-color);\n",
              "    box-shadow: 0 1px 2px rgba(60, 64, 67, 0.3), 0 1px 3px 1px rgba(60, 64, 67, 0.15);\n",
              "    fill: var(--button-hover-fill-color);\n",
              "  }\n",
              "\n",
              "  .colab-df-quickchart-complete:disabled,\n",
              "  .colab-df-quickchart-complete:disabled:hover {\n",
              "    background-color: var(--disabled-bg-color);\n",
              "    fill: var(--disabled-fill-color);\n",
              "    box-shadow: none;\n",
              "  }\n",
              "\n",
              "  .colab-df-spinner {\n",
              "    border: 2px solid var(--fill-color);\n",
              "    border-color: transparent;\n",
              "    border-bottom-color: var(--fill-color);\n",
              "    animation:\n",
              "      spin 1s steps(1) infinite;\n",
              "  }\n",
              "\n",
              "  @keyframes spin {\n",
              "    0% {\n",
              "      border-color: transparent;\n",
              "      border-bottom-color: var(--fill-color);\n",
              "      border-left-color: var(--fill-color);\n",
              "    }\n",
              "    20% {\n",
              "      border-color: transparent;\n",
              "      border-left-color: var(--fill-color);\n",
              "      border-top-color: var(--fill-color);\n",
              "    }\n",
              "    30% {\n",
              "      border-color: transparent;\n",
              "      border-left-color: var(--fill-color);\n",
              "      border-top-color: var(--fill-color);\n",
              "      border-right-color: var(--fill-color);\n",
              "    }\n",
              "    40% {\n",
              "      border-color: transparent;\n",
              "      border-right-color: var(--fill-color);\n",
              "      border-top-color: var(--fill-color);\n",
              "    }\n",
              "    60% {\n",
              "      border-color: transparent;\n",
              "      border-right-color: var(--fill-color);\n",
              "    }\n",
              "    80% {\n",
              "      border-color: transparent;\n",
              "      border-right-color: var(--fill-color);\n",
              "      border-bottom-color: var(--fill-color);\n",
              "    }\n",
              "    90% {\n",
              "      border-color: transparent;\n",
              "      border-bottom-color: var(--fill-color);\n",
              "    }\n",
              "  }\n",
              "</style>\n",
              "\n",
              "  <script>\n",
              "    async function quickchart(key) {\n",
              "      const quickchartButtonEl =\n",
              "        document.querySelector('#' + key + ' button');\n",
              "      quickchartButtonEl.disabled = true;  // To prevent multiple clicks.\n",
              "      quickchartButtonEl.classList.add('colab-df-spinner');\n",
              "      try {\n",
              "        const charts = await google.colab.kernel.invokeFunction(\n",
              "            'suggestCharts', [key], {});\n",
              "      } catch (error) {\n",
              "        console.error('Error during call to suggestCharts:', error);\n",
              "      }\n",
              "      quickchartButtonEl.classList.remove('colab-df-spinner');\n",
              "      quickchartButtonEl.classList.add('colab-df-quickchart-complete');\n",
              "    }\n",
              "    (() => {\n",
              "      let quickchartButtonEl =\n",
              "        document.querySelector('#df-d1e449bd-0395-48a4-bdc3-9902a2569a37 button');\n",
              "      quickchartButtonEl.style.display =\n",
              "        google.colab.kernel.accessAllowed ? 'block' : 'none';\n",
              "    })();\n",
              "  </script>\n",
              "</div>\n",
              "    </div>\n",
              "  </div>\n"
            ],
            "application/vnd.google.colaboratory.intrinsic+json": {
              "type": "dataframe",
              "variable_name": "dataset_label",
              "summary": "{\n  \"name\": \"dataset_label\",\n  \"rows\": 897,\n  \"fields\": [\n    {\n      \"column\": \"conversation_id_str\",\n      \"properties\": {\n        \"dtype\": \"number\",\n        \"std\": 253302544987808000,\n        \"min\": 215834000000000000,\n        \"max\": 1780000000000000000,\n        \"num_unique_values\": 633,\n        \"samples\": [\n          1502330000000000000,\n          1692740000000000000,\n          576390742274265024\n        ],\n        \"semantic_type\": \"\",\n        \"description\": \"\"\n      }\n    },\n    {\n      \"column\": \"created_at\",\n      \"properties\": {\n        \"dtype\": \"object\",\n        \"num_unique_values\": 897,\n        \"samples\": [\n          \"Sat Mar 30 18:57:53 +0000 2024\",\n          \"Fri Mar 29 03:17:12 +0000 2024\",\n          \"Sun Mar 31 08:01:47 +0000 2024\"\n        ],\n        \"semantic_type\": \"\",\n        \"description\": \"\"\n      }\n    },\n    {\n      \"column\": \"favorite_count\",\n      \"properties\": {\n        \"dtype\": \"number\",\n        \"std\": 549,\n        \"min\": 0,\n        \"max\": 9808,\n        \"num_unique_values\": 160,\n        \"samples\": [\n          491,\n          23,\n          835\n        ],\n        \"semantic_type\": \"\",\n        \"description\": \"\"\n      }\n    },\n    {\n      \"column\": \"full_text\",\n      \"properties\": {\n        \"dtype\": \"string\",\n        \"num_unique_values\": 897,\n        \"samples\": [\n          \"komen tiktok rombong bal bukber dikiro klitih\",\n          \"kopas ustadz ngiang aja bela mahfud dgr anak madura heroik korban begal tsk\",\n          \"iya ga rutin begalklitih gimana kalo kena yg gin rmang hindar aja kayak\"\n        ],\n        \"semantic_type\": \"\",\n        \"description\": \"\"\n      }\n    },\n    {\n      \"column\": \"id_str\",\n      \"properties\": {\n        \"dtype\": \"number\",\n        \"std\": 2.5143441282762742e+17,\n        \"min\": 2.15834e+17,\n        \"max\": 1.78e+18,\n        \"num_unique_values\": 677,\n        \"samples\": [\n          1.46455060589709e+18,\n          1.51751e+18,\n          1.77263e+18\n        ],\n        \"semantic_type\": \"\",\n        \"description\": \"\"\n      }\n    },\n    {\n      \"column\": \"image_url\",\n      \"properties\": {\n        \"dtype\": \"category\",\n        \"num_unique_values\": 147,\n        \"samples\": [\n          \"https://pbs.twimg.com/media/FPtdcSzaQAU8fJ-.png\",\n          \"https://pbs.twimg.com/media/FjgUh-nagAImIxE.jpg\",\n          \"https://pbs.twimg.com/media/FsJjZIbakAEQL4X.jpg\"\n        ],\n        \"semantic_type\": \"\",\n        \"description\": \"\"\n      }\n    },\n    {\n      \"column\": \"in_reply_to_screen_name\",\n      \"properties\": {\n        \"dtype\": \"category\",\n        \"num_unique_values\": 197,\n        \"samples\": [\n          \"PakdeYanto8\",\n          \"hellofuu__\",\n          \"tanyarlfes\"\n        ],\n        \"semantic_type\": \"\",\n        \"description\": \"\"\n      }\n    },\n    {\n      \"column\": \"lang\",\n      \"properties\": {\n        \"dtype\": \"category\",\n        \"num_unique_values\": 1,\n        \"samples\": [\n          \"in\"\n        ],\n        \"semantic_type\": \"\",\n        \"description\": \"\"\n      }\n    },\n    {\n      \"column\": \"location\",\n      \"properties\": {\n        \"dtype\": \"category\",\n        \"num_unique_values\": 310,\n        \"samples\": [\n          \"Jakarta Selatan\"\n        ],\n        \"semantic_type\": \"\",\n        \"description\": \"\"\n      }\n    },\n    {\n      \"column\": \"quote_count\",\n      \"properties\": {\n        \"dtype\": \"number\",\n        \"std\": 23.049612021275053,\n        \"min\": 0.0,\n        \"max\": 294.0,\n        \"num_unique_values\": 41,\n        \"samples\": [\n          9.0\n        ],\n        \"semantic_type\": \"\",\n        \"description\": \"\"\n      }\n    },\n    {\n      \"column\": \"reply_count\",\n      \"properties\": {\n        \"dtype\": \"number\",\n        \"std\": 53.64551938142122,\n        \"min\": 0.0,\n        \"max\": 1345.0,\n        \"num_unique_values\": 61,\n        \"samples\": [\n          79.0\n        ],\n        \"semantic_type\": \"\",\n        \"description\": \"\"\n      }\n    },\n    {\n      \"column\": \"retweet_count\",\n      \"properties\": {\n        \"dtype\": \"number\",\n        \"std\": 114.8550457876598,\n        \"min\": 0.0,\n        \"max\": 2042.0,\n        \"num_unique_values\": 82,\n        \"samples\": [\n          0.0\n        ],\n        \"semantic_type\": \"\",\n        \"description\": \"\"\n      }\n    },\n    {\n      \"column\": \"tweet_url\",\n      \"properties\": {\n        \"dtype\": \"string\",\n        \"num_unique_values\": 872,\n        \"samples\": [\n          \"https://twitter.com/Jogjakita_apps/status/1511614821795602433\"\n        ],\n        \"semantic_type\": \"\",\n        \"description\": \"\"\n      }\n    },\n    {\n      \"column\": \"user_id_str\",\n      \"properties\": {\n        \"dtype\": \"number\",\n        \"std\": 6.674327110268673e+17,\n        \"min\": 17128975.0,\n        \"max\": 1.76537e+18,\n        \"num_unique_values\": 721,\n        \"samples\": [\n          1.58818e+18\n        ],\n        \"semantic_type\": \"\",\n        \"description\": \"\"\n      }\n    },\n    {\n      \"column\": \"username\",\n      \"properties\": {\n        \"dtype\": \"string\",\n        \"num_unique_values\": 719,\n        \"samples\": [\n          \"andikaanyn\"\n        ],\n        \"semantic_type\": \"\",\n        \"description\": \"\"\n      }\n    },\n    {\n      \"column\": \"label\",\n      \"properties\": {\n        \"dtype\": \"category\",\n        \"num_unique_values\": 2,\n        \"samples\": [\n          \"kurang rawan\"\n        ],\n        \"semantic_type\": \"\",\n        \"description\": \"\"\n      }\n    }\n  ]\n}"
            }
          },
          "metadata": {},
          "execution_count": 4
        }
      ]
    },
    {
      "cell_type": "markdown",
      "source": [
        "## SPLIT DATASET\n",
        "Split the dataset into 80% for training data and 20% for testing data"
      ],
      "metadata": {
        "id": "691JEZe8VpKW"
      }
    },
    {
      "cell_type": "code",
      "source": [
        "X = dataset_label['full_text'].tolist()\n",
        "y = dataset_label['label']\n",
        "X_train, X_test, y_train, y_test = train_test_split(X, y, test_size=0.2, random_state=42)"
      ],
      "metadata": {
        "id": "FPnWZ_s9Q-Bb"
      },
      "execution_count": null,
      "outputs": []
    },
    {
      "cell_type": "code",
      "source": [
        "# Jumlah data latih\n",
        "num_train = len(X_train)\n",
        "print(\"Jumlah data latih:\", num_train)\n",
        "\n",
        "# Jumlah data uji\n",
        "num_test = len(X_test)\n",
        "print(\"Jumlah data uji:\", num_test)"
      ],
      "metadata": {
        "colab": {
          "base_uri": "https://localhost:8080/"
        },
        "id": "DziKWhwCRG7m",
        "outputId": "d8ef9537-c91c-4548-bd22-3914aa28548a"
      },
      "execution_count": null,
      "outputs": [
        {
          "output_type": "stream",
          "name": "stdout",
          "text": [
            "Jumlah data latih: 717\n",
            "Jumlah data uji: 180\n"
          ]
        }
      ]
    },
    {
      "cell_type": "markdown",
      "source": [
        "## VECTORIZER\n",
        "The tokenized words are converted into vectors using Term Frequency-Inverse Document Frequency (TF-IDF)"
      ],
      "metadata": {
        "id": "qk7-C1TCVrI4"
      }
    },
    {
      "cell_type": "code",
      "source": [
        "vectorizer = TfidfVectorizer(ngram_range=(1,2))\n",
        "vectorizer.fit_transform(X_train)\n",
        "\n",
        "print(\"No. of feature words: \",len(vectorizer.get_feature_names_out()))"
      ],
      "metadata": {
        "colab": {
          "base_uri": "https://localhost:8080/"
        },
        "id": "yJjvSg-nRJ8G",
        "outputId": "97c65917-f80c-4635-8bba-98f8729fa3cc"
      },
      "execution_count": null,
      "outputs": [
        {
          "output_type": "stream",
          "name": "stdout",
          "text": [
            "No. of feature words:  10005\n"
          ]
        }
      ]
    },
    {
      "cell_type": "code",
      "source": [
        "x_train = vectorizer.transform(X_train).toarray()\n",
        "x_test = vectorizer.transform(X_test).toarray()"
      ],
      "metadata": {
        "id": "_6A1crq-Ulmm"
      },
      "execution_count": null,
      "outputs": []
    },
    {
      "cell_type": "code",
      "source": [
        "train_vectors = pd.DataFrame(x_train,columns=vectorizer.get_feature_names_out())"
      ],
      "metadata": {
        "id": "ptwGIXr3U9Nf"
      },
      "execution_count": null,
      "outputs": []
    },
    {
      "cell_type": "code",
      "source": [
        "for i in range(5) :\n",
        "    print(sorted(list(train_vectors.iloc[i,:]),reverse = True)[:20])\n",
        "    print('--------------------------------------------------')"
      ],
      "metadata": {
        "colab": {
          "base_uri": "https://localhost:8080/"
        },
        "id": "Mwsv2D2KVfYK",
        "outputId": "38f5b968-6d02-46d0-acbc-4af0cf6ebed4"
      },
      "execution_count": null,
      "outputs": [
        {
          "output_type": "stream",
          "name": "stdout",
          "text": [
            "[0.2622302835869305, 0.2622302835869305, 0.2622302835869305, 0.2622302835869305, 0.2622302835869305, 0.2622302835869305, 0.24678349433561952, 0.22732284138005662, 0.22732284138005662, 0.22732284138005662, 0.22732284138005662, 0.220377033695377, 0.20493024444406596, 0.2009163807398141, 0.1972853993520168, 0.18809797633442535, 0.1854695914885031, 0.17852378380382344, 0.1745099200995716, 0.1257108625233384]\n",
            "--------------------------------------------------\n",
            "[0.35460827432500996, 0.3430671474086555, 0.17153357370432776, 0.17153357370432776, 0.17153357370432776, 0.17153357370432776, 0.17153357370432776, 0.17153357370432776, 0.17153357370432776, 0.17153357370432776, 0.17153357370432776, 0.17153357370432776, 0.17153357370432776, 0.17153357370432776, 0.17153357370432776, 0.16142931371462826, 0.16142931371462826, 0.16142931371462826, 0.16142931371462826, 0.16142931371462826]\n",
            "--------------------------------------------------\n",
            "[0.37480275024169557, 0.20838571408296658, 0.20838571408296658, 0.20838571408296658, 0.20838571408296658, 0.20838571408296658, 0.20838571408296658, 0.20838571408296658, 0.20838571408296658, 0.20838571408296658, 0.20838571408296658, 0.20838571408296658, 0.20838571408296658, 0.20838571408296658, 0.20838571408296658, 0.20838571408296658, 0.20838571408296658, 0.1961106626877052, 0.18064592685630224, 0.18064592685630224]\n",
            "--------------------------------------------------\n",
            "[0.22607537718678733, 0.20639646440127932, 0.20639646440127932, 0.20639646440127932, 0.20639646440127932, 0.20639646440127932, 0.20639646440127932, 0.20639646440127932, 0.20639646440127932, 0.20639646440127932, 0.20639646440127932, 0.20639646440127932, 0.20639646440127932, 0.20639646440127932, 0.20639646440127932, 0.20639646440127932, 0.20639646440127932, 0.20639646440127932, 0.20639646440127932, 0.19423859062631774]\n",
            "--------------------------------------------------\n",
            "[1.0, 0.0, 0.0, 0.0, 0.0, 0.0, 0.0, 0.0, 0.0, 0.0, 0.0, 0.0, 0.0, 0.0, 0.0, 0.0, 0.0, 0.0, 0.0, 0.0]\n",
            "--------------------------------------------------\n"
          ]
        }
      ]
    },
    {
      "cell_type": "code",
      "source": [
        "y_train = lb.fit_transform(y_train)\n",
        "y_test = lb.fit_transform(y_test)"
      ],
      "metadata": {
        "id": "MPwTPf20ViE0"
      },
      "execution_count": null,
      "outputs": []
    },
    {
      "cell_type": "markdown",
      "source": [
        "## SMOTE\n",
        "To avoid models more likely to study certain classes (unbalanced data). Then Data Balancing is needed, one of which is by using Synthetic Minority Oversampling Technique (SMOTE)."
      ],
      "metadata": {
        "id": "hkHM9lljVlme"
      }
    },
    {
      "cell_type": "code",
      "source": [
        "from imblearn.over_sampling import SMOTE\n",
        "# Ganti Random Over Sampling dengan SMOTE\n",
        "smote = SMOTE()\n",
        "X_resampled, y_resampled = smote.fit_resample(x_train, y_train)\n",
        "\n",
        "# Buat DataFrame baru\n",
        "os = pd.DataFrame(list(zip([x[0] for x in X_resampled], y_resampled)), columns=['full_text', 'Label'])\n",
        "\n",
        "# Tampilkan distribusi kelas setelah penerapan SMOTE\n",
        "os['Label'].value_counts()"
      ],
      "metadata": {
        "colab": {
          "base_uri": "https://localhost:8080/"
        },
        "id": "m0IK6KIcVj-M",
        "outputId": "1d24281d-1532-4946-dcdd-e0df71559ca0"
      },
      "execution_count": null,
      "outputs": [
        {
          "output_type": "execute_result",
          "data": {
            "text/plain": [
              "Label\n",
              "1    674\n",
              "0    674\n",
              "Name: count, dtype: int64"
            ]
          },
          "metadata": {},
          "execution_count": 14
        }
      ]
    },
    {
      "cell_type": "markdown",
      "source": [
        "## BUILDING ENSEMBLE LEARNING MODEL\n",
        "\n",
        "A combination of Logistic Regression, Decision Tree, Random Forest, SVM, and XGBoost was developed to build an Ensemble Learning Voting Classifier Model."
      ],
      "metadata": {
        "id": "V7YP7hZI0HOu"
      }
    },
    {
      "cell_type": "code",
      "source": [
        "from xgboost import XGBClassifier\n",
        "from sklearn.ensemble import VotingClassifier\n",
        "model1 = LogisticRegression()\n",
        "model2 = DecisionTreeClassifier()\n",
        "model3 = RandomForestClassifier()\n",
        "model4 = SVC(probability=True)\n",
        "model5 = XGBClassifier(objective='binary:logistic', eval_metric='logloss')\n",
        "\n",
        "ensemble_model = VotingClassifier(estimators=[('lr', model1), ('dt', model2), ('rf', model3), ('svm', model4), ('xgb', model5)], voting='soft')\n",
        "\n",
        "ensemble_model.fit(X_resampled, y_resampled)"
      ],
      "metadata": {
        "colab": {
          "base_uri": "https://localhost:8080/",
          "height": 110
        },
        "id": "tBZFWO7xVu05",
        "outputId": "d10c760e-c019-4d3d-f8e2-d0732c0beabc"
      },
      "execution_count": null,
      "outputs": [
        {
          "output_type": "execute_result",
          "data": {
            "text/plain": [
              "VotingClassifier(estimators=[('lr', LogisticRegression()),\n",
              "                             ('dt', DecisionTreeClassifier()),\n",
              "                             ('rf', RandomForestClassifier()),\n",
              "                             ('svm', SVC(probability=True)),\n",
              "                             ('xgb',\n",
              "                              XGBClassifier(base_score=None, booster=None,\n",
              "                                            callbacks=None,\n",
              "                                            colsample_bylevel=None,\n",
              "                                            colsample_bynode=None,\n",
              "                                            colsample_bytree=None, device=None,\n",
              "                                            early_stopping_rounds=None,\n",
              "                                            enable_categorical=False,\n",
              "                                            eva...\n",
              "                                            importance_type=None,\n",
              "                                            interaction_constraints=None,\n",
              "                                            learning_rate=None, max_bin=None,\n",
              "                                            max_cat_threshold=None,\n",
              "                                            max_cat_to_onehot=None,\n",
              "                                            max_delta_step=None, max_depth=None,\n",
              "                                            max_leaves=None,\n",
              "                                            min_child_weight=None, missing=nan,\n",
              "                                            monotone_constraints=None,\n",
              "                                            multi_strategy=None,\n",
              "                                            n_estimators=None, n_jobs=None,\n",
              "                                            num_parallel_tree=None,\n",
              "                                            random_state=None, ...))],\n",
              "                 voting='soft')"
            ],
            "text/html": [
              "<style>#sk-container-id-1 {color: black;background-color: white;}#sk-container-id-1 pre{padding: 0;}#sk-container-id-1 div.sk-toggleable {background-color: white;}#sk-container-id-1 label.sk-toggleable__label {cursor: pointer;display: block;width: 100%;margin-bottom: 0;padding: 0.3em;box-sizing: border-box;text-align: center;}#sk-container-id-1 label.sk-toggleable__label-arrow:before {content: \"▸\";float: left;margin-right: 0.25em;color: #696969;}#sk-container-id-1 label.sk-toggleable__label-arrow:hover:before {color: black;}#sk-container-id-1 div.sk-estimator:hover label.sk-toggleable__label-arrow:before {color: black;}#sk-container-id-1 div.sk-toggleable__content {max-height: 0;max-width: 0;overflow: hidden;text-align: left;background-color: #f0f8ff;}#sk-container-id-1 div.sk-toggleable__content pre {margin: 0.2em;color: black;border-radius: 0.25em;background-color: #f0f8ff;}#sk-container-id-1 input.sk-toggleable__control:checked~div.sk-toggleable__content {max-height: 200px;max-width: 100%;overflow: auto;}#sk-container-id-1 input.sk-toggleable__control:checked~label.sk-toggleable__label-arrow:before {content: \"▾\";}#sk-container-id-1 div.sk-estimator input.sk-toggleable__control:checked~label.sk-toggleable__label {background-color: #d4ebff;}#sk-container-id-1 div.sk-label input.sk-toggleable__control:checked~label.sk-toggleable__label {background-color: #d4ebff;}#sk-container-id-1 input.sk-hidden--visually {border: 0;clip: rect(1px 1px 1px 1px);clip: rect(1px, 1px, 1px, 1px);height: 1px;margin: -1px;overflow: hidden;padding: 0;position: absolute;width: 1px;}#sk-container-id-1 div.sk-estimator {font-family: monospace;background-color: #f0f8ff;border: 1px dotted black;border-radius: 0.25em;box-sizing: border-box;margin-bottom: 0.5em;}#sk-container-id-1 div.sk-estimator:hover {background-color: #d4ebff;}#sk-container-id-1 div.sk-parallel-item::after {content: \"\";width: 100%;border-bottom: 1px solid gray;flex-grow: 1;}#sk-container-id-1 div.sk-label:hover label.sk-toggleable__label {background-color: #d4ebff;}#sk-container-id-1 div.sk-serial::before {content: \"\";position: absolute;border-left: 1px solid gray;box-sizing: border-box;top: 0;bottom: 0;left: 50%;z-index: 0;}#sk-container-id-1 div.sk-serial {display: flex;flex-direction: column;align-items: center;background-color: white;padding-right: 0.2em;padding-left: 0.2em;position: relative;}#sk-container-id-1 div.sk-item {position: relative;z-index: 1;}#sk-container-id-1 div.sk-parallel {display: flex;align-items: stretch;justify-content: center;background-color: white;position: relative;}#sk-container-id-1 div.sk-item::before, #sk-container-id-1 div.sk-parallel-item::before {content: \"\";position: absolute;border-left: 1px solid gray;box-sizing: border-box;top: 0;bottom: 0;left: 50%;z-index: -1;}#sk-container-id-1 div.sk-parallel-item {display: flex;flex-direction: column;z-index: 1;position: relative;background-color: white;}#sk-container-id-1 div.sk-parallel-item:first-child::after {align-self: flex-end;width: 50%;}#sk-container-id-1 div.sk-parallel-item:last-child::after {align-self: flex-start;width: 50%;}#sk-container-id-1 div.sk-parallel-item:only-child::after {width: 0;}#sk-container-id-1 div.sk-dashed-wrapped {border: 1px dashed gray;margin: 0 0.4em 0.5em 0.4em;box-sizing: border-box;padding-bottom: 0.4em;background-color: white;}#sk-container-id-1 div.sk-label label {font-family: monospace;font-weight: bold;display: inline-block;line-height: 1.2em;}#sk-container-id-1 div.sk-label-container {text-align: center;}#sk-container-id-1 div.sk-container {/* jupyter's `normalize.less` sets `[hidden] { display: none; }` but bootstrap.min.css set `[hidden] { display: none !important; }` so we also need the `!important` here to be able to override the default hidden behavior on the sphinx rendered scikit-learn.org. See: https://github.com/scikit-learn/scikit-learn/issues/21755 */display: inline-block !important;position: relative;}#sk-container-id-1 div.sk-text-repr-fallback {display: none;}</style><div id=\"sk-container-id-1\" class=\"sk-top-container\"><div class=\"sk-text-repr-fallback\"><pre>VotingClassifier(estimators=[(&#x27;lr&#x27;, LogisticRegression()),\n",
              "                             (&#x27;dt&#x27;, DecisionTreeClassifier()),\n",
              "                             (&#x27;rf&#x27;, RandomForestClassifier()),\n",
              "                             (&#x27;svm&#x27;, SVC(probability=True)),\n",
              "                             (&#x27;xgb&#x27;,\n",
              "                              XGBClassifier(base_score=None, booster=None,\n",
              "                                            callbacks=None,\n",
              "                                            colsample_bylevel=None,\n",
              "                                            colsample_bynode=None,\n",
              "                                            colsample_bytree=None, device=None,\n",
              "                                            early_stopping_rounds=None,\n",
              "                                            enable_categorical=False,\n",
              "                                            eva...\n",
              "                                            importance_type=None,\n",
              "                                            interaction_constraints=None,\n",
              "                                            learning_rate=None, max_bin=None,\n",
              "                                            max_cat_threshold=None,\n",
              "                                            max_cat_to_onehot=None,\n",
              "                                            max_delta_step=None, max_depth=None,\n",
              "                                            max_leaves=None,\n",
              "                                            min_child_weight=None, missing=nan,\n",
              "                                            monotone_constraints=None,\n",
              "                                            multi_strategy=None,\n",
              "                                            n_estimators=None, n_jobs=None,\n",
              "                                            num_parallel_tree=None,\n",
              "                                            random_state=None, ...))],\n",
              "                 voting=&#x27;soft&#x27;)</pre><b>In a Jupyter environment, please rerun this cell to show the HTML representation or trust the notebook. <br />On GitHub, the HTML representation is unable to render, please try loading this page with nbviewer.org.</b></div><div class=\"sk-container\" hidden><div class=\"sk-item sk-dashed-wrapped\"><div class=\"sk-label-container\"><div class=\"sk-label sk-toggleable\"><input class=\"sk-toggleable__control sk-hidden--visually\" id=\"sk-estimator-id-1\" type=\"checkbox\" ><label for=\"sk-estimator-id-1\" class=\"sk-toggleable__label sk-toggleable__label-arrow\">VotingClassifier</label><div class=\"sk-toggleable__content\"><pre>VotingClassifier(estimators=[(&#x27;lr&#x27;, LogisticRegression()),\n",
              "                             (&#x27;dt&#x27;, DecisionTreeClassifier()),\n",
              "                             (&#x27;rf&#x27;, RandomForestClassifier()),\n",
              "                             (&#x27;svm&#x27;, SVC(probability=True)),\n",
              "                             (&#x27;xgb&#x27;,\n",
              "                              XGBClassifier(base_score=None, booster=None,\n",
              "                                            callbacks=None,\n",
              "                                            colsample_bylevel=None,\n",
              "                                            colsample_bynode=None,\n",
              "                                            colsample_bytree=None, device=None,\n",
              "                                            early_stopping_rounds=None,\n",
              "                                            enable_categorical=False,\n",
              "                                            eva...\n",
              "                                            importance_type=None,\n",
              "                                            interaction_constraints=None,\n",
              "                                            learning_rate=None, max_bin=None,\n",
              "                                            max_cat_threshold=None,\n",
              "                                            max_cat_to_onehot=None,\n",
              "                                            max_delta_step=None, max_depth=None,\n",
              "                                            max_leaves=None,\n",
              "                                            min_child_weight=None, missing=nan,\n",
              "                                            monotone_constraints=None,\n",
              "                                            multi_strategy=None,\n",
              "                                            n_estimators=None, n_jobs=None,\n",
              "                                            num_parallel_tree=None,\n",
              "                                            random_state=None, ...))],\n",
              "                 voting=&#x27;soft&#x27;)</pre></div></div></div><div class=\"sk-parallel\"><div class=\"sk-parallel-item\"><div class=\"sk-item\"><div class=\"sk-label-container\"><div class=\"sk-label sk-toggleable\"><label>lr</label></div></div><div class=\"sk-serial\"><div class=\"sk-item\"><div class=\"sk-estimator sk-toggleable\"><input class=\"sk-toggleable__control sk-hidden--visually\" id=\"sk-estimator-id-2\" type=\"checkbox\" ><label for=\"sk-estimator-id-2\" class=\"sk-toggleable__label sk-toggleable__label-arrow\">LogisticRegression</label><div class=\"sk-toggleable__content\"><pre>LogisticRegression()</pre></div></div></div></div></div></div><div class=\"sk-parallel-item\"><div class=\"sk-item\"><div class=\"sk-label-container\"><div class=\"sk-label sk-toggleable\"><label>dt</label></div></div><div class=\"sk-serial\"><div class=\"sk-item\"><div class=\"sk-estimator sk-toggleable\"><input class=\"sk-toggleable__control sk-hidden--visually\" id=\"sk-estimator-id-3\" type=\"checkbox\" ><label for=\"sk-estimator-id-3\" class=\"sk-toggleable__label sk-toggleable__label-arrow\">DecisionTreeClassifier</label><div class=\"sk-toggleable__content\"><pre>DecisionTreeClassifier()</pre></div></div></div></div></div></div><div class=\"sk-parallel-item\"><div class=\"sk-item\"><div class=\"sk-label-container\"><div class=\"sk-label sk-toggleable\"><label>rf</label></div></div><div class=\"sk-serial\"><div class=\"sk-item\"><div class=\"sk-estimator sk-toggleable\"><input class=\"sk-toggleable__control sk-hidden--visually\" id=\"sk-estimator-id-4\" type=\"checkbox\" ><label for=\"sk-estimator-id-4\" class=\"sk-toggleable__label sk-toggleable__label-arrow\">RandomForestClassifier</label><div class=\"sk-toggleable__content\"><pre>RandomForestClassifier()</pre></div></div></div></div></div></div><div class=\"sk-parallel-item\"><div class=\"sk-item\"><div class=\"sk-label-container\"><div class=\"sk-label sk-toggleable\"><label>svm</label></div></div><div class=\"sk-serial\"><div class=\"sk-item\"><div class=\"sk-estimator sk-toggleable\"><input class=\"sk-toggleable__control sk-hidden--visually\" id=\"sk-estimator-id-5\" type=\"checkbox\" ><label for=\"sk-estimator-id-5\" class=\"sk-toggleable__label sk-toggleable__label-arrow\">SVC</label><div class=\"sk-toggleable__content\"><pre>SVC(probability=True)</pre></div></div></div></div></div></div><div class=\"sk-parallel-item\"><div class=\"sk-item\"><div class=\"sk-label-container\"><div class=\"sk-label sk-toggleable\"><label>xgb</label></div></div><div class=\"sk-serial\"><div class=\"sk-item\"><div class=\"sk-estimator sk-toggleable\"><input class=\"sk-toggleable__control sk-hidden--visually\" id=\"sk-estimator-id-6\" type=\"checkbox\" ><label for=\"sk-estimator-id-6\" class=\"sk-toggleable__label sk-toggleable__label-arrow\">XGBClassifier</label><div class=\"sk-toggleable__content\"><pre>XGBClassifier(base_score=None, booster=None, callbacks=None,\n",
              "              colsample_bylevel=None, colsample_bynode=None,\n",
              "              colsample_bytree=None, device=None, early_stopping_rounds=None,\n",
              "              enable_categorical=False, eval_metric=&#x27;logloss&#x27;,\n",
              "              feature_types=None, gamma=None, grow_policy=None,\n",
              "              importance_type=None, interaction_constraints=None,\n",
              "              learning_rate=None, max_bin=None, max_cat_threshold=None,\n",
              "              max_cat_to_onehot=None, max_delta_step=None, max_depth=None,\n",
              "              max_leaves=None, min_child_weight=None, missing=nan,\n",
              "              monotone_constraints=None, multi_strategy=None, n_estimators=None,\n",
              "              n_jobs=None, num_parallel_tree=None, random_state=None, ...)</pre></div></div></div></div></div></div></div></div></div></div>"
            ]
          },
          "metadata": {},
          "execution_count": 15
        }
      ]
    },
    {
      "cell_type": "code",
      "source": [
        "y_pred_ensemble = ensemble_model.predict(x_test)\n",
        "y_pred_proba_ensemble = ensemble_model.predict_proba(x_test)"
      ],
      "metadata": {
        "id": "V673WEpmWhUi"
      },
      "execution_count": null,
      "outputs": []
    },
    {
      "cell_type": "code",
      "source": [
        "train_acc4 = ensemble_model.score(X_resampled, y_resampled)\n",
        "test_acc4 = accuracy_score(y_test , y_pred_ensemble)"
      ],
      "metadata": {
        "id": "_4-YJIjfCiHe"
      },
      "execution_count": null,
      "outputs": []
    },
    {
      "cell_type": "markdown",
      "source": [
        "## METRICS EVALUATION"
      ],
      "metadata": {
        "id": "9YdT8Jvj1DRE"
      }
    },
    {
      "cell_type": "code",
      "source": [
        "print(train_acc4)\n",
        "print(test_acc4)"
      ],
      "metadata": {
        "colab": {
          "base_uri": "https://localhost:8080/"
        },
        "id": "mmT0dAyrCwi6",
        "outputId": "6b94da4e-7037-4068-f7f4-303255442829"
      },
      "execution_count": null,
      "outputs": [
        {
          "output_type": "stream",
          "name": "stdout",
          "text": [
            "1.0\n",
            "0.9833333333333333\n"
          ]
        }
      ]
    },
    {
      "cell_type": "code",
      "source": [
        "cm = confusion_matrix(y_test, y_pred_ensemble)\n",
        "\n",
        "plt.figure(figsize=(8, 6))\n",
        "sns.heatmap(cm, annot=True, fmt=\"d\", cmap=\"Blues\", cbar=False)\n",
        "plt.title(\"Confusion Matrix - Model Ensemble\")\n",
        "plt.xlabel(\"Predicted Labels\")\n",
        "plt.ylabel(\"True Labels\")\n",
        "plt.show()"
      ],
      "metadata": {
        "colab": {
          "base_uri": "https://localhost:8080/",
          "height": 564
        },
        "id": "ezaI0SVNWpS8",
        "outputId": "01850698-1d30-4cb0-8d5e-a2de846b4692"
      },
      "execution_count": null,
      "outputs": [
        {
          "output_type": "display_data",
          "data": {
            "text/plain": [
              "<Figure size 800x600 with 1 Axes>"
            ],
            "image/png": "[encoded data removed]"
          },
          "metadata": {}
        }
      ]
    },
    {
      "cell_type": "code",
      "source": [
        "print(classification_report(y_test, y_pred_ensemble))"
      ],
      "metadata": {
        "colab": {
          "base_uri": "https://localhost:8080/"
        },
        "id": "faHM_fxrWunB",
        "outputId": "1059b9eb-90f4-41e8-8e8c-89e5671887d9"
      },
      "execution_count": null,
      "outputs": [
        {
          "output_type": "stream",
          "name": "stdout",
          "text": [
            "              precision    recall  f1-score   support\n",
            "\n",
            "           0       1.00      0.75      0.86        12\n",
            "           1       0.98      1.00      0.99       168\n",
            "\n",
            "    accuracy                           0.98       180\n",
            "   macro avg       0.99      0.88      0.92       180\n",
            "weighted avg       0.98      0.98      0.98       180\n",
            "\n"
          ]
        }
      ]
    },
    {
      "cell_type": "markdown",
      "source": [
        "## TESTING MODEL"
      ],
      "metadata": {
        "id": "OgxmuSHy1HOR"
      }
    },
    {
      "cell_type": "code",
      "source": [
        "def analyze_sentiment(text):\n",
        "    text_vectorized = vectorizer.transform([text]).toarray()\n",
        "    prediction = ensemble_model.predict(text_vectorized)\n",
        "    if prediction >= 0.5:\n",
        "        return \"Rawan\"\n",
        "    else:\n",
        "        return \"Tidak Rawan\"\n",
        "\n",
        "# Input teks dari pengguna\n",
        "input_text = input(\"Enter your text: \")\n",
        "\n",
        "# Analisis sentimen\n",
        "sentiment = analyze_sentiment(input_text)\n",
        "print(\"Sentiment:\", sentiment)"
      ],
      "metadata": {
        "colab": {
          "base_uri": "https://localhost:8080/"
        },
        "id": "_seqcJLX0hor",
        "outputId": "40a7b564-d7ff-4c4a-abaa-1329838f5151"
      },
      "execution_count": null,
      "outputs": [
        {
          "output_type": "stream",
          "name": "stdout",
          "text": [
            "Enter your text: malam ini banyak klitih yang berkeliaran di jalan\n",
            "Sentiment: Rawan\n"
          ]
        }
      ]
    },
    {
      "cell_type": "code",
      "source": [
        "def analyze_sentiment(text):\n",
        "    text_vectorized = vectorizer.transform([text]).toarray()\n",
        "    prediction = ensemble_model.predict(text_vectorized)\n",
        "    if prediction >= 0.5:\n",
        "        return \"Rawan\"\n",
        "    else:\n",
        "        return \"Tidak Rawan\"\n",
        "\n",
        "# Input teks dari pengguna\n",
        "input_text = input(\"Enter your text: \")\n",
        "\n",
        "# Analisis sentimen\n",
        "sentiment = analyze_sentiment(input_text)\n",
        "print(\"Sentiment:\", sentiment)"
      ],
      "metadata": {
        "colab": {
          "base_uri": "https://localhost:8080/"
        },
        "id": "5rJh_Hyx4Wsz",
        "outputId": "a090ae36-5df8-4000-b61b-0b984eed8195"
      },
      "execution_count": null,
      "outputs": [
        {
          "output_type": "stream",
          "name": "stdout",
          "text": [
            "Enter your text: yogyakarta aman dan nyaman untuk dikunjungi\n",
            "Sentiment: Tidak Rawan\n"
          ]
        }
      ]
    }
  ]
}